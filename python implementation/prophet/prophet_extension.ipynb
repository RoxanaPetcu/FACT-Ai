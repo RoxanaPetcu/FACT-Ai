{
 "cells": [
  {
   "cell_type": "markdown",
   "id": "fe831933",
   "metadata": {},
   "source": [
    "# Prophet extension"
   ]
  },
  {
   "cell_type": "code",
   "execution_count": 8,
   "id": "662d8830",
   "metadata": {},
   "outputs": [],
   "source": [
    "from ipynb.fs.defs.prophet import generateDistribution, Finv\n",
    "import pandas as pd\n",
    "import numpy as np\n",
    "from tqdm import tqdm # for the progress bar\n",
    "from statistics import mean\n",
    "import matplotlib.pyplot as plt\n",
    "import dataframe_image as dfi"
   ]
  },
  {
   "cell_type": "code",
   "execution_count": 9,
   "id": "e2118a3d",
   "metadata": {},
   "outputs": [],
   "source": [
    "def FairGeneralProphetExtended(q, V, distribution_type, epsilon):\n",
    "    s = 0.0\n",
    "    n = len(V)\n",
    "    for i in range(0,n): #value < 1 reaches a drop!\n",
    "        p = (1- (q[i]/2)/(epsilon-(s/2)))\n",
    "        if V[i] >= Finv(distribution_type, p):\n",
    "            return i\n",
    "        s += q[i]\n",
    "\n",
    "def FairIIDProphetExtended(V, distribution_type, epsilon):\n",
    "    n = len(V)\n",
    "    for i in range(0, n):\n",
    "        p = 1 - (2/(3*n)) / (epsilon - 2*(i-1)/(3*n))\n",
    "        if V[i] >= Finv(distribution_type, p):\n",
    "                 return i\n",
    "        \n",
    "def runExperimentExtended(algorithm, N_experimentReps, distribution_type, n_candidates, epsilon):\n",
    "    arrivalPositionsChosen, chosenValues, chosenValuesExcludeNone = [0]*n_candidates, [], []\n",
    "    nones = 0\n",
    "    for _ in tqdm(range(0, N_experimentReps)):\n",
    "        q, Values = generateDistribution(distribution_type, n_candidates)\n",
    "        \n",
    "        if algorithm == \"FairGeneralProphet\":\n",
    "                result = FairGeneralProphetExtended(q, Values, distribution_type, epsilon)\n",
    "        elif algorithm == \"FairIIDProphet\":\n",
    "                result = FairIIDProphetExtended(Values, distribution_type, epsilon)\n",
    "        if result != None:\n",
    "            arrivalPositionsChosen[result] += 1\n",
    "            chosenValues.append(Values[result])\n",
    "            chosenValuesExcludeNone.append(Values[result])\n",
    "            \n",
    "        if result == None: \n",
    "            chosenValues.append(0)\n",
    "            nones += 1     \n",
    "        \n",
    "    noneRate = nones/N_experimentReps\n",
    "        \n",
    "    return noneRate, mean(chosenValues), mean(chosenValuesExcludeNone), arrivalPositionsChosen"
   ]
  },
  {
   "cell_type": "code",
   "execution_count": 4,
   "id": "299ed8e3",
   "metadata": {},
   "outputs": [
    {
     "name": "stderr",
     "output_type": "stream",
     "text": [
      "100%|██████████| 50000/50000 [00:08<00:00, 6015.80it/s]\n",
      "100%|██████████| 50000/50000 [00:09<00:00, 5381.21it/s]\n",
      "100%|██████████| 50000/50000 [00:09<00:00, 5221.58it/s]\n",
      "100%|██████████| 50000/50000 [00:09<00:00, 5130.51it/s]\n"
     ]
    },
    {
     "data": {
      "image/png": "[encoded data removed]",
      "text/plain": [
       "<Figure size 432x288 with 1 Axes>"
      ]
     },
     "metadata": {
      "needs_background": "light"
     },
     "output_type": "display_data"
    }
   ],
   "source": [
    "#Fair general prophet Uniform distribution\n",
    "df = pd.DataFrame(columns=['epsilon', 'None rate', \"Mean value (None=0)\", \"Mean value (excluding None)\"])\n",
    "for param in np.arange(0.3, 1.2, .25):\n",
    "    nonerate, avg_include, avg_exclude, chosen_positions = runExperimentExtended(algorithm=\"FairGeneralProphet\", \n",
    "                                                                                 N_experimentReps=50000,\n",
    "                                                                                 distribution_type=\"uniform\", \n",
    "                                                                                 n_candidates=50, \n",
    "                                                                                 epsilon=param\n",
    "                                                                                )\n",
    "    \n",
    "    a_series = pd.Series([param,nonerate,avg_include,avg_exclude], index = df.columns)\n",
    "    df = df.append(a_series, ignore_index=True)\n",
    "\n",
    "    plt.plot(range(0,50), chosen_positions, label= str(\"γ = \" + str(param)))\n",
    "plt.xlabel(\"Arrival position\")\n",
    "plt.ylabel(\"Num Picked\")\n",
    "plt.legend(bbox_to_anchor=(0,1.02,1,0.2), loc=\"lower left\",\n",
    "                mode=\"expand\", borderaxespad=0, ncol=2)\n",
    "plt.savefig(\"images/extensionFairPA_uniform.png\")\n",
    "dfi.export(df, 'images/extenstionFairPA_table_uniform.png')"
   ]
  },
  {
   "cell_type": "code",
   "execution_count": 5,
   "id": "c4c37549",
   "metadata": {},
   "outputs": [
    {
     "data": {
      "text/html": [
       "<div>\n",
       "<style scoped>\n",
       "    .dataframe tbody tr th:only-of-type {\n",
       "        vertical-align: middle;\n",
       "    }\n",
       "\n",
       "    .dataframe tbody tr th {\n",
       "        vertical-align: top;\n",
       "    }\n",
       "\n",
       "    .dataframe thead th {\n",
       "        text-align: right;\n",
       "    }\n",
       "</style>\n",
       "<table border=\"1\" class=\"dataframe\">\n",
       "  <thead>\n",
       "    <tr style=\"text-align: right;\">\n",
       "      <th></th>\n",
       "      <th>epsilon</th>\n",
       "      <th>None rate</th>\n",
       "      <th>Mean value (None=0)</th>\n",
       "      <th>Mean value (excluding None)</th>\n",
       "    </tr>\n",
       "  </thead>\n",
       "  <tbody>\n",
       "    <tr>\n",
       "      <th>0</th>\n",
       "      <td>0.30</td>\n",
       "      <td>0.00000</td>\n",
       "      <td>0.933174</td>\n",
       "      <td>0.933174</td>\n",
       "    </tr>\n",
       "    <tr>\n",
       "      <th>1</th>\n",
       "      <td>0.55</td>\n",
       "      <td>0.08986</td>\n",
       "      <td>0.889360</td>\n",
       "      <td>0.977168</td>\n",
       "    </tr>\n",
       "    <tr>\n",
       "      <th>2</th>\n",
       "      <td>0.80</td>\n",
       "      <td>0.37360</td>\n",
       "      <td>0.620290</td>\n",
       "      <td>0.990246</td>\n",
       "    </tr>\n",
       "    <tr>\n",
       "      <th>3</th>\n",
       "      <td>1.05</td>\n",
       "      <td>0.52288</td>\n",
       "      <td>0.474033</td>\n",
       "      <td>0.993531</td>\n",
       "    </tr>\n",
       "  </tbody>\n",
       "</table>\n",
       "</div>"
      ],
      "text/plain": [
       "   epsilon  None rate  Mean value (None=0)  Mean value (excluding None)\n",
       "0     0.30    0.00000             0.933174                     0.933174\n",
       "1     0.55    0.08986             0.889360                     0.977168\n",
       "2     0.80    0.37360             0.620290                     0.990246\n",
       "3     1.05    0.52288             0.474033                     0.993531"
      ]
     },
     "execution_count": 5,
     "metadata": {},
     "output_type": "execute_result"
    }
   ],
   "source": [
    "df"
   ]
  },
  {
   "cell_type": "code",
   "execution_count": null,
   "id": "69c1aa3e",
   "metadata": {},
   "outputs": [
    {
     "name": "stderr",
     "output_type": "stream",
     "text": [
      "  2%|▏         | 1111/50000 [01:19<47:58, 16.98it/s]  "
     ]
    }
   ],
   "source": [
    "#Fair general prophet Binomial distribution\n",
    "df = pd.DataFrame(columns=['epsilon', 'None rate', \"Mean value (None=0)\", \"Mean value (excluding None)\"])\n",
    "for param in np.arange(0.3, 1.2, .25):\n",
    "    nonerate, avg_include, avg_exclude, chosen_positions = runExperimentExtended(algorithm=\"FairGeneralProphet\", \n",
    "                                                                                 N_experimentReps=50000,\n",
    "                                                                                 distribution_type=\"binomial\", \n",
    "                                                                                 n_candidates=1000, \n",
    "                                                                                 epsilon=param\n",
    "                                                                                )\n",
    "    \n",
    "    a_series = pd.Series([param,nonerate,avg_include,avg_exclude], index = df.columns)\n",
    "    df = df.append(a_series, ignore_index=True)\n",
    "\n",
    "    plt.plot(range(0,1000), chosen_positions, label= str(\"γ = \" + str(param)))\n",
    "plt.xlabel(\"Arrival position\")\n",
    "plt.ylabel(\"Num Picked\")\n",
    "plt.legend(bbox_to_anchor=(0,1.02,1,0.2), loc=\"lower left\",\n",
    "                mode=\"expand\", borderaxespad=0, ncol=2)\n",
    "# plt.savefig(\"images/extensionFairPA_binomial.png\")\n",
    "# dfi.export(df, 'images/extenstionFairPA_table_binomial.png')"
   ]
  },
  {
   "cell_type": "code",
   "execution_count": 31,
   "id": "bd5b817d",
   "metadata": {},
   "outputs": [
    {
     "name": "stderr",
     "output_type": "stream",
     "text": [
      "100%|██████████| 50000/50000 [00:04<00:00, 12142.91it/s]\n",
      "100%|██████████| 50000/50000 [00:04<00:00, 11760.30it/s]\n",
      "100%|██████████| 50000/50000 [00:04<00:00, 10690.63it/s]\n",
      "100%|██████████| 50000/50000 [00:05<00:00, 9323.53it/s] \n"
     ]
    },
    {
     "data": {
      "image/png": "[encoded data removed]",
      "text/plain": [
       "<Figure size 432x288 with 1 Axes>"
      ]
     },
     "metadata": {
      "needs_background": "light"
     },
     "output_type": "display_data"
    }
   ],
   "source": [
    "#Fair IID prophet Uniform distribution\n",
    "df = pd.DataFrame(columns=['epsilon', 'None rate', \"Mean value (None=0)\", \"Mean value (excluding None)\"])\n",
    "for param in np.arange(0.5, 1.5, .25):\n",
    "    nonerate, avg_include, avg_exclude, chosen_positions = runExperimentExtended(algorithm=\"FairIIDProphet\", \n",
    "                                                                                 N_experimentReps=50000,\n",
    "                                                                                 distribution_type=\"uniform\", \n",
    "                                                                                 n_candidates=50, \n",
    "                                                                                 epsilon=param\n",
    "                                                                                )\n",
    "    \n",
    "    a_series = pd.Series([param,nonerate,avg_include,avg_exclude], index = df.columns)\n",
    "    df = df.append(a_series, ignore_index=True)\n",
    "    plt.plot(range(0,50), chosen_positions, label= str(\"γ = \" + str(param)))\n",
    "    \n",
    "plt.xlabel(\"Arrival position\")\n",
    "plt.ylabel(\"Num Picked\")\n",
    "plt.legend(bbox_to_anchor=(0,1.02,1,0.2), loc=\"lower left\",\n",
    "                mode=\"expand\", borderaxespad=0, ncol=2)\n",
    "plt.savefig(\"images/extensionFairIID_table_uniform.png\")\n",
    "dfi.export(df, \"images/extenstionFairIID_table_uniform.png\")"
   ]
  },
  {
   "cell_type": "code",
   "execution_count": null,
   "id": "dc64e164",
   "metadata": {},
   "outputs": [],
   "source": [
    "#Fair IID prophet Binomial distribution\n",
    "df = pd.DataFrame(columns=['epsilon', 'None rate', \"Mean value (None=0)\", \"Mean value (excluding None)\"])\n",
    "for param in np.arange(0.5, 1.5, .25):\n",
    "    nonerate, avg_include, avg_exclude, chosen_positions = runExperimentExtended(algorithm=\"FairIIDProphet\", \n",
    "                                                                                 N_experimentReps=50000,\n",
    "                                                                                 distribution_type=\"binomial\", \n",
    "                                                                                 n_candidates=1000, \n",
    "                                                                                 epsilon=param\n",
    "                                                                                )\n",
    "    \n",
    "    a_series = pd.Series([param,nonerate,avg_include,avg_exclude], index = df.columns)\n",
    "    df = df.append(a_series, ignore_index=True)\n",
    "    plt.plot(range(0,1000), chosen_positions, label= str(\"γ = \" + str(param)))\n",
    "    \n",
    "plt.xlabel(\"Arrival position\")\n",
    "plt.ylabel(\"Num Picked\")\n",
    "plt.legend(bbox_to_anchor=(0,1.02,1,0.2), loc=\"lower left\",\n",
    "                mode=\"expand\", borderaxespad=0, ncol=2)\n",
    "# plt.savefig(\"images/extensionFairIID_table_binomial.png\")\n",
    "# dfi.export(df, \"images/extenstionFairIID_table_binomial.png\")"
   ]
  },
  {
   "cell_type": "markdown",
   "id": "b023943e",
   "metadata": {},
   "source": [
    "## Running the significance test for the extension, uniform distribution"
   ]
  },
  {
   "cell_type": "markdown",
   "id": "e8cfd8d6",
   "metadata": {},
   "source": [
    "_Output is two lists of 10x the avgInclude for the two groups. Group 1 is PaperValue, Group 2 is ourExtensionValue, for both FairProphet and FairIID._"
   ]
  },
  {
   "cell_type": "code",
   "execution_count": null,
   "id": "f2be1768",
   "metadata": {},
   "outputs": [
    {
     "name": "stderr",
     "output_type": "stream",
     "text": [
      "100%|██████████| 50000/50000 [00:08<00:00, 6199.60it/s]\n",
      "100%|██████████| 50000/50000 [00:06<00:00, 7834.17it/s]\n",
      "100%|██████████| 50000/50000 [00:07<00:00, 7033.96it/s]\n",
      "100%|██████████| 50000/50000 [00:08<00:00, 5741.98it/s]\n",
      "100%|██████████| 50000/50000 [00:16<00:00, 3048.91it/s]\n",
      "100%|██████████| 50000/50000 [00:06<00:00, 7664.86it/s]\n",
      "100%|██████████| 50000/50000 [00:10<00:00, 4976.49it/s]\n",
      "100%|██████████| 50000/50000 [00:11<00:00, 4481.92it/s]\n",
      "100%|██████████| 50000/50000 [00:07<00:00, 6488.85it/s]\n",
      "100%|██████████| 50000/50000 [00:07<00:00, 7030.94it/s]\n",
      "100%|██████████| 50000/50000 [00:14<00:00, 3568.62it/s]\n",
      "100%|██████████| 50000/50000 [00:08<00:00, 5960.10it/s]\n",
      "100%|██████████| 50000/50000 [00:08<00:00, 5709.51it/s]\n",
      "100%|██████████| 50000/50000 [00:06<00:00, 7369.07it/s]\n",
      "100%|██████████| 50000/50000 [00:09<00:00, 5109.94it/s]\n",
      "100%|██████████| 50000/50000 [00:17<00:00, 2835.70it/s]\n",
      "100%|██████████| 50000/50000 [00:06<00:00, 7444.20it/s]\n",
      "100%|██████████| 50000/50000 [00:09<00:00, 5323.06it/s]\n",
      "100%|██████████| 50000/50000 [00:11<00:00, 4323.20it/s]\n",
      "100%|██████████| 50000/50000 [00:07<00:00, 7075.95it/s]\n",
      "100%|██████████| 50000/50000 [00:06<00:00, 7936.74it/s]\n",
      "100%|██████████| 50000/50000 [00:06<00:00, 8172.49it/s]\n",
      "100%|██████████| 50000/50000 [00:06<00:00, 8009.05it/s]\n",
      "100%|██████████| 50000/50000 [00:10<00:00, 4589.08it/s]\n",
      "100%|██████████| 50000/50000 [00:09<00:00, 5468.25it/s]\n",
      "100%|██████████| 50000/50000 [00:06<00:00, 7293.91it/s]\n",
      "100%|██████████| 50000/50000 [00:13<00:00, 3614.54it/s]\n",
      "100%|██████████| 50000/50000 [00:13<00:00, 3753.13it/s]\n",
      "100%|██████████| 50000/50000 [00:07<00:00, 6712.48it/s]\n",
      "100%|██████████| 50000/50000 [00:06<00:00, 7686.00it/s]\n",
      "100%|██████████| 50000/50000 [00:06<00:00, 7341.02it/s]\n",
      "100%|██████████| 50000/50000 [00:05<00:00, 8346.04it/s]\n",
      "100%|██████████| 50000/50000 [00:06<00:00, 7558.84it/s]\n",
      "100%|██████████| 50000/50000 [00:06<00:00, 7603.57it/s]\n",
      "100%|██████████| 50000/50000 [00:06<00:00, 8144.91it/s]\n",
      "100%|██████████| 50000/50000 [00:06<00:00, 7971.16it/s]\n",
      "100%|██████████| 50000/50000 [00:06<00:00, 8069.62it/s]\n",
      "100%|██████████| 50000/50000 [00:06<00:00, 8113.66it/s]\n",
      "100%|██████████| 50000/50000 [00:07<00:00, 7013.31it/s]\n",
      " 61%|██████    | 30335/50000 [00:06<00:05, 3434.87it/s]"
     ]
    }
   ],
   "source": [
    "FairProphetPA_PaperValue, FairProphetPA_ExtensionValue = [], []\n",
    "FairProphetIID_PaperValue, FairProphetIID_ExtensionValue = [], []\n",
    "\n",
    "FairProphetPA_PaperParameter = 1\n",
    "FairProphetIID_PaperParameter = 1\n",
    "FairProphetPA_ExtensionParameter = .55\n",
    "FairProphetIID_ExtensionParameter = .75\n",
    "\n",
    "for i in range(0, 10):\n",
    "    _, avg_include, _, _ = runExperimentExtended(algorithm=\"FairGeneralProphet\", \n",
    "                                                                                     N_experimentReps=50000,\n",
    "                                                                                     distribution_type=\"uniform\", \n",
    "                                                                                     n_candidates=50, \n",
    "                                                                                     epsilon=FairProphetPA_PaperParameter\n",
    "                                                                                    )\n",
    "    FairProphetPA_PaperValue.append(avg_include)\n",
    "    \n",
    "    _, avg_include, _, _ = runExperimentExtended(algorithm=\"FairGeneralProphet\", \n",
    "                                                                                     N_experimentReps=50000,\n",
    "                                                                                     distribution_type=\"uniform\", \n",
    "                                                                                     n_candidates=50, \n",
    "                                                                                     epsilon=FairProphetPA_ExtensionParameter\n",
    "                                                                                    )\n",
    "    FairProphetPA_ExtensionValue.append(avg_include)\n",
    "    \n",
    "    \n",
    "for i in range(0, 10):\n",
    "    _, avg_include, _, _ = runExperimentExtended(algorithm=\"FairIIDProphet\", \n",
    "                                                                                     N_experimentReps=50000,\n",
    "                                                                                     distribution_type=\"uniform\", \n",
    "                                                                                     n_candidates=50, \n",
    "                                                                                     epsilon=FairProphetIID_PaperParameter\n",
    "                                                                                    )\n",
    "    FairProphetIID_PaperValue.append(avg_include)\n",
    "    \n",
    "    _, avg_include, _, _ = runExperimentExtended(algorithm=\"FairIIDProphet\", \n",
    "                                                                                     N_experimentReps=50000,\n",
    "                                                                                     distribution_type=\"uniform\", \n",
    "                                                                                     n_candidates=50, \n",
    "                                                                                     epsilon=FairProphetIID_ExtensionParameter\n",
    "                                                                                    )\n",
    "    FairProphetIID_ExtensionValue.append(avg_include)\n",
    "    \n"
   ]
  },
  {
   "cell_type": "code",
   "execution_count": null,
   "id": "159dc38b",
   "metadata": {},
   "outputs": [],
   "source": []
  }
 ],
 "metadata": {
  "jupytext": {
   "encoding": "# -*- coding: utf-8 -*-",
   "text_representation": {
    "extension": ".py",
    "format_name": "percent",
    "format_version": "1.3",
    "jupytext_version": "1.12.0"
   }
  },
  "kernelspec": {
   "display_name": "Python 3",
   "language": "python",
   "name": "python3"
  },
  "language_info": {
   "codemirror_mode": {
    "name": "ipython",
    "version": 3
   },
   "file_extension": ".py",
   "mimetype": "text/x-python",
   "name": "python",
   "nbconvert_exporter": "python",
   "pygments_lexer": "ipython3",
   "version": "3.8.8"
  }
 },
 "nbformat": 4,
 "nbformat_minor": 5
}
