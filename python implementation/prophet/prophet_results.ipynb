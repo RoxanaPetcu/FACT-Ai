{
 "cells": [
  {
   "cell_type": "markdown",
   "id": "6a5db6fd",
   "metadata": {},
   "source": [
    "# Prophet results"
   ]
  },
  {
   "cell_type": "markdown",
   "id": "6f0b9117",
   "metadata": {},
   "source": [
    "_This notebook contains all the results used in the paper. For their imlplementation please refer to the prophet notebook itself. Furthermore please make sure to install ipynb by running:_ `pip install ipynb dataframe_image tqdm`\n"
   ]
  },
  {
   "cell_type": "code",
   "execution_count": 1,
   "id": "7bd9eab5",
   "metadata": {},
   "outputs": [],
   "source": [
    "from ipynb.fs.defs.prophet import runExperiment\n",
    "import matplotlib.pyplot as plt\n",
    "from statistics import mean\n",
    "from numpy import load, save\n",
    "import dataframe_image as dfi\n",
    "import matplotlib.pyplot as plt\n",
    "import pandas as pd"
   ]
  },
  {
   "cell_type": "code",
   "execution_count": null,
   "id": "83e09b3d",
   "metadata": {
    "lines_to_next_cell": 2
   },
   "outputs": [
    {
     "name": "stderr",
     "output_type": "stream",
     "text": [
      "100%|██████████| 50000/50000 [00:12<00:00, 4165.98it/s]\n",
      "100%|██████████| 50000/50000 [00:05<00:00, 8717.59it/s] \n",
      "100%|██████████| 50000/50000 [00:04<00:00, 11455.93it/s]\n",
      "100%|██████████| 50000/50000 [00:04<00:00, 11243.23it/s]\n",
      "100%|██████████| 50000/50000 [02:15<00:00, 367.70it/s]\n",
      "100%|██████████| 50000/50000 [00:06<00:00, 8029.14it/s] \n",
      "100%|██████████| 100000/100000 [00:11<00:00, 8533.70it/s]\n",
      "100%|██████████| 100000/100000 [00:15<00:00, 6257.55it/s]\n",
      "100%|██████████| 100000/100000 [00:12<00:00, 8023.97it/s]\n",
      "100%|██████████| 100000/100000 [00:10<00:00, 9898.08it/s]\n",
      " 98%|█████████▊| 97731/100000 [03:58<00:04, 537.74it/s]"
     ]
    }
   ],
   "source": [
    "# Generating and importing all required data\n",
    "\n",
    "arrivalPositionsChosenFairPA_50k_uniform, FairPA_50k_uniform = runExperiment(algorithm=\"FairGeneralProphet\", N_experimentReps=50000, \n",
    "                                                distribution_type=\"uniform\", n_candidates=50)\n",
    "    \n",
    "arrivalPositionsChosenFairIID_50k_uniform, FairIID_50k_uniform = runExperiment(algorithm=\"FairIIDProphet\", N_experimentReps=50000, \n",
    "                                                distribution_type=\"uniform\", n_candidates=50)\n",
    "    \n",
    "arrivalPositionsChosenSC_50k_uniform, SC_50k_uniform = runExperiment(algorithm=\"SC\", N_experimentReps=50000, \n",
    "                                                distribution_type=\"uniform\", n_candidates=50)\n",
    "    \n",
    "arrivalPositionsChosenEHKS_50k_uniform, EHKS_50k_uniform = runExperiment(algorithm=\"EHKS\", N_experimentReps=50000, \n",
    "                                                distribution_type=\"uniform\", n_candidates=50)\n",
    "\n",
    "arrivalPositionsChosenCFHOV_50k_uniform, CFHOV_50k_uniform = runExperiment(algorithm=\"CFHOV\", N_experimentReps=50000, \n",
    "                                                distribution_type=\"uniform\", n_candidates=50)\n",
    "\n",
    "arrivalPositionsChosenDP_50k_uniform, DP_50k_uniform = runExperiment(algorithm=\"DP\", N_experimentReps=50000, \n",
    "                                                distribution_type=\"uniform\", n_candidates=50)\n",
    "\n",
    "## Now 100k experiments\n",
    "\n",
    "arrivalPositionsChosenFairPA_100k_uniform, FairPA_100k_uniform = runExperiment(algorithm=\"FairGeneralProphet\", N_experimentReps=50000*2, \n",
    "                                                distribution_type=\"uniform\", n_candidates=50)\n",
    "    \n",
    "arrivalPositionsChosenFairIID_100k_uniform, FairIID_100k_uniform = runExperiment(algorithm=\"FairIIDProphet\", N_experimentReps=50000*2, \n",
    "                                                distribution_type=\"uniform\", n_candidates=50)\n",
    "    \n",
    "arrivalPositionsChosenSC_100k_uniform, SC_100k_uniform = runExperiment(algorithm=\"SC\", N_experimentReps=50000*2, \n",
    "                                                distribution_type=\"uniform\", n_candidates=50)\n",
    "    \n",
    "arrivalPositionsChosenEHKS_100k_uniform, EHKS_100k_uniform = runExperiment(algorithm=\"EHKS\", N_experimentReps=50000*2, \n",
    "                                                distribution_type=\"uniform\", n_candidates=50)\n",
    "\n",
    "arrivalPositionsChosenCFHOV_100k_uniform, CFHOV_100k_uniform = runExperiment(algorithm=\"CFHOV\", N_experimentReps=50000*2, \n",
    "                                                distribution_type=\"uniform\", n_candidates=50)\n",
    "\n",
    "arrivalPositionsChosenDP_100k_uniform, DP_100k_uniform = runExperiment(algorithm=\"DP\", N_experimentReps=50000*2, \n",
    "                                                distribution_type=\"uniform\", n_candidates=50)\n",
    "\n",
    "# All binomial cases are imported due to computational time\n",
    "# please refer to the prohet_generate_data.ipynb for generation of this data\n",
    "\n",
    "#Now importing the binomial cases 50k\n",
    "arrivalPositionsChosenFairPA_50k_binomial, FairPA_50k_binomial = load('data/FairPA_positions.npy'), load('data/FairPA_values.npy')\n",
    "arrivalPositionsChosenFairIID_50k_binomial, FairIID_50k_binomial = load('data/FairIID_positions.npy'), load('data/FairIID_values.npy')\n",
    "arrivalPositionsChosenSC_50k_binomial, SC_50k_binomial = load('data/SC_positions.npy'), load('data/SC_values.npy')\n",
    "arrivalPositionsChosenEHKS_50k_binomial, EHKS_50k_binomial = load('data/EHKS_positions.npy'), load('data/EHKS_values.npy')\n",
    "arrivalPositionsChosenCFHOV_50k_binomial, CFHOV_50k_binomial = load('data/CFHOV_positions.npy'), load('data/CFHOV_values.npy')\n",
    "arrivalPositionsChosenDP_50k_binomial, DP_50k_binomial = load('data/DP_positions.npy'), load('data/DP_values.npy')\n",
    "\n",
    "#Now importing the binomial cases 10k\n",
    "arrivalPositionsChosenFairPA_100k_binomial, FairPA_100k_binomial = load('data/FairPA_positions100k.npy'), load('data/FairPA_values100k.npy')\n",
    "arrivalPositionsChosenFairIID_100k_binomial, FairIID_100k_binomial = load('data/FairIID_positions100k.npy'), load('data/FairIID_values100k.npy')\n",
    "arrivalPositionsChosenSC_100k_binomial, SC_100k_binomial = load('data/SC_positions100k.npy'), load('data/SC_values100k.npy')\n",
    "arrivalPositionsChosenEHKS_100k_binomial, EHKS_100k_binomial = load('data/EHKS_positions100k.npy'), load('data/EHKS_values100k.npy')\n",
    "arrivalPositionsChosenCFHOV_100k_binomial, CFHOV_100k_binomial = load('data/CFHOV_positions100k.npy'), load('data/CFHOV_values100k.npy')\n",
    "arrivalPositionsChosenDP_100k_binomial, DP_100k_binomial = load('data/DP_positions100k.npy'), load('data/DP_values100k.npy')"
   ]
  },
  {
   "cell_type": "markdown",
   "id": "40dfc805",
   "metadata": {},
   "source": [
    "## Generating plots for the prophet problem"
   ]
  },
  {
   "cell_type": "code",
   "execution_count": null,
   "id": "476deed5",
   "metadata": {},
   "outputs": [],
   "source": [
    "plt.subplots_adjust(bottom=0.25)\n",
    "plt.rcParams[\"figure.figsize\"] = (8,3)\n",
    "plt.rcParams.update({'font.size': 14})\n",
    "plt.plot(range(0,50), arrivalPositionsChosenFairPA_50k_uniform, label=\"Fair PA\")\n",
    "plt.plot(range(0,50), arrivalPositionsChosenFairIID_50k_uniform, label=\"Fair IID\")\n",
    "plt.plot(range(0,50), arrivalPositionsChosenSC_50k_uniform, label=\"SC\")\n",
    "plt.plot(range(0,50), arrivalPositionsChosenEHKS_50k_uniform, label=\"EHKS\")\n",
    "# plt.plot(range(0,50), arrivalPositionsChosenDP_50k_uniform, label=\"DP\")\n",
    "plt.plot(range(0,50), arrivalPositionsChosenCFHOV_50k_uniform, label=\"CFHOV\")\n",
    "\n",
    "plt.grid(visible=True, linewidth=1)\n",
    "plt.xlabel(\"Arrival position\")\n",
    "plt.ylabel(\"Num Picked\")\n",
    "plt.rcParams.update({'font.size': 12})\n",
    "plt.legend(loc=\"upper left\", ncol=5)\n",
    "plt.savefig(\"images/uniform_distribution/50kExperiments_uniform.png\")"
   ]
  },
  {
   "cell_type": "code",
   "execution_count": null,
   "id": "062a48cc",
   "metadata": {},
   "outputs": [],
   "source": [
    "plt.subplots_adjust(bottom=0.25)\n",
    "plt.rcParams[\"figure.figsize\"] = (8,3)\n",
    "plt.rcParams.update({'font.size': 14})\n",
    "plt.plot(range(0,50), arrivalPositionsChosenFairPA_100k_uniform, label=\"Fair PA\")\n",
    "plt.plot(range(0,50), arrivalPositionsChosenFairIID_100k_uniform, label=\"Fair IID\")\n",
    "plt.plot(range(0,50), arrivalPositionsChosenSC_100k_uniform, label=\"SC\")\n",
    "plt.plot(range(0,50), arrivalPositionsChosenEHKS_100k_uniform, label=\"EHKS\")\n",
    "plt.plot(range(0,50), arrivalPositionsChosenCFHOV_100k_uniform, label=\"CFHOV\")\n",
    "plt.grid(visible=True, linewidth=.5)\n",
    "# plt.title(\"100k experiments, discarding None results\")\n",
    "plt.xlabel(\"Arrival position\")\n",
    "plt.ylabel(\"Num Picked\")\n",
    "plt.rcParams.update({'font.size': 12})\n",
    "plt.legend(loc=\"upper left\", ncol=5)\n",
    "plt.savefig(\"images/uniform_distribution/100kExperiments_uniform.png\")"
   ]
  },
  {
   "cell_type": "code",
   "execution_count": null,
   "id": "811c7414",
   "metadata": {},
   "outputs": [],
   "source": [
    "plt.subplots_adjust(bottom=0.25)\n",
    "plt.rcParams[\"figure.figsize\"] = (8,3)\n",
    "plt.rcParams.update({'font.size': 14})\n",
    "\n",
    "plt.plot(range(0,1000), load('data/FairPA_positions.npy'), label=\"FairPA\")\n",
    "plt.plot(range(0,1000), load('data/FairIID_positions.npy'), label=\"Fair IID\")\n",
    "plt.plot(range(0,1000), load('data/SC_positions.npy'), label=\"SC\")\n",
    "plt.plot(range(0,1000), load('data/EHKS_positions.npy'), label=\"EHKS\")\n",
    "plt.plot(range(0,1000), load('data/CFHOV_positions.npy'), label=\"CFHOV\")\n",
    "# plt.plot(range(0,1000), load('data/DP_positions.npy'), label=\"DP\")\n",
    "plt.grid(visible=True, linewidth=1)\n",
    "plt.xlabel(\"Arrival position\")\n",
    "plt.ylabel(\"Num Picked\")\n",
    "# plt.title(\"Binomial distribution with 1k candidates, and 50k experiments\")\n",
    "plt.rcParams.update({'font.size': 12})\n",
    "plt.legend(loc=\"upper left\", ncol=5)\n",
    "plt.savefig(\"images/binomial_distribution/50kExperiments_binomial.png\")"
   ]
  },
  {
   "cell_type": "code",
   "execution_count": null,
   "id": "7f83ecf9",
   "metadata": {},
   "outputs": [],
   "source": [
    "plt.subplots_adjust(bottom=0.25)\n",
    "plt.rcParams[\"figure.figsize\"] = (8,3)\n",
    "plt.rcParams.update({'font.size': 14})\n",
    "plt.plot(range(0,1000), load('data/FairPA_positions100k.npy'), label=\"FairPA\")\n",
    "plt.plot(range(0,1000), load('data/FairIID_positions100k.npy'), label=\"Fair IID\")\n",
    "plt.plot(range(0,1000), load('data/SC_positions100k.npy'), label=\"SC\")\n",
    "plt.plot(range(0,1000), load('data/EHKS_positions100k.npy'), label=\"EHKS\")\n",
    "plt.plot(range(0,1000), load('data/CFHOV_positions100k.npy'), label=\"CFHOV\")\n",
    "# plt.plot(range(0,1000), load('data/DP_positions100k.npy'), label=\"DP\")\n",
    "plt.grid(visible=True, linewidth=1)\n",
    "plt.xlabel(\"Arrival position\")\n",
    "plt.ylabel(\"Num Picked\")\n",
    "\n",
    "plt.rcParams.update({'font.size': 12})\n",
    "plt.legend(loc=\"upper left\", ncol=5)\n",
    "plt.savefig(\"images/binomial_distribution/100kExperiments_binomial.png\")"
   ]
  },
  {
   "cell_type": "markdown",
   "id": "b9355669",
   "metadata": {},
   "source": [
    "# Analysis of the average values of the chosen candidates"
   ]
  },
  {
   "cell_type": "code",
   "execution_count": null,
   "id": "5bf789bb",
   "metadata": {},
   "outputs": [],
   "source": [
    "print(\"Original : The average value of the chosen candidate for our Algorithm 2 (Fair PA), our Algorithm 3 (Fair IID), SC, EHKS, CFHOV, and DP for the uniform distribution is 0.501, 0.661, 0.499, 0.631, 0.752, 0.751, while for the binomial distribution it is 298.34, 389.24, 277.63, 363.97, 430.08, 513.34, respectively.\")\n",
    "print(\"Uniform distribution (original, 50k, 100k):\")\n",
    "print(\"FairPA: 0.501, \", round(mean(FairPA_50k_uniform),3), \" , \", round(mean(FairPA_100k_uniform),3))\n",
    "print(\"FairIID: 0.661, \", round(mean(FairIID_50k_uniform),3), \" , \", round(mean(FairIID_100k_uniform),3))\n",
    "print(\"SC: 0.499, \", round(mean(SC_50k_uniform),3), \" , \", round(mean(SC_100k_uniform),3))\n",
    "print(\"EHKS: 0.631, \", round(mean(EHKS_50k_uniform),3), \" , \", round(mean(EHKS_100k_uniform),3))\n",
    "print(\"CFHOV: 0.752, \", round(mean(CFHOV_50k_uniform),3), \" , \", round(mean(CFHOV_100k_uniform),3))\n",
    "print(\"DP: 0.751, \", round(mean(DP_50k_uniform),3), \" , \", round(mean(DP_100k_uniform),3))\n",
    "\n",
    "print(\"Binomial distribution:\")\n",
    "print(\"FairPA: 298.34, \", round(mean(FairPA_50k_binomial),3), \" , \", round(mean(FairPA_100k_binomial),3))\n",
    "print(\"FairIID: 389.24, \", round(mean(FairIID_50k_binomial),3), \" , \", round(mean(FairIID_100k_binomial),3))\n",
    "print(\"SC: 277.63, \", round(mean(SC_50k_binomial),3), \" , \", round(mean(SC_100k_binomial),3))\n",
    "print(\"EHKS: 363.97, \", round(mean(EHKS_50k_binomial),3), \" , \", round(mean(EHKS_100k_binomial),3))\n",
    "print(\"CFHOV: 430.08, \", round(mean(CFHOV_50k_binomial),3), \" , \", round(mean(CFHOV_100k_binomial),3))\n",
    "print(\"DP: 513.34, \", round(mean(DP_50k_binomial),3), \" , \", round(mean(DP_100k_binomial),3))"
   ]
  },
  {
   "cell_type": "code",
   "execution_count": null,
   "id": "9089e48f",
   "metadata": {
    "lines_to_next_cell": 2
   },
   "outputs": [],
   "source": [
    "print(\"Uniform distribution:\")\n",
    "df = pd.DataFrame(columns=['Algorithm', 'Reported in the paper', \"Reproduced 50k experiments\", \"Reproduced 100k experiments\"])\n",
    "\n",
    "df = df.append(pd.Series([\"FairPA\",\"0.501\",round(mean(FairPA_50k_uniform),3),round(mean(FairPA_100k_uniform),3)],\n",
    "                         index = df.columns), ignore_index=True)\n",
    "df = df.append(pd.Series([\"FairIID\",\"0.661\",round(mean(FairIID_50k_uniform),3),round(mean(FairIID_100k_uniform),3)],\n",
    "                         index = df.columns), ignore_index=True)\n",
    "df = df.append(pd.Series([\"SC\",\"0.499\",round(mean(SC_50k_uniform),3),round(mean(SC_100k_uniform),3)],\n",
    "                         index = df.columns), ignore_index=True)\n",
    "df = df.append(pd.Series([\"EHKS\",\"0.631\",round(mean(EHKS_50k_uniform),3),round(mean(EHKS_100k_uniform),3)],\n",
    "                         index = df.columns), ignore_index=True)\n",
    "df = df.append(pd.Series([\"CFHOV\",\"0.752\",round(mean(CFHOV_50k_uniform),3),round(mean(CFHOV_100k_uniform),3)],\n",
    "                         index = df.columns), ignore_index=True)\n",
    "df = df.append(pd.Series([\"DP\",\"0.751\",round(mean(DP_50k_uniform),3),round(mean(DP_100k_uniform),3)],\n",
    "                         index = df.columns), ignore_index=True)\n",
    "\n",
    "df"
   ]
  },
  {
   "cell_type": "code",
   "execution_count": null,
   "id": "e36c6cc9",
   "metadata": {},
   "outputs": [],
   "source": [
    "print(\"Binomial distribution:\")\n",
    "df = pd.DataFrame(columns=['Algorithm', 'Reported in the paper', \"Reproduced 50k experiments\", \"Reproduced 100k experiments\"])\n",
    "\n",
    "df = df.append(pd.Series([\"FairPA\",\"298.34\",round(mean(FairPA_50k_binomial),3),round(mean(FairPA_100k_binomial),3)],\n",
    "                         index = df.columns), ignore_index=True)\n",
    "df = df.append(pd.Series([\"FairIID\",\"389.24\",round(mean(FairIID_50k_binomial),3),round(mean(FairIID_100k_binomial),3)],\n",
    "                         index = df.columns), ignore_index=True)\n",
    "df = df.append(pd.Series([\"SC\",\"277.63\",round(mean(SC_50k_binomial),3),round(mean(SC_100k_binomial),3)],\n",
    "                         index = df.columns), ignore_index=True)\n",
    "df = df.append(pd.Series([\"EHKS\",\"363.97\",round(mean(EHKS_50k_binomial),3),round(mean(EHKS_100k_binomial),3)],\n",
    "                         index = df.columns), ignore_index=True)\n",
    "df = df.append(pd.Series([\"CFHOV\",\"430.08\",round(mean(CFHOV_50k_binomial),3),round(mean(CFHOV_100k_binomial),3)],\n",
    "                         index = df.columns), ignore_index=True)\n",
    "df = df.append(pd.Series([\"DP\",\"513.34\",round(mean(DP_50k_binomial),3),round(mean(DP_100k_binomial),3)],\n",
    "                         index = df.columns), ignore_index=True)\n",
    "\n",
    "df"
   ]
  },
  {
   "cell_type": "markdown",
   "id": "eb4ce6f0",
   "metadata": {},
   "source": [
    "# Percentage value of the optimal, but unfair, online algorithm"
   ]
  },
  {
   "cell_type": "code",
   "execution_count": null,
   "id": "5903b429",
   "metadata": {},
   "outputs": [],
   "source": [
    "print(\"Original: In conclusion, for both settings, both our algorithms Algorithm 2 and Algorithm 3 provide perfect fairness, while giving 66.71% and 88.01% (for the uniform case), and 58.12% and 75.82% (for the binomial case), of the value of the optimal, but unfair, online algorithm.\")\n",
    "\n",
    "print(\"Uniform case, for FairPA\")\n",
    "print(\"Assuming DP as the 'optimal, but unfair, online algorithm' :\", mean(FairPA_100k_uniform) / mean(CFHOV_100k_uniform) *100, \"%\")\n",
    "\n",
    "print(\"\\n Uniform case, for FairIID\")\n",
    "print(\"Assuming DP as the 'optimal, but unfair, online algorithm' :\", mean(FairIID_100k_uniform) / mean(CFHOV_100k_uniform) * 100, \"%\")\n",
    "\n",
    "print(\"Binomial case, for FairPA\")\n",
    "print(\"Assuming DP as the 'optimal, but unfair, online algorithm' :\", mean(FairPA_100k_binomial) / mean(DP_100k_binomial) *100, \"%\")\n",
    "\n",
    "print(\"\\n Binomial case, for FairIID\")\n",
    "print(\"Assuming DP as the 'optimal, but unfair, online algorithm' :\", mean(FairIID_100k_binomial) / mean(DP_100k_binomial) * 100, \"%\")"
   ]
  }
 ],
 "metadata": {
  "jupytext": {
   "text_representation": {
    "extension": ".py",
    "format_name": "percent",
    "format_version": "1.3",
    "jupytext_version": "1.12.0"
   }
  },
  "kernelspec": {
   "display_name": "Python 3",
   "language": "python",
   "name": "python3"
  },
  "language_info": {
   "codemirror_mode": {
    "name": "ipython",
    "version": 3
   },
   "file_extension": ".py",
   "mimetype": "text/x-python",
   "name": "python",
   "nbconvert_exporter": "python",
   "pygments_lexer": "ipython3",
   "version": "3.8.8"
  }
 },
 "nbformat": 4,
 "nbformat_minor": 5
}
