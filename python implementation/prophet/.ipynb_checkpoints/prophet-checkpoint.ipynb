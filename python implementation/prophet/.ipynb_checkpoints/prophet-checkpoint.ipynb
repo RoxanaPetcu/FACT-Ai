{
 "cells": [
  {
   "cell_type": "markdown",
   "id": "2cc6aa5d",
   "metadata": {},
   "source": [
    "# The Multi-Color Prophet Problem notebook"
   ]
  },
  {
   "cell_type": "markdown",
   "id": "96a7a894",
   "metadata": {},
   "source": [
    " Contact: p.praat@student.uva.nl"
   ]
  },
  {
   "cell_type": "code",
   "execution_count": 2,
   "id": "973cb68b",
   "metadata": {},
   "outputs": [],
   "source": [
    "import numpy as np\n",
    "import scipy\n",
    "import matplotlib.pyplot as plt\n",
    "from scipy.stats import uniform\n",
    "from numpy.random import default_rng\n",
    "from collections import Counter\n",
    "import matplotlib.pyplot as plt\n",
    "from statistics import mean\n",
    "import pandas as pd\n",
    "\n",
    "from numpy import save\n",
    "from numpy import load\n",
    "\n",
    "from tqdm import tqdm # for the progress bar"
   ]
  },
  {
   "cell_type": "markdown",
   "id": "28f73c01",
   "metadata": {},
   "source": [
    "_We next consider the following multi-color prophet problem. In this model n candidates arrive in uniform random order. Candidates are partitioned into k groups $C = {C_1,···,C_k}$. We write $n=(n1,...,nk)$ for the vector of groupsizes, i.e., $|C_j| = n_j$ ,for all 1 ≤ j ≤ k. We identify each of the groups with a distinct color and let c(i), vi denote the color and value of candidate i, respectively. The value vi that is revealed upon arrival of i, and is drawn independently from a given distribution Fi. We use $F = (F_1, . . . , Fn)$ to refer to the vector of distributions. We are also given a probability vector $p = (p_1, . . . , p_k)$. The goal is to select a candidate in an online manner in order to maximize the expectation of the value of the selected candidate, while selecting from each color with probability proportional to p. We distinguish between the basic setting in which $p_j$ is the proportion of candidates that belong to group j, i.e., $p_j = n_j/n$, and the general setting in which $p$ is arbitrary. We compare ourselves with the fair optimum, the optimal offline algorithm that respects the $p_j$ ’s._"
   ]
  },
  {
   "cell_type": "markdown",
   "id": "3985e883",
   "metadata": {},
   "source": [
    "## The two algorithms presented in the paper"
   ]
  },
  {
   "cell_type": "code",
   "execution_count": 3,
   "id": "5b2d3d33",
   "metadata": {},
   "outputs": [],
   "source": [
    "def calculatePreMiddleBinomial():\n",
    "    n = 1000\n",
    "    p = 0.5 #probability of coin succeeding\n",
    "    choose = np.zeros((n+1,n+1)) # creating 'choose' variable -> number of combinations per number of successes\n",
    "    for i in range(n+1):\n",
    "        choose[i,0] = 1\n",
    "\n",
    "    for i in range(1,n+1):\n",
    "        for j in range(1,n+1):\n",
    "            choose[i,j] = choose[i-1,j-1] + choose[i-1,j]\n",
    "\n",
    "    n_combinations = choose[-1]\n",
    "    probability = np.ones((n+1)) #probability of n successes\n",
    "    r_probability = np.ones((n+1)) #reverse probability of n failures\n",
    "\n",
    "    for i in range(1,n+1):\n",
    "        probability[i] = probability[i - 1] * p\n",
    "        r_probability[i] = r_probability[i - 1] * (1 - p);\n",
    "    \n",
    "        \n",
    "    #max dist --> chance of getting at least certain amount of successes after all candidates\n",
    "    x = n_combinations * probability * np.flip(r_probability) #calculating p of i successes in one try, by multiplying the p of this many successes, this many failures and all combinations in which they could have occurred\n",
    "    x_cum = np.flip(np.cumsum(np.flip(x))) #calculating cumulative probability (p of getting at least i successes in one try)\n",
    "#     print(\"Value: \" + np.flip(np.cumsum(np.flip(x))))\n",
    "    return np.flip(np.cumsum(np.flip(x)))\n",
    "\n",
    "def middleBinomial(n, x_cum_prepared):\n",
    "    n_candidates = n\n",
    "#     n = 1000\n",
    "#     p = 0.5 #probability of coin succeeding\n",
    "#     choose = np.zeros((n+1,n+1)) # creating 'choose' variable -> number of combinations per number of successes\n",
    "#     for i in range(n+1):\n",
    "#         choose[i,0] = 1\n",
    "\n",
    "#     for i in range(1,n+1):\n",
    "#         for j in range(1,n+1):\n",
    "#             choose[i,j] = choose[i-1,j-1] + choose[i-1,j]\n",
    "\n",
    "#     n_combinations = choose[-1]\n",
    "#     probability = np.ones((n+1)) #probability of n successes\n",
    "#     r_probability = np.ones((n+1)) #reverse probability of n failures\n",
    "\n",
    "#     for i in range(1,n+1):\n",
    "#         probability[i] = probability[i - 1] * p\n",
    "#         r_probability[i] = r_probability[i - 1] * (1 - p);\n",
    "        \n",
    "        \n",
    "#     #max dist --> chance of getting at least certain amount of successes after all candidates\n",
    "#     x = n_combinations * probability * np.flip(r_probability) #calculating p of i successes in one try, by multiplying the p of this many successes, this many failures and all combinations in which they could have occurred\n",
    "#     x_cum = np.flip(np.cumsum(np.flip(x))) #calculating cumulative probability (p of getting at least i successes in one try)\n",
    "#     print(x_cum_prepared)\n",
    "    max_dist = 1 - pow(1-x_cum_prepared, n_candidates) #p of getting i successes after certain amount of tries\n",
    "\n",
    "    #middle --> find highest number of successes where probability of reaching at least that is more than 0.5\n",
    "    for i in np.arange(len(max_dist)-1, -1,-1):\n",
    "        if max_dist[i] >= 0.5:\n",
    "            #TODO: figure out why in the code they do divde this by n!\n",
    "            middle = i #/ n ### question: binomial data comes in absolute n successes or fraction of total tries ??? ###\n",
    "            break\n",
    "        if i == 0.0:\n",
    "            middle = 0\n",
    "    return middle"
   ]
  },
  {
   "cell_type": "code",
   "execution_count": 4,
   "id": "dc5d578f",
   "metadata": {},
   "outputs": [],
   "source": [
    "def Finv(distribution, prob):\n",
    "    lower, upper = 0.0,1.0\n",
    "    if distribution == \"uniform\":\n",
    "        return prob * (upper-lower)\n",
    "    if distribution == \"binomial\":\n",
    "        return scipy.stats.binom.ppf(prob, n=1000, p=0.5)\n",
    "        \n",
    "\n",
    "def Middle(distribution_type, n, x_cum):\n",
    "    if distribution_type == \"uniform\":\n",
    "        rrange = 1.0\n",
    "        return rrange * np.power(1.0 / 2, 1.0 / n)\n",
    "    if distribution_type == \"binomial\":\n",
    "        return middleBinomial(n, x_cum)\n",
    "        \n",
    "        \n",
    "def FairGeneralProphet (q, V, distribution_type):\n",
    "    summ = 0.0\n",
    "    for i in range(0,len(V)): #value < 1 reaches a drop!\n",
    "        if V[i] >= Finv(distribution_type, (1.0 - (q[i] / (2.0 - summ)))):\n",
    "#         if V[i] >= Finv(distribution_type, (1- (q[i]/2)/(1-(summ/2)))):\n",
    "            return i\n",
    "        summ += q[i]\n",
    "\n",
    "def FairIIDProphet(Values, distribution_type):\n",
    "    for i in range(0, len(Values)):\n",
    "        p = (2.0 / 3.0) / len(Values)\n",
    "        if Values[i] >= Finv(distribution_type, (1.0 - p / (1.0 - p * i))):\n",
    "            return i\n",
    "\n"
   ]
  },
  {
   "cell_type": "code",
   "execution_count": 5,
   "id": "6d02a37a",
   "metadata": {},
   "outputs": [],
   "source": [
    "# Implemented according to the function “ComputeSolutionOneHalf” in unfair-prophet.cc\n",
    "def SC_algorithm(Values, distribution_type, x_cum):\n",
    "    middleValue = Middle(distribution_type, len(Values), x_cum)\n",
    "    for i in range(0, len(Values)):\n",
    "        if Values[i] >= middleValue:\n",
    "            return i\n",
    "\n",
    "\n",
    "# Implemented according to the function “ComputeSolutionOneMinusOneE” in unfair-prophet.cc\n",
    "def EHKS_algorithm(Values, distribution_type):\n",
    "    threshold = Finv(distribution_type, (1.0 - (1.0 / len(Values))))\n",
    "    for i in range(0, len(Values)):\n",
    "        if Values[i] >= threshold:\n",
    "            return i\n",
    "\n",
    "# Implemented according to the function “ComputeSolutionDiffEq” in unfair-prophet.cc\n",
    "def DP_algorithm(Values, distribution_type):\n",
    "#     TODO: still need to figure out if these precomputed thresholds hold!\n",
    "\n",
    "    diff_solution_50 = np.loadtxt(\"diff_solution_50.txt\", delimiter=\", \")\n",
    "    diff_solution_1000 = np.loadtxt(\"diff_solution_1000.txt\", delimiter=\", \")\n",
    "\n",
    "    if len(Values) == 50:\n",
    "        diff_solution = diff_solution_50\n",
    "    else:\n",
    "        diff_solution = diff_solution_1000\n",
    "        \n",
    "    for i in range(0, len(Values)):\n",
    "        if Values[i] >= Finv(distribution_type, np.power(diff_solution[i], (1.0 / (len(Values) - 1)))):\n",
    "            return i"
   ]
  },
  {
   "cell_type": "markdown",
   "id": "8bbee65d",
   "metadata": {},
   "source": [
    "## The experiments"
   ]
  },
  {
   "cell_type": "markdown",
   "id": "a5912dbe",
   "metadata": {},
   "source": [
    "_\"We focus on the case, where values are distributed i.i.d. and each candidate is a group on its own. We consider two settings. In the first one the input stream consists of 50 samples from the uniform distribution in range [0, 1], and in the second one the input consists of 1000 samples from the binomial distribution with 1000 trials and 1/2 probability of success of a single trial. For better comparability with existing algorithms, in both cases we assume each candidate is a group on its own. We run each algorithm 50, 000 times.\"_"
   ]
  },
  {
   "cell_type": "markdown",
   "id": "ca87e6d2",
   "metadata": {},
   "source": [
    "### Uniform Distribution"
   ]
  },
  {
   "cell_type": "markdown",
   "id": "2e0de161",
   "metadata": {},
   "source": [
    "_Here, as mentioned in the paper, the \"input stream consists of 50 samples from the uniform distribution in range [0, 1]\"_"
   ]
  },
  {
   "cell_type": "code",
   "execution_count": 7,
   "id": "a47f0865",
   "metadata": {},
   "outputs": [],
   "source": [
    "\"\"\"\n",
    ":param distribution_type: either \"uniform\" or \"binomial\"\n",
    ":param size: number of candidates\n",
    ":returns q: \n",
    ":returns V:\n",
    "\"\"\"\n",
    "def generateDistribution(distribution_type, size):\n",
    "    rng = default_rng()\n",
    "    n = size\n",
    "    if distribution_type == \"uniform\":\n",
    "        q, V = [1/n] * n , rng.uniform(low=0.0, high=1.0, size=n)\n",
    "    elif distribution_type == \"binomial\":\n",
    "        q, V = [1/n] * n , rng.binomial(n=1000, p=.5, size=n)\n",
    "    return q,V\n",
    "\n",
    "\"\"\"\n",
    ":param algorithm: string either \"FairGeneralProphet\", \"FairIIDProphet\", \"SC\", \"EHKS\" or, \"DP\"\n",
    ":param N_experimentReps: the number of times the algorithm needs to run\n",
    ":param distribution_type: either \"uniform\" or \"binomial\"\n",
    ":param n_candidates: interger with the number of candidates in each experiment\n",
    ":returns arrivalPositionsChosen: array containing which candidate position was chosen\n",
    ":returns chosenValues: array contraining the values of each picked/selected candidate\n",
    "\"\"\"\n",
    "def runExperiment(algorithm, N_experimentReps, distribution_type, n_candidates):\n",
    "    arrivalPositionsChosen, chosenValues = [0]*n_candidates, []\n",
    "    \n",
    "    if (algorithm == \"SC\") and (distribution_type == \"binomial\"):\n",
    "        x_cummm = calculatePreMiddleBinomial()\n",
    "    else:\n",
    "        x_cummm = None\n",
    "        \n",
    "    for _ in tqdm(range(0, N_experimentReps)):\n",
    "        q, Values = generateDistribution(distribution_type, n_candidates)\n",
    "        \n",
    "        if algorithm == \"FairGeneralProphet\":\n",
    "                result = FairGeneralProphet(q, Values, distribution_type)\n",
    "        elif algorithm == \"FairIIDProphet\":\n",
    "                result = FairIIDProphet(Values, distribution_type)\n",
    "        elif algorithm == \"SC\":\n",
    "                result = SC_algorithm(Values, distribution_type, x_cummm)\n",
    "        elif algorithm ==\"EHKS\":\n",
    "                result = EHKS_algorithm(Values, distribution_type)\n",
    "        elif algorithm == \"DP\":\n",
    "                result = DP_algorithm(Values, distribution_type)\n",
    "                \n",
    "                \n",
    "        if result != None:\n",
    "            arrivalPositionsChosen[result] += 1\n",
    "            chosenValues.append(Values[result])\n",
    "            \n",
    "        if result == None: chosenValues.append(0)\n",
    "    return arrivalPositionsChosen, chosenValues"
   ]
  },
  {
   "cell_type": "code",
   "execution_count": 6,
   "id": "7d26c975",
   "metadata": {},
   "outputs": [],
   "source": [
    "# #Plotting the results for 50k experiments\n",
    "\n",
    "# arrivalPositionsChosenFairPA, a = runExperiment(algorithm=\"FairGeneralProphet\", N_experimentReps=50000, \n",
    "#                                                 distribution_type=\"uniform\", n_candidates=50)\n",
    "    \n",
    "# arrivalPositionsChosenFairIID, b = runExperiment(algorithm=\"FairIIDProphet\", N_experimentReps=50000, \n",
    "#                                                 distribution_type=\"uniform\", n_candidates=50)\n",
    "    \n",
    "# arrivalPositionsChosenSC, c = runExperiment(algorithm=\"SC\", N_experimentReps=50000, \n",
    "#                                                 distribution_type=\"uniform\", n_candidates=50)\n",
    "    \n",
    "# arrivalPositionsChosenEHKS, d = runExperiment(algorithm=\"EHKS\", N_experimentReps=50000, \n",
    "#                                                 distribution_type=\"uniform\", n_candidates=50)\n",
    "# arrivalPositionsChosenDP, e = runExperiment(algorithm=\"DP\", N_experimentReps=50000, \n",
    "#                                                 distribution_type=\"uniform\", n_candidates=50)\n",
    "\n",
    "# plt.plot(range(0,50), arrivalPositionsChosenFairPA, label=\"Fair PA\")\n",
    "# plt.plot(range(0,50), arrivalPositionsChosenFairIID, label=\"Fair IID\")\n",
    "# plt.plot(range(0,50), arrivalPositionsChosenEHKS, label=\"EHKS\")\n",
    "# plt.plot(range(0,50), arrivalPositionsChosenSC, label=\"SC\")\n",
    "# plt.plot(range(0,50), arrivalPositionsChosenDP, label=\"DP\")\n",
    "# plt.plot(range(0,50), range(0,4000,80), label=\"replicate CFHOV for scale\")\n",
    "# plt.title(\"50k experiments, discarding None results\")\n",
    "# plt.xlabel(\"Arrival position\")\n",
    "# plt.ylabel(\"Num Picked\")\n",
    "# plt.legend(loc=\"upper right\")\n",
    "# plt.savefig(\"images/50kExperiments.png\")"
   ]
  },
  {
   "cell_type": "markdown",
   "id": "f96a165a",
   "metadata": {},
   "source": [
    "This led us to examining two approaches. One in which we increase the number of experiments to 100k, and one where we run 50k experiments and keep repeating each experiment untill we don't get a None. The first one has been done above, and seems to confirm the found results.\n",
    "\n",
    "It is also worth noting that just skipping over None results does not lead to the same results, only increasing the number of experiments. As shown here"
   ]
  },
  {
   "cell_type": "code",
   "execution_count": 7,
   "id": "57db65a2",
   "metadata": {},
   "outputs": [],
   "source": [
    "# #Plotting the results for 100k experiments\n",
    "\n",
    "# arrivalPositionsChosenFairPA, a = runExperiment(algorithm=\"FairGeneralProphet\", N_experimentReps=50000*2, \n",
    "#                                                 distribution_type=\"uniform\", n_candidates=50)\n",
    "    \n",
    "# arrivalPositionsChosenFairIID, b = runExperiment(algorithm=\"FairIIDProphet\", N_experimentReps=50000*2, \n",
    "#                                                 distribution_type=\"uniform\", n_candidates=50)\n",
    "    \n",
    "# arrivalPositionsChosenSC, c = runExperiment(algorithm=\"SC\", N_experimentReps=50000*2, \n",
    "#                                                 distribution_type=\"uniform\", n_candidates=50)\n",
    "    \n",
    "# arrivalPositionsChosenEHKS, d = runExperiment(algorithm=\"EHKS\", N_experimentReps=50000*2, \n",
    "#                                                 distribution_type=\"uniform\", n_candidates=50)\n",
    "\n",
    "# arrivalPositionsChosenDP, e = runExperiment(algorithm=\"DP\", N_experimentReps=50000*2, \n",
    "#                                                 distribution_type=\"uniform\", n_candidates=50)"
   ]
  },
  {
   "cell_type": "markdown",
   "id": "480ee06b",
   "metadata": {},
   "source": [
    "### Average values of chosen candidates"
   ]
  },
  {
   "cell_type": "code",
   "execution_count": 8,
   "id": "a71d3fd4",
   "metadata": {},
   "outputs": [],
   "source": [
    "# print(\"The average value of the chosen candidate in the uniform distribution: \\n\")\n",
    "# print(\"FairPA: \", mean(a), \"(should be 0.501)\")\n",
    "# print(\"FairIID: \", mean(b), \"(should be 0.661)\")\n",
    "# print(\"SK: \", mean(c), \"(should be 0.499)\")\n",
    "# print(\"EHKS: \", mean(d), \"(should be 0.631)\")\n",
    "# print(\"SP: \", mean(e), \"(should be 0.751)\")"
   ]
  },
  {
   "cell_type": "markdown",
   "id": "7313d151",
   "metadata": {},
   "source": [
    "\n",
    "**Statement 1:** _In conclusion, for both settings, both our algorithms Algorithm 2 and Algorithm 3 provide perfect fairness, while giving 66.71% and 88.01% (for the uniform case), and 58.12% and 75.82% (for the binomial case), of the value of the optimal, but unfair, online algorithm._\n",
    "\n",
    "Here the unfair online algorihtm must either SC or EHKS, something else is not mentioned about online algorithms. Also in the codebase, the unfair algorithms refer to these. Thus we will take a look at both, and see if these results are replicable.\n"
   ]
  },
  {
   "cell_type": "code",
   "execution_count": 9,
   "id": "8afe3d61",
   "metadata": {},
   "outputs": [],
   "source": [
    "# print(\"Uniform case, for FairPA\")\n",
    "# print(\"Assuming DP as the 'optimal, but unfair, online algorithm' :\", mean(a) / mean(e) *100, \"%\")\n",
    "\n",
    "# print(\"\\n Uniform case, for FairIID\")\n",
    "# print(\"Assuming DP as the 'optimal, but unfair, online algorithm' :\", mean(b) / mean(e) *100, \"%\")\n",
    "\n"
   ]
  },
  {
   "cell_type": "markdown",
   "id": "144feeb5",
   "metadata": {},
   "source": [
    "Both of these approaches thus do not (nearly) approach the results as presented in the paper, and seem to be verifiable in Figure 2 in the paper. Thus, the question is raised which algorithm is used to calculate the percentages mentioned in **Statement 1**."
   ]
  },
  {
   "cell_type": "markdown",
   "id": "0b598245",
   "metadata": {},
   "source": [
    "## Binomial distribution"
   ]
  },
  {
   "cell_type": "code",
   "execution_count": 10,
   "id": "22dbaeb0",
   "metadata": {},
   "outputs": [],
   "source": [
    "# arrivalPositionsChosenFairPA, FairPA_values = runExperiment(algorithm=\"FairGeneralProphet\", N_experimentReps=50000, \n",
    "#                                                 distribution_type=\"binomial\", n_candidates=1000)\n",
    "# save('data/FairPA_positions.npy', arrivalPositionsChosenFairPA)\n",
    "# save('data/FairPA_values.npy', FairPA_values)"
   ]
  },
  {
   "cell_type": "code",
   "execution_count": 11,
   "id": "a539bf8c",
   "metadata": {},
   "outputs": [],
   "source": [
    "# arrivalPositionsChosenFairIID, FairIID_values = runExperiment(algorithm=\"FairIIDProphet\", N_experimentReps=50000, \n",
    "#                                                 distribution_type=\"binomial\", n_candidates=1000)\n",
    "# save('data/FairIID_positions.npy', arrivalPositionsChosenFairIID)\n",
    "# save('data/FairIID_values.npy', FairIID_values)"
   ]
  },
  {
   "cell_type": "code",
   "execution_count": 12,
   "id": "d701ef82",
   "metadata": {},
   "outputs": [],
   "source": [
    "# arrivalPositionsChosenSC, SC_values = runExperiment(algorithm=\"SC\", N_experimentReps=50000*2, \n",
    "#                                                distribution_type=\"binomial\", n_candidates=1000)\n",
    "\n",
    "# save('data/SC_positions.npy', arrivalPositionsChosenSC)\n",
    "# save('data/SC_values.npy', SC_values)"
   ]
  },
  {
   "cell_type": "code",
   "execution_count": 13,
   "id": "a489ca76",
   "metadata": {},
   "outputs": [],
   "source": [
    "# arrivalPositionsChosenEHKS, EHKS_values = runExperiment(algorithm=\"EHKS\", N_experimentReps=50000, \n",
    "#                                                 distribution_type=\"binomial\", n_candidates=1000)\n",
    "\n",
    "# save('data/EHKS_positions.npy', arrivalPositionsChosenEHKS)\n",
    "# save('data/EHKS_values.npy', EHKS_values)"
   ]
  },
  {
   "cell_type": "code",
   "execution_count": 14,
   "id": "9ceceef1",
   "metadata": {},
   "outputs": [],
   "source": [
    "# arrivalPositionsChosenDP, DP_values = runExperiment(algorithm=\"DP\", N_experimentReps=50000, \n",
    "#                                                 distribution_type=\"binomial\", n_candidates=1000)\n",
    "\n",
    "# save('data/DP_positions.npy', arrivalPositionsChosenDP)\n",
    "# save('data/DP_values.npy', DP_values)"
   ]
  },
  {
   "cell_type": "code",
   "execution_count": 15,
   "id": "91ec54fe",
   "metadata": {},
   "outputs": [
    {
     "data": {
      "image/png": "[encoded data removed]",
      "text/plain": [
       "<Figure size 432x288 with 1 Axes>"
      ]
     },
     "metadata": {
      "needs_background": "light"
     },
     "output_type": "display_data"
    }
   ],
   "source": [
    "# plt.plot(range(0,1000), load('data/FairPA_positions.npy'), label=\"FairPA\")\n",
    "# plt.plot(range(0,1000), load('data/FairIID_positions.npy'), label=\"Fair IID\")\n",
    "# plt.plot(range(0,1000), load('data/SC_positions.npy'), label=\"SC\")\n",
    "# plt.plot(range(0,1000), load('data/EHKS_positions.npy'), label=\"EHKS\")\n",
    "# plt.plot(range(0,1000), load('data/DP_positions.npy'), label=\"DP\")\n",
    "# plt.xlabel(\"Arrival position\")\n",
    "# plt.ylabel(\"Num Picked\")\n",
    "# plt.title(\"Binomial distribution with 1k candidates, and 50k experiments\")\n",
    "# plt.legend(loc=\"upper right\")\n",
    "# plt.savefig(\"binomial.png\")"
   ]
  },
  {
   "cell_type": "code",
   "execution_count": 16,
   "id": "5f7ab0d3",
   "metadata": {
    "lines_to_next_cell": 2
   },
   "outputs": [
    {
     "name": "stderr",
     "output_type": "stream",
     "text": [
      "100%|██████████| 100/100 [00:11<00:00,  8.63it/s]\n",
      "100%|██████████| 100/100 [00:13<00:00,  7.55it/s]\n",
      "100%|██████████| 100/100 [00:13<00:00,  7.29it/s]\n"
     ]
    }
   ],
   "source": [
    "# arrivalPositionsChosenFairPA, FairPA_values = runExperiment(algorithm=\"FairGeneralProphet\", N_experimentReps=50000*2, \n",
    "#                                                 distribution_type=\"binomial\", n_candidates=1000)\n",
    "# save('data/FairPA_positions100k.npy', arrivalPositionsChosenFairPA)\n",
    "# save('data/FairPA_values100k.npy', FairPA_values)\n",
    "\n",
    "# arrivalPositionsChosenFairIID, FairIID_values = runExperiment(algorithm=\"FairIIDProphet\", N_experimentReps=50000*2, \n",
    "#                                                 distribution_type=\"binomial\", n_candidates=1000)\n",
    "# save('data/FairIID_positions100k.npy', arrivalPositionsChosenFairIID)\n",
    "# save('data/FairIID_values100k.npy', FairIID_values)\n",
    "\n",
    "# arrivalPositionsChosenSC, SC_values = runExperiment(algorithm=\"SC\", N_experimentReps=50000*2, \n",
    "#                                                distribution_type=\"binomial\", n_candidates=1000)\n",
    "\n",
    "# save('data/SC_positions100k.npy', arrivalPositionsChosenSC)\n",
    "# save('data/SC_values100k.npy', SC_values)\n",
    "\n",
    "# arrivalPositionsChosenEHKS, EHKS_values = runExperiment(algorithm=\"EHKS\", N_experimentReps=50000*2, \n",
    "#                                                 distribution_type=\"binomial\", n_candidates=1000)\n",
    "\n",
    "# save('data/EHKS_positions100k.npy', arrivalPositionsChosenEHKS)\n",
    "# save('data/EHKS_values100k.npy', EHKS_values)\n",
    "\n",
    "# arrivalPositionsChosenDP, DP_values = runExperiment(algorithm=\"DP\", N_experimentReps=50000*2, \n",
    "#                                                 distribution_type=\"binomial\", n_candidates=1000)\n",
    "\n",
    "# save('data/DP_positions100k.npy', arrivalPositionsChosenDP)\n",
    "# save('data/DP_values100k.npy', DP_values)"
   ]
  },
  {
   "cell_type": "markdown",
   "id": "e2250825",
   "metadata": {},
   "source": [
    "## Extension"
   ]
  },
  {
   "cell_type": "markdown",
   "id": "14de058b",
   "metadata": {},
   "source": [
    "Don't need mathmathical underpinning! Just mention that it is possible/relevant."
   ]
  },
  {
   "cell_type": "code",
   "execution_count": 11,
   "id": "d07cbee0",
   "metadata": {},
   "outputs": [
    {
     "name": "stderr",
     "output_type": "stream",
     "text": [
      "100%|██████████| 50000/50000 [00:03<00:00, 13491.66it/s]\n",
      "  3%|▎         | 1451/50000 [00:00<00:03, 14506.42it/s]"
     ]
    },
    {
     "name": "stdout",
     "output_type": "stream",
     "text": [
      "Nonerate:  0.0 %\n",
      "Average value of the chosen candidate with none’s as 0 value (in own group):  0.9557472240917855\n",
      "Average value of the chosen candidate with None's excluded (in own group):  0.9557472240917855\n"
     ]
    },
    {
     "name": "stderr",
     "output_type": "stream",
     "text": [
      "100%|██████████| 50000/50000 [00:03<00:00, 15107.66it/s]\n",
      "  2%|▏         | 1209/50000 [00:00<00:04, 12089.03it/s]"
     ]
    },
    {
     "name": "stdout",
     "output_type": "stream",
     "text": [
      "Nonerate:  0.0 %\n",
      "Average value of the chosen candidate with none’s as 0 value (in own group):  0.9472204858314173\n",
      "Average value of the chosen candidate with None's excluded (in own group):  0.9472204858314173\n"
     ]
    },
    {
     "name": "stderr",
     "output_type": "stream",
     "text": [
      "100%|██████████| 50000/50000 [00:04<00:00, 11869.64it/s]\n",
      "  2%|▏         | 1144/50000 [00:00<00:04, 11427.86it/s]"
     ]
    },
    {
     "name": "stdout",
     "output_type": "stream",
     "text": [
      "Nonerate:  0.0 %\n",
      "Average value of the chosen candidate with none’s as 0 value (in own group):  0.9400689874284873\n",
      "Average value of the chosen candidate with None's excluded (in own group):  0.9400689874284873\n"
     ]
    },
    {
     "name": "stderr",
     "output_type": "stream",
     "text": [
      "100%|██████████| 50000/50000 [00:04<00:00, 12051.04it/s]\n",
      "  2%|▏         | 1184/50000 [00:00<00:04, 11835.83it/s]"
     ]
    },
    {
     "name": "stdout",
     "output_type": "stream",
     "text": [
      "Nonerate:  0.0 %\n",
      "Average value of the chosen candidate with none’s as 0 value (in own group):  0.9328741124787512\n",
      "Average value of the chosen candidate with None's excluded (in own group):  0.9328741124787512\n"
     ]
    },
    {
     "name": "stderr",
     "output_type": "stream",
     "text": [
      "100%|██████████| 50000/50000 [00:04<00:00, 10465.71it/s]\n",
      "  2%|▏         | 1205/50000 [00:00<00:04, 12045.53it/s]"
     ]
    },
    {
     "name": "stdout",
     "output_type": "stream",
     "text": [
      "Nonerate:  0.0 %\n",
      "Average value of the chosen candidate with none’s as 0 value (in own group):  0.9241900758809873\n",
      "Average value of the chosen candidate with None's excluded (in own group):  0.9241900758809873\n"
     ]
    },
    {
     "name": "stderr",
     "output_type": "stream",
     "text": [
      "100%|██████████| 50000/50000 [00:03<00:00, 13719.91it/s]\n",
      "  1%|▏         | 672/50000 [00:00<00:07, 6716.31it/s]"
     ]
    },
    {
     "name": "stdout",
     "output_type": "stream",
     "text": [
      "Nonerate:  0.0 %\n",
      "Average value of the chosen candidate with none’s as 0 value (in own group):  0.9186890056355271\n",
      "Average value of the chosen candidate with None's excluded (in own group):  0.9186890056355271\n"
     ]
    },
    {
     "name": "stderr",
     "output_type": "stream",
     "text": [
      "100%|██████████| 50000/50000 [00:05<00:00, 9799.17it/s] \n",
      "  2%|▏         | 1041/50000 [00:00<00:04, 10387.23it/s]"
     ]
    },
    {
     "name": "stdout",
     "output_type": "stream",
     "text": [
      "Nonerate:  0.0 %\n",
      "Average value of the chosen candidate with none’s as 0 value (in own group):  0.9092880904365889\n",
      "Average value of the chosen candidate with None's excluded (in own group):  0.9092880904365889\n"
     ]
    },
    {
     "name": "stderr",
     "output_type": "stream",
     "text": [
      "100%|██████████| 50000/50000 [00:08<00:00, 5990.15it/s]\n",
      "  3%|▎         | 1708/50000 [00:00<00:05, 8737.71it/s]"
     ]
    },
    {
     "name": "stdout",
     "output_type": "stream",
     "text": [
      "Nonerate:  0.0 %\n",
      "Average value of the chosen candidate with none’s as 0 value (in own group):  0.9064772887264764\n",
      "Average value of the chosen candidate with None's excluded (in own group):  0.9064772887264764\n"
     ]
    },
    {
     "name": "stderr",
     "output_type": "stream",
     "text": [
      "100%|██████████| 50000/50000 [00:04<00:00, 10414.45it/s]\n",
      "  3%|▎         | 1301/50000 [00:00<00:03, 13003.50it/s]"
     ]
    },
    {
     "name": "stdout",
     "output_type": "stream",
     "text": [
      "Nonerate:  0.0 %\n",
      "Average value of the chosen candidate with none’s as 0 value (in own group):  0.9001917817290703\n",
      "Average value of the chosen candidate with None's excluded (in own group):  0.9001917817290703\n"
     ]
    },
    {
     "name": "stderr",
     "output_type": "stream",
     "text": [
      "100%|██████████| 50000/50000 [00:03<00:00, 14374.86it/s]\n",
      "  4%|▍         | 1901/50000 [00:00<00:02, 19008.70it/s]"
     ]
    },
    {
     "name": "stdout",
     "output_type": "stream",
     "text": [
      "Nonerate:  0.0 %\n",
      "Average value of the chosen candidate with none’s as 0 value (in own group):  0.8953372991235667\n",
      "Average value of the chosen candidate with None's excluded (in own group):  0.8953372991235667\n"
     ]
    },
    {
     "name": "stderr",
     "output_type": "stream",
     "text": [
      "100%|██████████| 50000/50000 [00:02<00:00, 19259.76it/s]\n"
     ]
    },
    {
     "name": "stdout",
     "output_type": "stream",
     "text": [
      "Nonerate:  0.0 %\n",
      "Average value of the chosen candidate with none’s as 0 value (in own group):  0.8900823947111253\n",
      "Average value of the chosen candidate with None's excluded (in own group):  0.8900823947111253\n"
     ]
    },
    {
     "data": {
      "text/plain": [
       "<matplotlib.legend.Legend at 0x7fbbfac18f70>"
      ]
     },
     "execution_count": 11,
     "metadata": {},
     "output_type": "execute_result"
    },
    {
     "data": {
      "image/png": "[encoded data removed]",
      "text/plain": [
       "<Figure size 432x288 with 1 Axes>"
      ]
     },
     "metadata": {
      "needs_background": "light"
     },
     "output_type": "display_data"
    }
   ],
   "source": [
    "import pandas as pd\n",
    "\n",
    "def FairGeneralProphetExtended(q, V, distribution_type, parameter_value):\n",
    "    s = 0.0\n",
    "    for i in range(0,len(V)): #value < 1 reaches a drop!\n",
    "        \n",
    "        assert (1.0 - (q[i] / (2 - s))) == (1- (q[i]/2)/(1-(s/2)))\n",
    "        \n",
    "        if V[i] >= Finv(distribution_type, (1.0 - (q[i] / (parameter_value - s)))):\n",
    "#         if V[i] >= Finv(distribution_type, (1- (q[i]/2)/(1-(summ/2)))):\n",
    "            return i\n",
    "        s += q[i]\n",
    "\n",
    "def FairIIDProphetExtended(Values, distribution_type, parameter_value):\n",
    "    for i in range(0, len(Values)):\n",
    "        p = (2.0 / 3.0) / len(Values)\n",
    "        \n",
    "        ii = int(i)\n",
    "        n = len(Values)\n",
    "        \n",
    "#         print((1.0 - p / (1.0 - p * ii)))\n",
    "#         print((2 / 3*n) / (1 - 2*(ii-1)/3*n))\n",
    "#         TODO: FIX THESE INCONSISTENISE, USE OUR OWN DEFINITION\n",
    "#         assert (1.0 - p / (1.0 - p * ii)) == (2/3*n)/(1-2(ii-1)/3*n)\n",
    "        \n",
    "        p = (parameter_value) / len(Values)\n",
    "        if Values[i] >= Finv(distribution_type, (1.0 - p / (1.0 - p * i))):\n",
    "            return i\n",
    "        \n",
    "def runExperimentExtended(algorithm, N_experimentReps, distribution_type, n_candidates, parameter_value):\n",
    "    arrivalPositionsChosen, chosenValues, chosenValuesExcludeNone = [0]*n_candidates, [], []\n",
    "    nones = 0\n",
    "    for _ in tqdm(range(0, N_experimentReps)):\n",
    "        q, Values = generateDistribution(distribution_type, n_candidates)\n",
    "        \n",
    "        if algorithm == \"FairGeneralProphet\":\n",
    "                result = FairGeneralProphetExtended(q, Values, distribution_type, parameter_value)\n",
    "        elif algorithm == \"FairIIDProphet\":\n",
    "                result = FairIIDProphetExtended(Values, distribution_type, parameter_value)\n",
    "        elif algorithm == \"SC\":\n",
    "                result = SC_algorithm(Values, distribution_type)\n",
    "        elif algorithm ==\"EHKS\":\n",
    "                result = EHKS_algorithm(Values, distribution_type)\n",
    "        elif algorithm == \"DP\":\n",
    "                result = DP_algorithm(Values, distribution_type)\n",
    "        if result != None:\n",
    "            arrivalPositionsChosen[result] += 1\n",
    "            chosenValues.append(Values[result])\n",
    "            chosenValuesExcludeNone.append(Values[result])\n",
    "            \n",
    "        if result == None: \n",
    "            chosenValues.append(0)\n",
    "            nones += 1\n",
    "            \n",
    "        \n",
    "    noneRate = nones/N_experimentReps\n",
    "        \n",
    "    return noneRate, sum(chosenValues)/N_experimentReps, sum(chosenValuesExcludeNone)/N_experimentReps, arrivalPositionsChosen, mean(chosenValues), mean(chosenValuesExcludeNone)\n",
    "\n",
    "df = pd.DataFrame(columns=['Parameter value', 'None rate', \"Mean value (None=0)\", \"Mean value (excluding None)\"])\n",
    "for param in [1.0, 1.25,1.5,1.75,2.0, 2.25, 2.5, 2.75, 3.0, 3.25 ,3.5]:\n",
    "    nonerate, avg_include, avg_exclude, chosen_positions, avg_include_own, avg_exclude_own = runExperimentExtended(algorithm=\"FairIIDProphet\", N_experimentReps=50000, \n",
    "                                                distribution_type=\"uniform\", n_candidates=50, parameter_value=param)\n",
    "    print(\"Nonerate: \", nonerate * 100, \"%\")\n",
    "#     print(\"Average value of the chosen candidate with none’s as 0 value (in whole group): \", avg_include)\n",
    "#     print(\"Average value of the chosen candidate with None's excluded (in whole group): \", avg_exclude)\n",
    "    \n",
    "    print(\"Average value of the chosen candidate with none’s as 0 value (in own group): \", avg_include_own)\n",
    "    print(\"Average value of the chosen candidate with None's excluded (in own group): \", avg_exclude_own)\n",
    "    \n",
    "    a_series = pd.Series([param,nonerate,avg_include_own,avg_exclude_own], index = df.columns)\n",
    "    df = df.append(a_series, ignore_index=True)\n",
    "    \n",
    "#     df = df.append([[param,avg_include,avg_exclude]], ignore_index=True)\n",
    "\n",
    "    plt.plot(range(0,50), chosen_positions, label= str(\"γ = \" + str(param)))\n",
    "# plt.plot(range(0,50), range(0,4000,80), label=\"replicate CFHOV for scale\")\n",
    "plt.xlabel(\"Arrival position\")\n",
    "plt.ylabel(\"Num Picked\")\n",
    "plt.legend(bbox_to_anchor=(0,1.02,1,0.2), loc=\"lower left\",\n",
    "                mode=\"expand\", borderaxespad=0, ncol=4)"
   ]
  },
  {
   "cell_type": "code",
   "execution_count": 12,
   "id": "00376514",
   "metadata": {},
   "outputs": [
    {
     "data": {
      "text/html": [
       "<div>\n",
       "<style scoped>\n",
       "    .dataframe tbody tr th:only-of-type {\n",
       "        vertical-align: middle;\n",
       "    }\n",
       "\n",
       "    .dataframe tbody tr th {\n",
       "        vertical-align: top;\n",
       "    }\n",
       "\n",
       "    .dataframe thead th {\n",
       "        text-align: right;\n",
       "    }\n",
       "</style>\n",
       "<table border=\"1\" class=\"dataframe\">\n",
       "  <thead>\n",
       "    <tr style=\"text-align: right;\">\n",
       "      <th></th>\n",
       "      <th>Parameter value</th>\n",
       "      <th>None rate</th>\n",
       "      <th>Mean value (None=0)</th>\n",
       "      <th>Mean value (excluding None)</th>\n",
       "    </tr>\n",
       "  </thead>\n",
       "  <tbody>\n",
       "    <tr>\n",
       "      <th>0</th>\n",
       "      <td>1.00</td>\n",
       "      <td>0.0</td>\n",
       "      <td>0.955747</td>\n",
       "      <td>0.955747</td>\n",
       "    </tr>\n",
       "    <tr>\n",
       "      <th>1</th>\n",
       "      <td>1.25</td>\n",
       "      <td>0.0</td>\n",
       "      <td>0.947220</td>\n",
       "      <td>0.947220</td>\n",
       "    </tr>\n",
       "    <tr>\n",
       "      <th>2</th>\n",
       "      <td>1.50</td>\n",
       "      <td>0.0</td>\n",
       "      <td>0.940069</td>\n",
       "      <td>0.940069</td>\n",
       "    </tr>\n",
       "    <tr>\n",
       "      <th>3</th>\n",
       "      <td>1.75</td>\n",
       "      <td>0.0</td>\n",
       "      <td>0.932874</td>\n",
       "      <td>0.932874</td>\n",
       "    </tr>\n",
       "    <tr>\n",
       "      <th>4</th>\n",
       "      <td>2.00</td>\n",
       "      <td>0.0</td>\n",
       "      <td>0.924190</td>\n",
       "      <td>0.924190</td>\n",
       "    </tr>\n",
       "    <tr>\n",
       "      <th>5</th>\n",
       "      <td>2.25</td>\n",
       "      <td>0.0</td>\n",
       "      <td>0.918689</td>\n",
       "      <td>0.918689</td>\n",
       "    </tr>\n",
       "    <tr>\n",
       "      <th>6</th>\n",
       "      <td>2.50</td>\n",
       "      <td>0.0</td>\n",
       "      <td>0.909288</td>\n",
       "      <td>0.909288</td>\n",
       "    </tr>\n",
       "    <tr>\n",
       "      <th>7</th>\n",
       "      <td>2.75</td>\n",
       "      <td>0.0</td>\n",
       "      <td>0.906477</td>\n",
       "      <td>0.906477</td>\n",
       "    </tr>\n",
       "    <tr>\n",
       "      <th>8</th>\n",
       "      <td>3.00</td>\n",
       "      <td>0.0</td>\n",
       "      <td>0.900192</td>\n",
       "      <td>0.900192</td>\n",
       "    </tr>\n",
       "    <tr>\n",
       "      <th>9</th>\n",
       "      <td>3.25</td>\n",
       "      <td>0.0</td>\n",
       "      <td>0.895337</td>\n",
       "      <td>0.895337</td>\n",
       "    </tr>\n",
       "    <tr>\n",
       "      <th>10</th>\n",
       "      <td>3.50</td>\n",
       "      <td>0.0</td>\n",
       "      <td>0.890082</td>\n",
       "      <td>0.890082</td>\n",
       "    </tr>\n",
       "  </tbody>\n",
       "</table>\n",
       "</div>"
      ],
      "text/plain": [
       "    Parameter value  None rate  Mean value (None=0)  \\\n",
       "0              1.00        0.0             0.955747   \n",
       "1              1.25        0.0             0.947220   \n",
       "2              1.50        0.0             0.940069   \n",
       "3              1.75        0.0             0.932874   \n",
       "4              2.00        0.0             0.924190   \n",
       "5              2.25        0.0             0.918689   \n",
       "6              2.50        0.0             0.909288   \n",
       "7              2.75        0.0             0.906477   \n",
       "8              3.00        0.0             0.900192   \n",
       "9              3.25        0.0             0.895337   \n",
       "10             3.50        0.0             0.890082   \n",
       "\n",
       "    Mean value (excluding None)  \n",
       "0                      0.955747  \n",
       "1                      0.947220  \n",
       "2                      0.940069  \n",
       "3                      0.932874  \n",
       "4                      0.924190  \n",
       "5                      0.918689  \n",
       "6                      0.909288  \n",
       "7                      0.906477  \n",
       "8                      0.900192  \n",
       "9                      0.895337  \n",
       "10                     0.890082  "
      ]
     },
     "execution_count": 12,
     "metadata": {},
     "output_type": "execute_result"
    }
   ],
   "source": [
    "df"
   ]
  },
  {
   "cell_type": "code",
   "execution_count": null,
   "id": "10ede430",
   "metadata": {},
   "outputs": [],
   "source": []
  }
 ],
 "metadata": {
  "jupytext": {
   "encoding": "# -*- coding: utf-8 -*-",
   "text_representation": {
    "extension": ".py",
    "format_name": "percent",
    "format_version": "1.3",
    "jupytext_version": "1.12.0"
   }
  },
  "kernelspec": {
   "display_name": "Python 3",
   "language": "python",
   "name": "python3"
  },
  "language_info": {
   "codemirror_mode": {
    "name": "ipython",
    "version": 3
   },
   "file_extension": ".py",
   "mimetype": "text/x-python",
   "name": "python",
   "nbconvert_exporter": "python",
   "pygments_lexer": "ipython3",
   "version": "3.8.8"
  }
 },
 "nbformat": 4,
 "nbformat_minor": 5
}
