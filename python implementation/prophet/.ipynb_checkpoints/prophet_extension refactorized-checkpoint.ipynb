{
 "cells": [
  {
   "cell_type": "markdown",
   "id": "fe831933",
   "metadata": {},
   "source": [
    "# Prophet extension"
   ]
  },
  {
   "cell_type": "code",
   "execution_count": 8,
   "id": "662d8830",
   "metadata": {},
   "outputs": [],
   "source": [
    "from ipynb.fs.defs.prophet import generateDistribution, Finv\n",
    "import pandas as pd\n",
    "import numpy as np\n",
    "from tqdm import tqdm # for the progress bar\n",
    "from statistics import mean\n",
    "import matplotlib.pyplot as plt\n",
    "import dataframe_image as dfi\n",
    "from scipy.stats import ttest_ind\n",
    "\n",
    "#packages for storing results\n",
    "import os\n",
    "from datetime import datetime"
   ]
  },
  {
   "cell_type": "code",
   "execution_count": 6,
   "id": "e2118a3d",
   "metadata": {},
   "outputs": [],
   "source": [
    "def FairGeneralProphetExtended(q, V, distribution_type, epsilon):\n",
    "    s = 0.0\n",
    "    n = len(V)\n",
    "    for i in range(0,n): #value < 1 reaches a drop!\n",
    "        p = (1- (q[i]/2)/(epsilon-(s/2)))\n",
    "        if V[i] >= Finv(distribution_type, p):\n",
    "            return i\n",
    "        s += q[i]\n",
    "\n",
    "def FairIIDProphetExtended(V, distribution_type, epsilon):\n",
    "    n = len(V)\n",
    "    for i in range(0, n):\n",
    "        p = 1 - (2/(3*n)) / (epsilon - 2*(i-1)/(3*n))\n",
    "        if V[i] >= Finv(distribution_type, p):\n",
    "                 return i\n",
    "        \n",
    "def runExperimentExtended(algorithm, N_experimentReps, distribution_type, n_candidates, epsilon):\n",
    "    arrivalPositionsChosen, chosenValues, chosenValuesExcludeNone = [0]*n_candidates, [], []\n",
    "    nones = 0\n",
    "    for _ in tqdm(range(0, N_experimentReps)):\n",
    "        q, Values = generateDistribution(distribution_type, n_candidates)\n",
    "        \n",
    "        if algorithm == \"FairGeneralProphet\":\n",
    "                result = FairGeneralProphetExtended(q, Values, distribution_type, epsilon)\n",
    "        elif algorithm == \"FairIIDProphet\":\n",
    "                result = FairIIDProphetExtended(Values, distribution_type, epsilon)\n",
    "        if result != None:\n",
    "            arrivalPositionsChosen[result] += 1\n",
    "            chosenValues.append(Values[result])\n",
    "            chosenValuesExcludeNone.append(Values[result])\n",
    "            \n",
    "        if result == None: \n",
    "            chosenValues.append(0)\n",
    "            nones += 1     \n",
    "        \n",
    "    noneRate = nones/N_experimentReps\n",
    "        \n",
    "    return noneRate, mean(chosenValues), mean(chosenValuesExcludeNone), arrivalPositionsChosen\n",
    "\n",
    "def grid_search(algorithm, N_experimentReps, distribution_type,n_candidates, parameters):\n",
    "    df = pd.DataFrame(columns=['epsilon', 'None rate', \"Mean value (None=0)\", \"Mean value (excluding None)\"])\n",
    "    \n",
    "    print(algorithm,distribution_type)\n",
    "    for param in parameters:\n",
    "        if algorithm == 'FairIIDProphet':\n",
    "            param = round(param,1) # round epsilon in order to deal with float mistake in np.arange generation\n",
    "        \n",
    "        nonerate, avg_include, avg_exclude, chosen_positions = runExperimentExtended(algorithm=algorithm, \n",
    "                                                                                     N_experimentReps=N_experimentReps,\n",
    "                                                                                     distribution_type=distribution_type, \n",
    "                                                                                     n_candidates=n_candidates, \n",
    "                                                                                     epsilon=param\n",
    "                                                                                    )\n",
    "\n",
    "        a_series = pd.Series([param,nonerate,avg_include,avg_exclude], index = df.columns)\n",
    "        df = df.append(a_series, ignore_index=True)\n",
    "\n",
    "        plt.plot(range(0,n_candidates), chosen_positions, label= str(\"γ = \" + str(param)))\n",
    "    plt.xlabel(\"Arrival position\")\n",
    "    plt.ylabel(\"Num Picked\")\n",
    "    plt.legend(bbox_to_anchor=(0,1.02,1,0.2), loc=\"lower left\",\n",
    "                    mode=\"expand\", borderaxespad=0, ncol=2)\n",
    "    plt.savefig(\"images/extension/\"+algorithm+'_'+distribution_type+\".jpeg\", dpi=500)\n",
    "    dfi.export(df, 'images/extension/'+algorithm+'_'+distribution_type+'_table.jpeg')\n",
    "    plt.show()\n",
    "    print(df)\n"
   ]
  },
  {
   "cell_type": "markdown",
   "id": "f3eff173",
   "metadata": {},
   "source": [
    "## Running experiments"
   ]
  },
  {
   "cell_type": "code",
   "execution_count": null,
   "id": "994f4b8f",
   "metadata": {},
   "outputs": [
    {
     "name": "stdout",
     "output_type": "stream",
     "text": [
      "FairGeneralProphet uniform\n"
     ]
    },
    {
     "name": "stderr",
     "output_type": "stream",
     "text": [
      "100%|██████████████████████████████████| 50000/50000 [00:02<00:00, 22053.43it/s]\n",
      "100%|██████████████████████████████████| 50000/50000 [00:02<00:00, 17964.98it/s]\n",
      "100%|██████████████████████████████████| 50000/50000 [00:03<00:00, 15747.09it/s]\n",
      "100%|██████████████████████████████████| 50000/50000 [00:03<00:00, 14937.36it/s]\n",
      "100%|██████████████████████████████████| 50000/50000 [00:03<00:00, 14493.03it/s]\n",
      "[0202/222804.701482:ERROR:xattr.cc(63)] setxattr org.chromium.crashpad.database.initialized on file /var/folders/t9/mpvzds097dg0rgn1txtmvf180000gn/T/: Operation not permitted (1)\n",
      "[0202/222804.703910:ERROR:file_io.cc(94)] ReadExactly: expected 8, observed 0\n",
      "[0202/222804.705576:ERROR:xattr.cc(63)] setxattr org.chromium.crashpad.database.initialized on file /var/folders/t9/mpvzds097dg0rgn1txtmvf180000gn/T/: Operation not permitted (1)\n",
      "[0202/222805.438691:INFO:headless_shell.cc(653)] Written to file /var/folders/t9/mpvzds097dg0rgn1txtmvf180000gn/T/tmp3g_h54_h/temp.png.\n"
     ]
    },
    {
     "data": {
      "image/png": "[encoded data removed]",
      "text/plain": [
       "<Figure size 432x288 with 1 Axes>"
      ]
     },
     "metadata": {
      "needs_background": "light"
     },
     "output_type": "display_data"
    },
    {
     "name": "stdout",
     "output_type": "stream",
     "text": [
      "   epsilon  None rate  Mean value (None=0)  Mean value (excluding None)\n",
      "0     0.25    0.00000             0.924606                     0.924606\n",
      "1     0.50    0.00000             0.955734                     0.955734\n",
      "2     0.75    0.33364             0.659131                     0.989152\n",
      "3     1.00    0.49950             0.497047                     0.993101\n",
      "4     1.25    0.59824             0.399718                     0.994917\n",
      "FairGeneralProphet binomial\n"
     ]
    },
    {
     "name": "stderr",
     "output_type": "stream",
     "text": [
      "100%|█████████████████████████████████████| 50000/50000 [10:29<00:00, 79.46it/s]\n",
      "100%|█████████████████████████████████████| 50000/50000 [20:38<00:00, 40.37it/s]\n",
      "  4%|█▍                                    | 1901/50000 [01:02<26:26, 30.33it/s]"
     ]
    }
   ],
   "source": [
    "date_time = datetime.now().strftime(\"%d_%m_%H.%M\")\n",
    "path = os.path.join('images','extension',date_time)\n",
    "print(path)\n",
    "                    \n",
    "if not os.path.exists(path):\n",
    "    os.makedirs(path)\n",
    "\n",
    "# Fair general prophet Uniform distribution\n",
    "parameters_general_prophet = np.arange(0.25, 1.5, .25)\n",
    "\n",
    "grid_search(algorithm='FairGeneralProphet',\n",
    "            N_experimentReps = 50000,\n",
    "            distribution_type = 'uniform',\n",
    "            n_candidates = 50,\n",
    "            parameters = parameters_general_prophet)\n",
    "\n",
    "# Fair general prophet Binomial distribution\n",
    "grid_search(algorithm='FairGeneralProphet',\n",
    "            N_experimentReps = 50000,\n",
    "            distribution_type = 'binomial',\n",
    "            n_candidates = 1000,\n",
    "            parameters = parameters_general_prophet)\n",
    "\n",
    "\n",
    "# Fair IID prophet Uniform distribution\n",
    "parameters_fair_iid = np.arange(0.5, 1.3, 0.10)\n",
    "excluded_parameters = np.isin(parameters_fair_iid, [0.6, 0.8, 1.1], invert=True) #For clarity in the plots, we epsilon values 0.6, 0.8, or 1.1 from the grid search results\n",
    "parameters_fair_iid = parameters_fair_iid[excluded_parameters]\n",
    "\n",
    "grid_search(algorithm='FairIIDProphet',\n",
    "            N_experimentReps = 50000,\n",
    "            distribution_type = 'uniform',\n",
    "            n_candidates = 50,\n",
    "            parameters = parameters_fair_iid)\n",
    "\n",
    "# Fair IID prophet Binomial distribution\n",
    "grid_search(algorithm='FairIIDProphet',\n",
    "            N_experimentReps = 50000,\n",
    "            distribution_type = 'binomial',\n",
    "            n_candidates = 1000,\n",
    "            parameters = parameters_fair_iid)"
   ]
  },
  {
   "cell_type": "markdown",
   "id": "b023943e",
   "metadata": {},
   "source": [
    "## Running the significance test for the extension, uniform distribution"
   ]
  },
  {
   "cell_type": "markdown",
   "id": "e8cfd8d6",
   "metadata": {},
   "source": [
    "_Output is two lists of 10x the avgInclude for the two groups. Group 1 is PaperValue, Group 2 is ourExtensionValue, for both FairProphet and FairIID._"
   ]
  },
  {
   "cell_type": "code",
   "execution_count": null,
   "id": "f2be1768",
   "metadata": {},
   "outputs": [],
   "source": [
    "FairProphetPA_PaperValue, FairProphetPA_ExtensionValue = [], []\n",
    "FairProphetIID_PaperValue, FairProphetIID_ExtensionValue = [], []\n",
    "\n",
    "FairProphetPA_PaperValue_exclude, FairProphetPA_ExtensionValue_exclude = [], []\n",
    "FairProphetIID_PaperValue_exclude, FairProphetIID_ExtensionValue_exclude = [], []\n",
    "\n",
    "FairProphetPA_PaperParameter = 1\n",
    "FairProphetIID_PaperParameter = 1\n",
    "FairProphetPA_ExtensionParameter = .5\n",
    "FairProphetIID_ExtensionParameter = .7\n",
    "\n",
    "for i in range(0, 10):\n",
    "    _, avg_include, avg_exclude, _ = runExperimentExtended(algorithm=\"FairGeneralProphet\", \n",
    "                                                                                     N_experimentReps=50000,\n",
    "                                                                                     distribution_type=\"uniform\", \n",
    "                                                                                     n_candidates=50, \n",
    "                                                                                     epsilon=FairProphetPA_PaperParameter\n",
    "                                                                                    )\n",
    "    FairProphetPA_PaperValue.append(avg_include)\n",
    "    FairProphetPA_PaperValue_exclude.append(avg_exclude)\n",
    "    \n",
    "    _, avg_include, avg_exclude, _ = runExperimentExtended(algorithm=\"FairGeneralProphet\", \n",
    "                                                                                     N_experimentReps=50000,\n",
    "                                                                                     distribution_type=\"uniform\", \n",
    "                                                                                     n_candidates=50, \n",
    "                                                                                     epsilon=FairProphetPA_ExtensionParameter\n",
    "                                                                                    )\n",
    "    FairProphetPA_ExtensionValue.append(avg_include)\n",
    "    FairProphetPA_ExtensionValue_exclude.append(avg_exclude)\n",
    "    \n",
    "    \n",
    "for i in range(0, 10):\n",
    "    _, avg_include, avg_exclude, _ = runExperimentExtended(algorithm=\"FairIIDProphet\", \n",
    "                                                                                     N_experimentReps=50000,\n",
    "                                                                                     distribution_type=\"uniform\", \n",
    "                                                                                     n_candidates=50, \n",
    "                                                                                     epsilon=FairProphetIID_PaperParameter\n",
    "                                                                                    )\n",
    "    FairProphetIID_PaperValue.append(avg_include)\n",
    "    FairProphetIID_PaperValue_exclude.append(avg_exclude)\n",
    "    \n",
    "    _, avg_include, avg_exclude, _ = runExperimentExtended(algorithm=\"FairIIDProphet\", \n",
    "                                                                                     N_experimentReps=50000,\n",
    "                                                                                     distribution_type=\"uniform\", \n",
    "                                                                                     n_candidates=50, \n",
    "                                                                                     epsilon=FairProphetIID_ExtensionParameter\n",
    "                                                                                    )\n",
    "    FairProphetIID_ExtensionValue.append(avg_include)\n",
    "    FairProphetIID_ExtensionValue_exclude.append(avg_exclude)\n",
    "    \n",
    "    \n",
    "# FairProphetPA_PaperValue, FairProphetPA_ExtensionValue = [], []\n",
    "# FairProphetIID_PaperValue, FairProphetIID_ExtensionValue = [], []\n",
    "\n",
    "# FairProphetPA_PaperValue_exclude, FairProphetPA_ExtensionValue_exclude = [], []\n",
    "# FairProphetIID_PaperValue_exclude, FairProphetIID_ExtensionValue_exclude = [], []\n"
   ]
  },
  {
   "cell_type": "code",
   "execution_count": null,
   "id": "159dc38b",
   "metadata": {},
   "outputs": [],
   "source": [
    "print(ttest_ind(FairProphetPA_PaperValue, FairProphetPA_ExtensionValue))\n",
    "print(ttest_ind(FairProphetIID_PaperValue, FairProphetIID_ExtensionValue))"
   ]
  },
  {
   "cell_type": "code",
   "execution_count": null,
   "id": "2f3da355",
   "metadata": {},
   "outputs": [],
   "source": [
    "print(ttest_ind(FairProphetPA_PaperValue_exclude, FairProphetPA_ExtensionValue_exclude))\n",
    "print(ttest_ind(FairProphetIID_PaperValue_exclude, FairProphetIID_ExtensionValue_exclude))"
   ]
  }
 ],
 "metadata": {
  "jupytext": {
   "encoding": "# -*- coding: utf-8 -*-",
   "text_representation": {
    "extension": ".py",
    "format_name": "percent",
    "format_version": "1.3",
    "jupytext_version": "1.12.0"
   }
  },
  "kernelspec": {
   "display_name": "Python 3 (ipykernel)",
   "language": "python",
   "name": "python3"
  },
  "language_info": {
   "codemirror_mode": {
    "name": "ipython",
    "version": 3
   },
   "file_extension": ".py",
   "mimetype": "text/x-python",
   "name": "python",
   "nbconvert_exporter": "python",
   "pygments_lexer": "ipython3",
   "version": "3.7.0"
  }
 },
 "nbformat": 4,
 "nbformat_minor": 5
}
