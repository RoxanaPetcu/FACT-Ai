{
 "cells": [
  {
   "cell_type": "markdown",
   "id": "fe831933",
   "metadata": {},
   "source": [
    "# Prophet extension"
   ]
  },
  {
   "cell_type": "code",
   "execution_count": 1,
   "id": "662d8830",
   "metadata": {},
   "outputs": [
    {
     "name": "stderr",
     "output_type": "stream",
     "text": [
      "100%|███████████████████████████████████████████████████████████████████████████████| 50/50 [00:00<00:00, 12422.41it/s]\n",
      "100%|████████████████████████████████████████████████████████████████████████████████| 50/50 [00:00<00:00, 7161.43it/s]\n",
      "100%|███████████████████████████████████████████████████████████████████████████████| 50/50 [00:00<00:00, 16524.72it/s]\n",
      "100%|████████████████████████████████████████████████████████████████████████████████| 50/50 [00:00<00:00, 8355.52it/s]\n",
      "100%|█████████████████████████████████████████████████████████████████████████████████| 50/50 [00:00<00:00, 677.17it/s]\n",
      "100%|███████████████████████████████████████████████████████████████████████████████| 50/50 [00:00<00:00, 12426.09it/s]\n",
      "100%|█████████████████████████████████████████████████████████████████████████████████| 50/50 [00:00<00:00, 100.86it/s]\n",
      "100%|█████████████████████████████████████████████████████████████████████████████████| 50/50 [00:00<00:00, 115.24it/s]\n",
      "100%|████████████████████████████████████████████████████████████████████████████████| 50/50 [00:00<00:00, 1113.04it/s]\n",
      "100%|████████████████████████████████████████████████████████████████████████████████| 50/50 [00:00<00:00, 2949.21it/s]\n",
      "100%|██████████████████████████████████████████████████████████████████████████████████| 50/50 [00:00<00:00, 72.24it/s]\n",
      "100%|██████████████████████████████████████████████████████████████████████████████████| 50/50 [00:04<00:00, 12.34it/s]\n",
      "100%|███████████████████████████████████████████████████████████████████████| 100000/100000 [00:06<00:00, 15640.40it/s]\n"
     ]
    }
   ],
   "source": [
    "import matplotlib.pyplot as plt\n",
    "import dataframe_image as dfi\n",
    "import pandas as pd\n",
    "import numpy as np\n",
    "import datetime\n",
    "import os\n",
    "from ipynb.fs.defs.prophet import generate_distribution, finv\n",
    "from scipy.stats import ttest_ind\n",
    "from statistics import mean\n",
    "from tqdm import tqdm"
   ]
  },
  {
   "cell_type": "code",
   "execution_count": 2,
   "id": "e2118a3d",
   "metadata": {},
   "outputs": [],
   "source": [
    "def fair_general_prophet_extended(q, V, distribution_type, epsilon):\n",
    "    \"\"\"The Fair General Prophet algorithm\n",
    "\n",
    "    Args:\n",
    "        q (list): probability of picking a candidate within that group\n",
    "        V (np.ndarray): list of values for each candidate\n",
    "        distribution_type (string): string to indicate the distribution type\n",
    "        epsilon (float): hyperparameter\n",
    "\n",
    "    Returns:\n",
    "        int: The index of the candidate\n",
    "    \"\"\"\n",
    "\n",
    "    s = 0.0\n",
    "    for i in range(len(V)):\n",
    "        p = (1 - (q[i] / 2) / (epsilon - (s / 2)))\n",
    "        if V[i] >= finv(distribution_type, p):\n",
    "            return i\n",
    "        s += q[i]\n",
    "\n",
    "def fair_IID_prophet_extended(V, distribution_type, epsilon):\n",
    "    \"\"\"The Fair IID Prophet algorithm\n",
    "\n",
    "    Args:\n",
    "        values (np.ndarray): list of values for each candidate\n",
    "        distribution_type (string): string to indicate the distribution type\n",
    "        epsilon (float): hyperparameter\n",
    "\n",
    "    Returns:\n",
    "        int: The index of the candidate\n",
    "    \"\"\"   \n",
    "\n",
    "    n = len(V)\n",
    "    for i in range(n):\n",
    "        p = 1 - (2 / (3 * n)) / (epsilon - 2 * (i - 1) / (3 * n))\n",
    "        if V[i] >= finv(distribution_type, p):\n",
    "                 return i\n",
    "        \n",
    "def run_experiment_extended(algorithm, n_experiment_reps, distribution_type, n_candidates, epsilon):\n",
    "    \"\"\"Runs the experiments with the algorithm specified\n",
    "\n",
    "    Args:\n",
    "        algorithm (string): either \"FairGeneralProphet\", \"FairIIDProphet\", \"SC\", \"EHKS\", \"CFHOV\", \"DP\"\n",
    "        n_experiment_reps (int): the number of times the algorithm needs to run\n",
    "        distribution_type (string): either \"uniform\" or \"binomial\"\n",
    "        n_candidates (int): the number of candidates in each experiment\n",
    "        epsilon (float): hyperparameter\n",
    "\n",
    "    Returns:\n",
    "        list: array containing which candidate position was chosen\n",
    "        list: array contraining the values of each picked/selected candidate\n",
    "    \"\"\"    \n",
    "\n",
    "    arrival_position, chosen_values, chosen_values_exclude_None = [0] * n_candidates, [], []\n",
    "    nones = 0\n",
    "\n",
    "    for _ in tqdm(range(n_experiment_reps)):\n",
    "\n",
    "        q, values = generate_distribution(distribution_type, n_candidates)\n",
    "\n",
    "        if algorithm == \"FairGeneralProphet\":\n",
    "            result = fair_general_prophet_extended(q, values, distribution_type, epsilon)\n",
    "        elif algorithm == \"FairIIDProphet\":\n",
    "            result = fair_IID_prophet_extended(values, distribution_type, epsilon)\n",
    "        if result != None:\n",
    "            arrival_position[result] += 1\n",
    "            chosen_values.append(values[result])\n",
    "            chosen_values_exclude_None.append(values[result])\n",
    "            \n",
    "        if result == None: \n",
    "            chosen_values.append(0)\n",
    "            nones += 1     \n",
    "        \n",
    "    none_rate = nones / n_experiment_reps\n",
    "        \n",
    "    return none_rate, mean(chosen_values), mean(chosen_values_exclude_None), arrival_position\n",
    "\n",
    "def grid_search(algorithm, n_experiment_reps, distribution_type, n_candidates, parameters, path):\n",
    "    \"\"\"Runs a grid search for the optimal parameter epsilon\n",
    "\n",
    "    Args:\n",
    "        algorithm (string): either \"FairGeneralProphet\", \"FairIIDProphet\", \"SC\", \"EHKS\", \"CFHOV\", \"DP\"\n",
    "        n_experiment_reps (int): the number of times the algorithm needs to run\n",
    "        distribution_type (string): either \"uniform\" or \"binomial\"\n",
    "        n_candidates (int): the number of candidates in each experiment\n",
    "        parameters (list): list of values for the epsilon hyperparameter\n",
    "        path (string): current directory\n",
    "    \"\"\"    \n",
    "\n",
    "    df = pd.DataFrame(columns=['epsilon', 'None rate', \"Mean value (None=0)\", \"Mean value (excluding None)\"])\n",
    "    print(algorithm, distribution_type)\n",
    "\n",
    "    for param in parameters:\n",
    "        if algorithm == 'FairIIDProphet':\n",
    "            param = round(param, 1) # round epsilon in order to deal with float mistake in np.arange generation\n",
    "        if algorithm == 'FairIIDProphet' and param in [0.6,0.8,1.1]:\n",
    "            continue # For clarity in the plots, we epsilon values 0.6, 0.8, or 1.1 from the grid search results\n",
    "\n",
    "        none_rate, avg_include, avg_exclude, chosen_positions = run_experiment_extended(algorithm=algorithm, \n",
    "                                                                                       n_experiment_reps=n_experiment_reps,\n",
    "                                                                                       distribution_type=distribution_type, \n",
    "                                                                                       n_candidates=n_candidates, \n",
    "                                                                                       epsilon=param)\n",
    "\n",
    "        a_series = pd.Series([param, none_rate, avg_include, avg_exclude], index = df.columns)\n",
    "        df = df.append(a_series, ignore_index=True)\n",
    "        plt.plot(range(50), chosen_positions, label= str(\"γ = \" + str(param)))\n",
    "\n",
    "    plt.xlabel(\"Arrival position\")\n",
    "    plt.ylabel(\"Num Picked\")\n",
    "    plt.legend(bbox_to_anchor=(0, 1.02, 1, 0.2), loc=\"lower left\", mode=\"expand\", borderaxespad=0, ncol=2)\n",
    "    plt.tight_layout()\n",
    "    plt.savefig(\"images/extensionFairPA_uniform.png\")\n",
    "    dfi.export(df, 'images/extensionFairPA_table_uniform.png')\n",
    "    plt.show()\n",
    "    print(df)\n"
   ]
  },
  {
   "cell_type": "markdown",
   "id": "f3eff173",
   "metadata": {},
   "source": [
    "## Running experiments"
   ]
  },
  {
   "cell_type": "code",
   "execution_count": 3,
   "id": "994f4b8f",
   "metadata": {},
   "outputs": [
    {
     "name": "stdout",
     "output_type": "stream",
     "text": [
      "FairGeneralProphet uniform\n"
     ]
    },
    {
     "name": "stderr",
     "output_type": "stream",
     "text": [
      "100%|█████████████████████████████████████████████████████████████████████████| 50000/50000 [00:03<00:00, 16035.32it/s]\n",
      "100%|█████████████████████████████████████████████████████████████████████████| 50000/50000 [00:03<00:00, 13109.09it/s]\n",
      "100%|█████████████████████████████████████████████████████████████████████████| 50000/50000 [00:04<00:00, 11768.65it/s]\n",
      "100%|█████████████████████████████████████████████████████████████████████████| 50000/50000 [00:04<00:00, 11375.92it/s]\n",
      "100%|█████████████████████████████████████████████████████████████████████████| 50000/50000 [00:04<00:00, 11269.06it/s]\n"
     ]
    },
    {
     "data": {
      "image/png": "[encoded data removed]",
      "text/plain": [
       "<Figure size 432x288 with 1 Axes>"
      ]
     },
     "metadata": {
      "needs_background": "light"
     },
     "output_type": "display_data"
    },
    {
     "name": "stdout",
     "output_type": "stream",
     "text": [
      "   epsilon  None rate  Mean value (None=0)  Mean value (excluding None)\n",
      "0     0.25    0.00000             0.923105                     0.923105\n",
      "1     0.50    0.00000             0.955292                     0.955292\n",
      "2     0.75    0.32962             0.663126                     0.989180\n",
      "3     1.00    0.49668             0.499861                     0.993128\n",
      "4     1.25    0.60066             0.397300                     0.994891\n",
      "FairGeneralProphet binomial\n"
     ]
    },
    {
     "name": "stderr",
     "output_type": "stream",
     "text": [
      "  0%|▎                                                                             | 232/50000 [00:06<22:33, 36.77it/s]\n"
     ]
    },
    {
     "ename": "KeyboardInterrupt",
     "evalue": "",
     "output_type": "error",
     "traceback": [
      "\u001b[1;31m---------------------------------------------------------------------------\u001b[0m",
      "\u001b[1;31mKeyboardInterrupt\u001b[0m                         Traceback (most recent call last)",
      "\u001b[1;32m~\\AppData\\Local\\Temp/ipykernel_13812/4205934397.py\u001b[0m in \u001b[0;36m<module>\u001b[1;34m\u001b[0m\n\u001b[0;32m     22\u001b[0m             \u001b[0mn_candidates\u001b[0m \u001b[1;33m=\u001b[0m \u001b[1;36m1000\u001b[0m\u001b[1;33m,\u001b[0m\u001b[1;33m\u001b[0m\u001b[1;33m\u001b[0m\u001b[0m\n\u001b[0;32m     23\u001b[0m             \u001b[0mparameters\u001b[0m \u001b[1;33m=\u001b[0m \u001b[0mparameters_general_prophet\u001b[0m\u001b[1;33m,\u001b[0m\u001b[1;33m\u001b[0m\u001b[1;33m\u001b[0m\u001b[0m\n\u001b[1;32m---> 24\u001b[1;33m             path = path)\n\u001b[0m\u001b[0;32m     25\u001b[0m \u001b[1;33m\u001b[0m\u001b[0m\n\u001b[0;32m     26\u001b[0m \u001b[1;31m# Fair IID prophet Uniform distribution\u001b[0m\u001b[1;33m\u001b[0m\u001b[1;33m\u001b[0m\u001b[1;33m\u001b[0m\u001b[0m\n",
      "\u001b[1;32m~\\AppData\\Local\\Temp/ipykernel_13812/3411806531.py\u001b[0m in \u001b[0;36mgrid_search\u001b[1;34m(algorithm, n_experiment_reps, distribution_type, n_candidates, parameters, path)\u001b[0m\n\u001b[0;32m    101\u001b[0m                                                                                        \u001b[0mdistribution_type\u001b[0m\u001b[1;33m=\u001b[0m\u001b[0mdistribution_type\u001b[0m\u001b[1;33m,\u001b[0m\u001b[1;33m\u001b[0m\u001b[1;33m\u001b[0m\u001b[0m\n\u001b[0;32m    102\u001b[0m                                                                                        \u001b[0mn_candidates\u001b[0m\u001b[1;33m=\u001b[0m\u001b[0mn_candidates\u001b[0m\u001b[1;33m,\u001b[0m\u001b[1;33m\u001b[0m\u001b[1;33m\u001b[0m\u001b[0m\n\u001b[1;32m--> 103\u001b[1;33m                                                                                        epsilon=param)\n\u001b[0m\u001b[0;32m    104\u001b[0m \u001b[1;33m\u001b[0m\u001b[0m\n\u001b[0;32m    105\u001b[0m         \u001b[0ma_series\u001b[0m \u001b[1;33m=\u001b[0m \u001b[0mpd\u001b[0m\u001b[1;33m.\u001b[0m\u001b[0mSeries\u001b[0m\u001b[1;33m(\u001b[0m\u001b[1;33m[\u001b[0m\u001b[0mparam\u001b[0m\u001b[1;33m,\u001b[0m \u001b[0mnone_rate\u001b[0m\u001b[1;33m,\u001b[0m \u001b[0mavg_include\u001b[0m\u001b[1;33m,\u001b[0m \u001b[0mavg_exclude\u001b[0m\u001b[1;33m]\u001b[0m\u001b[1;33m,\u001b[0m \u001b[0mindex\u001b[0m \u001b[1;33m=\u001b[0m \u001b[0mdf\u001b[0m\u001b[1;33m.\u001b[0m\u001b[0mcolumns\u001b[0m\u001b[1;33m)\u001b[0m\u001b[1;33m\u001b[0m\u001b[1;33m\u001b[0m\u001b[0m\n",
      "\u001b[1;32m~\\AppData\\Local\\Temp/ipykernel_13812/3411806531.py\u001b[0m in \u001b[0;36mrun_experiment_extended\u001b[1;34m(algorithm, n_experiment_reps, distribution_type, n_candidates, epsilon)\u001b[0m\n\u001b[0;32m     57\u001b[0m     \u001b[1;32mfor\u001b[0m \u001b[0m_\u001b[0m \u001b[1;32min\u001b[0m \u001b[0mtqdm\u001b[0m\u001b[1;33m(\u001b[0m\u001b[0mrange\u001b[0m\u001b[1;33m(\u001b[0m\u001b[0mn_experiment_reps\u001b[0m\u001b[1;33m)\u001b[0m\u001b[1;33m)\u001b[0m\u001b[1;33m:\u001b[0m\u001b[1;33m\u001b[0m\u001b[1;33m\u001b[0m\u001b[0m\n\u001b[0;32m     58\u001b[0m \u001b[1;33m\u001b[0m\u001b[0m\n\u001b[1;32m---> 59\u001b[1;33m         \u001b[0mq\u001b[0m\u001b[1;33m,\u001b[0m \u001b[0mvalues\u001b[0m \u001b[1;33m=\u001b[0m \u001b[0mgenerate_distribution\u001b[0m\u001b[1;33m(\u001b[0m\u001b[0mdistribution_type\u001b[0m\u001b[1;33m,\u001b[0m \u001b[0mn_candidates\u001b[0m\u001b[1;33m)\u001b[0m\u001b[1;33m\u001b[0m\u001b[1;33m\u001b[0m\u001b[0m\n\u001b[0m\u001b[0;32m     60\u001b[0m \u001b[1;33m\u001b[0m\u001b[0m\n\u001b[0;32m     61\u001b[0m         \u001b[1;32mif\u001b[0m \u001b[0malgorithm\u001b[0m \u001b[1;33m==\u001b[0m \u001b[1;34m\"FairGeneralProphet\"\u001b[0m\u001b[1;33m:\u001b[0m\u001b[1;33m\u001b[0m\u001b[1;33m\u001b[0m\u001b[0m\n",
      "\u001b[1;32mC:\\ComputerScience\\A_Master_AI_UvA\\Year2\\Period3-FACT\\FACT-Ai\\python implementation\\prophet\\prophet.py\u001b[0m in \u001b[0;36mgenerate_distribution\u001b[1;34m(distribution_type, n)\u001b[0m\n\u001b[0;32m    282\u001b[0m         \u001b[0mq\u001b[0m\u001b[1;33m,\u001b[0m \u001b[0mV\u001b[0m \u001b[1;33m=\u001b[0m \u001b[1;33m[\u001b[0m\u001b[1;36m1\u001b[0m \u001b[1;33m/\u001b[0m \u001b[0mn\u001b[0m\u001b[1;33m]\u001b[0m \u001b[1;33m*\u001b[0m \u001b[0mn\u001b[0m \u001b[1;33m,\u001b[0m \u001b[0mrng\u001b[0m\u001b[1;33m.\u001b[0m\u001b[0muniform\u001b[0m\u001b[1;33m(\u001b[0m\u001b[0mlow\u001b[0m\u001b[1;33m=\u001b[0m\u001b[1;36m0.0\u001b[0m\u001b[1;33m,\u001b[0m \u001b[0mhigh\u001b[0m\u001b[1;33m=\u001b[0m\u001b[1;36m1.0\u001b[0m\u001b[1;33m,\u001b[0m \u001b[0msize\u001b[0m\u001b[1;33m=\u001b[0m\u001b[0mn\u001b[0m\u001b[1;33m)\u001b[0m\u001b[1;33m\u001b[0m\u001b[1;33m\u001b[0m\u001b[0m\n\u001b[0;32m    283\u001b[0m     \u001b[1;32melif\u001b[0m \u001b[0mdistribution_type\u001b[0m \u001b[1;33m==\u001b[0m \u001b[1;34m\"binomial\"\u001b[0m\u001b[1;33m:\u001b[0m\u001b[1;33m\u001b[0m\u001b[1;33m\u001b[0m\u001b[0m\n\u001b[1;32m--> 284\u001b[1;33m         \u001b[0mq\u001b[0m\u001b[1;33m,\u001b[0m \u001b[0mV\u001b[0m \u001b[1;33m=\u001b[0m \u001b[1;33m[\u001b[0m\u001b[1;36m1\u001b[0m \u001b[1;33m/\u001b[0m \u001b[0mn\u001b[0m\u001b[1;33m]\u001b[0m \u001b[1;33m*\u001b[0m \u001b[0mn\u001b[0m \u001b[1;33m,\u001b[0m \u001b[0mrng\u001b[0m\u001b[1;33m.\u001b[0m\u001b[0mbinomial\u001b[0m\u001b[1;33m(\u001b[0m\u001b[0mn\u001b[0m\u001b[1;33m=\u001b[0m\u001b[1;36m1000\u001b[0m\u001b[1;33m,\u001b[0m \u001b[0mp\u001b[0m\u001b[1;33m=\u001b[0m\u001b[1;36m.5\u001b[0m\u001b[1;33m,\u001b[0m \u001b[0msize\u001b[0m\u001b[1;33m=\u001b[0m\u001b[0mn\u001b[0m\u001b[1;33m)\u001b[0m\u001b[1;33m\u001b[0m\u001b[1;33m\u001b[0m\u001b[0m\n\u001b[0m\u001b[0;32m    285\u001b[0m \u001b[1;33m\u001b[0m\u001b[0m\n\u001b[0;32m    286\u001b[0m     \u001b[1;32mreturn\u001b[0m \u001b[0mq\u001b[0m\u001b[1;33m,\u001b[0m \u001b[0mV\u001b[0m\u001b[1;33m\u001b[0m\u001b[1;33m\u001b[0m\u001b[0m\n",
      "\u001b[1;31mKeyboardInterrupt\u001b[0m: "
     ]
    }
   ],
   "source": [
    "# Creating directory to save to\n",
    "date_time = datetime.datetime.now().strftime(\"%d_%m_%H.%M\")\n",
    "path = os.path.join('images','extension',date_time)\n",
    "if not os.path.exists(path):\n",
    "    os.makedirs(path)\n",
    "\n",
    "parameters_general_prophet = np.arange(0.25, 1.5, .25)\n",
    "n_experiment_reps = 50000\n",
    "\n",
    "# Fair general prophet Uniform distribution\n",
    "grid_search(algorithm='FairGeneralProphet',\n",
    "            n_experiment_reps = n_experiment_reps,\n",
    "            distribution_type = 'uniform',\n",
    "            n_candidates = 50,\n",
    "            parameters = parameters_general_prophet,\n",
    "            path = path)\n",
    "\n",
    "# Fair general prophet Binomial distribution\n",
    "grid_search(algorithm='FairGeneralProphet',\n",
    "            n_experiment_reps = n_experiment_reps,\n",
    "            distribution_type = 'binomial',\n",
    "            n_candidates = 1000,\n",
    "            parameters = parameters_general_prophet,\n",
    "            path = path)\n",
    "\n",
    "# Fair IID prophet Uniform distribution\n",
    "parameters_fair_iid = np.arange(0.5, 1.3, 0.10)\n",
    "## For clarity in the plots, we epsilon values 0.6, 0.8, or 1.1 from the grid search results\n",
    "excluded_parameters = np.isin(parameters_fair_iid, [0.6, 0.8, 1.1], invert=True)\n",
    "parameters_fair_iid = parameters_fair_iid[excluded_parameters]\n",
    "\n",
    "# Fair IID prophet Uniform distribution\n",
    "grid_search(algorithm='FairIIDProphet',\n",
    "            n_experiment_reps = n_experiment_reps,\n",
    "            distribution_type = 'uniform',\n",
    "            n_candidates = 50,\n",
    "            parameters = parameters_fair_iid,\n",
    "            path = path)\n",
    "\n",
    "# Fair IID prophet Binomial distribution\n",
    "grid_search(algorithm='FairIIDProphet',\n",
    "            n_experiment_reps = n_experiment_reps,\n",
    "            distribution_type = 'binomial',\n",
    "            n_candidates = 1000,\n",
    "            parameters = parameters_fair_iid,\n",
    "            path = path)"
   ]
  },
  {
   "cell_type": "markdown",
   "id": "b023943e",
   "metadata": {},
   "source": [
    "## Running the significance test for the extension, uniform distribution"
   ]
  },
  {
   "cell_type": "markdown",
   "id": "e8cfd8d6",
   "metadata": {},
   "source": [
    "_Output is two lists of 10x the avgInclude for the two groups. Group 1 is PaperValue, Group 2 is our ExtensionValue, for both FairProphet and FairIID._"
   ]
  },
  {
   "cell_type": "code",
   "execution_count": 7,
   "id": "f2be1768",
   "metadata": {},
   "outputs": [
    {
     "name": "stderr",
     "output_type": "stream",
     "text": [
      "100%|█████████████████████████████████████████████████████████████████████████| 50000/50000 [00:03<00:00, 14033.82it/s]\n",
      "100%|█████████████████████████████████████████████████████████████████████████| 50000/50000 [00:03<00:00, 15951.00it/s]\n",
      "100%|█████████████████████████████████████████████████████████████████████████| 50000/50000 [00:03<00:00, 13719.09it/s]\n",
      "100%|█████████████████████████████████████████████████████████████████████████| 50000/50000 [00:03<00:00, 15598.54it/s]\n",
      "100%|█████████████████████████████████████████████████████████████████████████| 50000/50000 [00:03<00:00, 13906.96it/s]\n",
      "100%|█████████████████████████████████████████████████████████████████████████| 50000/50000 [00:03<00:00, 15694.42it/s]\n",
      "100%|█████████████████████████████████████████████████████████████████████████| 50000/50000 [00:03<00:00, 14228.35it/s]\n",
      "100%|█████████████████████████████████████████████████████████████████████████| 50000/50000 [00:03<00:00, 16068.29it/s]\n",
      "100%|█████████████████████████████████████████████████████████████████████████| 50000/50000 [00:03<00:00, 14292.70it/s]\n",
      "100%|█████████████████████████████████████████████████████████████████████████| 50000/50000 [00:03<00:00, 15378.28it/s]\n",
      "100%|█████████████████████████████████████████████████████████████████████████| 50000/50000 [00:03<00:00, 14238.48it/s]\n",
      "100%|█████████████████████████████████████████████████████████████████████████| 50000/50000 [00:03<00:00, 16042.42it/s]\n",
      "100%|█████████████████████████████████████████████████████████████████████████| 50000/50000 [00:03<00:00, 14095.76it/s]\n",
      "100%|█████████████████████████████████████████████████████████████████████████| 50000/50000 [00:03<00:00, 16041.02it/s]\n",
      "100%|█████████████████████████████████████████████████████████████████████████| 50000/50000 [00:03<00:00, 13973.57it/s]\n",
      "100%|█████████████████████████████████████████████████████████████████████████| 50000/50000 [00:03<00:00, 16445.35it/s]\n",
      "100%|█████████████████████████████████████████████████████████████████████████| 50000/50000 [00:03<00:00, 14497.85it/s]\n",
      "100%|█████████████████████████████████████████████████████████████████████████| 50000/50000 [00:03<00:00, 16273.31it/s]\n",
      "100%|█████████████████████████████████████████████████████████████████████████| 50000/50000 [00:03<00:00, 13788.12it/s]\n",
      "100%|█████████████████████████████████████████████████████████████████████████| 50000/50000 [00:03<00:00, 16032.33it/s]\n",
      "100%|█████████████████████████████████████████████████████████████████████████| 50000/50000 [00:03<00:00, 14390.03it/s]\n",
      "100%|█████████████████████████████████████████████████████████████████████████| 50000/50000 [00:03<00:00, 15597.79it/s]\n",
      "100%|█████████████████████████████████████████████████████████████████████████| 50000/50000 [00:03<00:00, 14622.94it/s]\n",
      "100%|█████████████████████████████████████████████████████████████████████████| 50000/50000 [00:03<00:00, 15816.33it/s]\n",
      "100%|█████████████████████████████████████████████████████████████████████████| 50000/50000 [00:03<00:00, 14507.80it/s]\n",
      "100%|█████████████████████████████████████████████████████████████████████████| 50000/50000 [00:03<00:00, 15294.89it/s]\n",
      "100%|█████████████████████████████████████████████████████████████████████████| 50000/50000 [00:03<00:00, 14780.73it/s]\n",
      "100%|█████████████████████████████████████████████████████████████████████████| 50000/50000 [00:03<00:00, 15882.92it/s]\n",
      "100%|█████████████████████████████████████████████████████████████████████████| 50000/50000 [00:03<00:00, 14695.00it/s]\n",
      "100%|█████████████████████████████████████████████████████████████████████████| 50000/50000 [00:03<00:00, 15873.64it/s]\n",
      "100%|█████████████████████████████████████████████████████████████████████████| 50000/50000 [00:03<00:00, 14567.35it/s]\n",
      "100%|█████████████████████████████████████████████████████████████████████████| 50000/50000 [00:03<00:00, 15414.33it/s]\n",
      "100%|█████████████████████████████████████████████████████████████████████████| 50000/50000 [00:03<00:00, 14422.66it/s]\n",
      "100%|█████████████████████████████████████████████████████████████████████████| 50000/50000 [00:03<00:00, 15681.31it/s]\n",
      "100%|█████████████████████████████████████████████████████████████████████████| 50000/50000 [00:03<00:00, 14538.08it/s]\n",
      "100%|█████████████████████████████████████████████████████████████████████████| 50000/50000 [00:03<00:00, 15324.70it/s]\n",
      "100%|█████████████████████████████████████████████████████████████████████████| 50000/50000 [00:03<00:00, 14414.37it/s]\n",
      "100%|█████████████████████████████████████████████████████████████████████████| 50000/50000 [00:03<00:00, 15874.97it/s]\n",
      "100%|█████████████████████████████████████████████████████████████████████████| 50000/50000 [00:03<00:00, 14788.78it/s]\n",
      "100%|█████████████████████████████████████████████████████████████████████████| 50000/50000 [00:03<00:00, 15944.10it/s]\n"
     ]
    }
   ],
   "source": [
    "fair_general_prophet_paper, fair_general_prophet_extension = [], []\n",
    "fair_IID_prophet_paper, fair_IID_prophet_extension = [], []\n",
    "\n",
    "fair_general_prophet_paper_exclude, fair_general_prophet_extension_exclude = [], []\n",
    "fair_IID_prophet_paper_exclude, fair_IID_prophet_extension_exclude = [], []\n",
    "\n",
    "fair_general_prophet_paper_parameter = 1\n",
    "fair_IID_prophet_paper_parameter = 1\n",
    "fair_general_prophet_extension_parameter = .5\n",
    "fair_IID_prophet_extension_parameter = .7\n",
    "\n",
    "for i in range(10):\n",
    "    _, avg_include, avg_exclude, _ = run_experiment_extended(algorithm=\"FairGeneralProphet\", \n",
    "                                                             n_experiment_reps=50000,\n",
    "                                                             distribution_type=\"uniform\", \n",
    "                                                             n_candidates=50, \n",
    "                                                             epsilon=fair_general_prophet_paper_parameter)\n",
    "    fair_general_prophet_paper.append(avg_include)\n",
    "    fair_general_prophet_paper_exclude.append(avg_exclude)\n",
    "    \n",
    "    _, avg_include, avg_exclude, _ = run_experiment_extended(algorithm=\"FairGeneralProphet\", \n",
    "                                                             n_experiment_reps=50000,\n",
    "                                                             distribution_type=\"uniform\", \n",
    "                                                             n_candidates=50, \n",
    "                                                             epsilon=fair_general_prophet_extension_parameter)\n",
    "    fair_general_prophet_extension.append(avg_include)\n",
    "    fair_general_prophet_extension_exclude.append(avg_exclude)\n",
    "    \n",
    "    \n",
    "for i in range(10):\n",
    "    _, avg_include, avg_exclude, _ = run_experiment_extended(algorithm=\"FairIIDProphet\", \n",
    "                                                             n_experiment_reps=50000,\n",
    "                                                             distribution_type=\"uniform\", \n",
    "                                                             n_candidates=50, \n",
    "                                                             epsilon=fair_IID_prophet_paper_parameter)\n",
    "    fair_IID_prophet_paper.append(avg_include)\n",
    "    fair_IID_prophet_paper_exclude.append(avg_exclude)\n",
    "    \n",
    "    _, avg_include, avg_exclude, _ = run_experiment_extended(algorithm=\"FairIIDProphet\", \n",
    "                                                             n_experiment_reps=50000,\n",
    "                                                             distribution_type=\"uniform\", \n",
    "                                                             n_candidates=50, \n",
    "                                                             epsilon=fair_IID_prophet_extension_parameter)\n",
    "    fair_IID_prophet_extension.append(avg_include)\n",
    "    fair_IID_prophet_extension_exclude.append(avg_exclude)"
   ]
  },
  {
   "cell_type": "code",
   "execution_count": null,
   "id": "159dc38b",
   "metadata": {},
   "outputs": [],
   "source": [
    "print(ttest_ind(fair_general_prophet_paper, fair_general_prophet_extension))\n",
    "print(ttest_ind(fair_IID_prophet_paper, fair_IID_prophet_extension))"
   ]
  },
  {
   "cell_type": "code",
   "execution_count": null,
   "id": "2f3da355",
   "metadata": {},
   "outputs": [],
   "source": [
    "print(ttest_ind(fair_general_prophet_paper_exclude, fair_general_prophet_extension_exclude))\n",
    "print(ttest_ind(fair_IID_prophet_paper_exclude, fair_IID_prophet_extension_exclude))"
   ]
  }
 ],
 "metadata": {
  "jupytext": {
   "encoding": "# -*- coding: utf-8 -*-",
   "text_representation": {
    "extension": ".py",
    "format_name": "percent",
    "format_version": "1.3",
    "jupytext_version": "1.12.0"
   }
  },
  "kernelspec": {
   "display_name": "Python 3 (ipykernel)",
   "language": "python",
   "name": "python3"
  },
  "language_info": {
   "codemirror_mode": {
    "name": "ipython",
    "version": 3
   },
   "file_extension": ".py",
   "mimetype": "text/x-python",
   "name": "python",
   "nbconvert_exporter": "python",
   "pygments_lexer": "ipython3",
   "version": "3.7.3"
  }
 },
 "nbformat": 4,
 "nbformat_minor": 5
}
