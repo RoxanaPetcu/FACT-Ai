{
 "cells": [
  {
   "cell_type": "markdown",
   "id": "7befc2db",
   "metadata": {},
   "source": [
    "# Generating binomial experiment data"
   ]
  },
  {
   "cell_type": "markdown",
   "id": "4661d552",
   "metadata": {},
   "source": [
    "_This notebook has been used to generate the data-files for all binomial distribution experiments. We save them because creating them on the fly (in for example the prophet_results notebook) takes too long._\n",
    "\n",
    "_Please comment the lowest two blocks out to run the whole generation script. Please keep in mind that this can take > 20 hours_"
   ]
  },
  {
   "cell_type": "code",
   "execution_count": 3,
   "id": "e6acf185",
   "metadata": {},
   "outputs": [],
   "source": [
    "from ipynb.fs.defs.prophet import generateDistribution, Finv\n",
    "from numpy import save, load\n",
    "from tqdm import tqdm # for the progress bar"
   ]
  },
  {
   "cell_type": "code",
   "execution_count": null,
   "id": "c6f8bb15",
   "metadata": {},
   "outputs": [],
   "source": [
    "# arrivalPositionsChosenFairPA, FairPA_values = runExperiment(algorithm=\"FairGeneralProphet\", N_experimentReps=50000, \n",
    "#                                                 distribution_type=\"binomial\", n_candidates=1000)\n",
    "# save('data/FairPA_positions.npy', arrivalPositionsChosenFairPA)\n",
    "# save('data/FairPA_values.npy', FairPA_values)\n",
    "\n",
    "# arrivalPositionsChosenFairIID, FairIID_values = runExperiment(algorithm=\"FairIIDProphet\", N_experimentReps=50000, \n",
    "#                                                 distribution_type=\"binomial\", n_candidates=1000)\n",
    "# save('data/FairIID_positions.npy', arrivalPositionsChosenFairIID)\n",
    "# save('data/FairIID_values.npy', FairIID_values)\n",
    "\n",
    "# arrivalPositionsChosenSC, SC_values = runExperiment(algorithm=\"SC\", N_experimentReps=50000, \n",
    "#                                                distribution_type=\"binomial\", n_candidates=1000)\n",
    "\n",
    "# save('data/SC_positions.npy', arrivalPositionsChosenSC)\n",
    "# save('data/SC_values.npy', SC_values)\n",
    "\n",
    "# arrivalPositionsChosenEHKS, EHKS_values = runExperiment(algorithm=\"EHKS\", N_experimentReps=50000, \n",
    "#                                                 distribution_type=\"binomial\", n_candidates=1000)\n",
    "\n",
    "# save('data/EHKS_positions.npy', arrivalPositionsChosenEHKS)\n",
    "# save('data/EHKS_values.npy', EHKS_values)\n",
    "\n",
    "# arrivalPositionsChosenCFHOV, CFHOV_values = runExperiment(algorithm=\"CFHOV\", N_experimentReps=50000, \n",
    "#                                                 distribution_type=\"binomial\", n_candidates=1000)\n",
    "\n",
    "# save('data/CFHOV_positions.npy', arrivalPositionsChosenCFHOV)\n",
    "# save('data/CFHOV_values.npy', CFHOV_values)\n",
    "\n",
    "# arrivalPositionsChosenDP, DP_values = runExperiment(algorithm=\"DP\", N_experimentReps=50000, \n",
    "#                                                 distribution_type=\"binomial\", n_candidates=1000)\n",
    "\n",
    "# save('data/DP_positions.npy', arrivalPositionsChosenDP)\n",
    "# save('data/DP_values.npy', DP_values)\n",
    "\n"
   ]
  },
  {
   "cell_type": "code",
   "execution_count": null,
   "id": "068d3284",
   "metadata": {},
   "outputs": [],
   "source": [
    "# arrivalPositionsChosenFairPA, FairPA_values = runExperiment(algorithm=\"FairGeneralProphet\", N_experimentReps=50000*2, \n",
    "#                                                 distribution_type=\"binomial\", n_candidates=1000)\n",
    "# save('data/FairPA_positions100k.npy', arrivalPositionsChosenFairPA)\n",
    "# save('data/FairPA_values100k.npy', FairPA_values)\n",
    "\n",
    "# arrivalPositionsChosenFairIID, FairIID_values = runExperiment(algorithm=\"FairIIDProphet\", N_experimentReps=50000*2, \n",
    "#                                                 distribution_type=\"binomial\", n_candidates=1000)\n",
    "# save('data/FairIID_positions100k.npy', arrivalPositionsChosenFairIID)\n",
    "# save('data/FairIID_values100k.npy', FairIID_values)\n",
    "\n",
    "# arrivalPositionsChosenSC, SC_values = runExperiment(algorithm=\"SC\", N_experimentReps=50000*2, \n",
    "#                                                distribution_type=\"binomial\", n_candidates=1000)\n",
    "\n",
    "# save('data/SC_positions100k.npy', arrivalPositionsChosenSC)\n",
    "# save('data/SC_values100k.npy', SC_values)\n",
    "\n",
    "# arrivalPositionsChosenEHKS, EHKS_values = runExperiment(algorithm=\"EHKS\", N_experimentReps=50000*2, \n",
    "#                                                 distribution_type=\"binomial\", n_candidates=1000)\n",
    "\n",
    "# save('data/EHKS_positions100k.npy', arrivalPositionsChosenEHKS)\n",
    "# save('data/EHKS_values100k.npy', EHKS_values)\n",
    "\n",
    "# arrivalPositionsChosenCFHOV, CFHOV_values = runExperiment(algorithm=\"CFHOV\", N_experimentReps=50000*2, \n",
    "#                                                 distribution_type=\"binomial\", n_candidates=1000)\n",
    "\n",
    "# save('data/CFHOV_positions100k.npy', arrivalPositionsChosenCFHOV)\n",
    "# save('data/CFHOV_values100k.npy', CFHOV_values)\n",
    "\n",
    "# arrivalPositionsChosenDP, DP_values = runExperiment(algorithm=\"DP\", N_experimentReps=50000*2, \n",
    "#                                                 distribution_type=\"binomial\", n_candidates=1000)\n",
    "\n",
    "# save('data/DP_positions100k.npy', arrivalPositionsChosenDP)\n",
    "# save('data/DP_values100k.npy', DP_values)"
   ]
  }
 ],
 "metadata": {
  "jupytext": {
   "text_representation": {
    "extension": ".py",
    "format_name": "percent",
    "format_version": "1.3",
    "jupytext_version": "1.12.0"
   }
  },
  "kernelspec": {
   "display_name": "Python 3",
   "language": "python",
   "name": "python3"
  },
  "language_info": {
   "codemirror_mode": {
    "name": "ipython",
    "version": 3
   },
   "file_extension": ".py",
   "mimetype": "text/x-python",
   "name": "python",
   "nbconvert_exporter": "python",
   "pygments_lexer": "ipython3",
   "version": "3.8.8"
  }
 },
 "nbformat": 4,
 "nbformat_minor": 5
}
