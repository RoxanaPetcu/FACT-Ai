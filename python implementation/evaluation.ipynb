{
 "cells": [
  {
   "cell_type": "code",
   "execution_count": 1,
   "id": "899f8c37",
   "metadata": {
    "scrolled": true
   },
   "outputs": [],
   "source": [
    "from secretary_experiments import run_experiments\n",
    "from collections import Counter\n",
    "import numpy as np \n",
    "import matplotlib.pyplot as plt"
   ]
  },
  {
   "cell_type": "code",
   "execution_count": null,
   "id": "031d76e8",
   "metadata": {
    "scrolled": true
   },
   "outputs": [],
   "source": [
    "run_experiments()"
   ]
  },
  {
   "cell_type": "code",
   "execution_count": 2,
   "id": "807eae6b",
   "metadata": {},
   "outputs": [],
   "source": [
    "def count_results(results):\n",
    "\n",
    "    chosen_colors = [item[1] for item in results]\n",
    "    max_colors = []\n",
    "    \n",
    "    for item in results:\n",
    "        if item[2]:\n",
    "            max_colors.append(item[1])\n",
    "\n",
    "    return Counter(chosen_colors), Counter(max_colors)\n",
    "    \n",
    "    # UnbalancedSyntheticExperiment()\n",
    "    # BankExperiment()\n",
    "    # InfMaxExperiment()"
   ]
  },
  {
   "cell_type": "code",
   "execution_count": 3,
   "id": "b27427b0",
   "metadata": {},
   "outputs": [],
   "source": [
    "def unfold_experiment(results, experiment):\n",
    "    \n",
    "    results_SA, results_SCSA, results_MCSA = results\n",
    "        \n",
    "    SA = count_results(results_SA)\n",
    "    SCSA = count_results(results_SCSA)\n",
    "    MCSA = count_results(results_MCSA)\n",
    "    \n",
    "    print(SA, SCSA, MCSA)\n",
    "  \n",
    "    X = ['F-Pick', 'F-Max', 'U-Pick','U-Max', 'S-Pick', 'S-Max']\n",
    "\n",
    "    reds = [MCSA[0]['red'], MCSA[1]['red'], SA[0]['red'], SA[1]['red'], SCSA[0]['red'], SCSA[1]['red']]\n",
    "    greens = [MCSA[0]['green'], MCSA[1]['green'], SA[0]['green'], SA[1]['green'], SCSA[0]['green'], SCSA[1]['green']]\n",
    "    blues = [MCSA[0]['blue'], MCSA[1]['blue'], SA[0]['blue'], SA[1]['blue'], SCSA[0]['blue'], SCSA[1]['blue']]\n",
    "    yellows = [MCSA[0]['yellow'], MCSA[1]['yellow'], SA[0]['yellow'], SA[1]['yellow'], SCSA[0]['yellow'], SCSA[1]['yellow']]\n",
    "\n",
    "    X_axis = np.arange(len(X))\n",
    "\n",
    "    plt.bar(X_axis - 0.4, reds, 0.2, label = 'Red', color='#b2b2ff', edgecolor = '#b2b2ff')\n",
    "    plt.bar(X_axis - 0.2, greens, 0.2, label = 'Green', color='#ffb2b2', edgecolor = '#ffb2b2')\n",
    "    plt.bar(X_axis + 0, blues, 0.2, label = 'Blue', color='#ecd9c6', edgecolor = '#ecd9c6')\n",
    "    plt.bar(X_axis + 0.2, yellows, 0.2, label = 'Yellow', color='#808080', edgecolor = '#808080')\n",
    "\n",
    "    plt.xticks(X_axis, X)\n",
    "    # plt.xlabel(\"Groups\")\n",
    "    plt.ylabel(\"Number of Occurances\")\n",
    "    plt.title(experiment)\n",
    "    plt.legend()\n",
    "    plt.show()"
   ]
  },
  {
   "cell_type": "code",
   "execution_count": 4,
   "id": "246891c6",
   "metadata": {},
   "outputs": [],
   "source": [
    "import pickle\n",
    "\n",
    "with open('results_synthetic1.pickle', 'rb') as f:\n",
    "     results = pickle.load(f)\n",
    "        \n",
    "with open('results_synthetic2.pickle', 'rb') as f:\n",
    "     results2 = pickle.load(f)"
   ]
  },
  {
   "cell_type": "code",
   "execution_count": 5,
   "id": "579b86a6",
   "metadata": {},
   "outputs": [
    {
     "name": "stdout",
     "output_type": "stream",
     "text": [
      "(Counter({'yellow': 188, 'blue': 10, 'green': 2}), Counter({'yellow': 66, 'blue': 2})) (Counter({'yellow': 53, 'green': 52, 'blue': 51, 'red': 44}), Counter({'blue': 23, 'green': 17, 'yellow': 16, 'red': 15})) (Counter({'yellow': 64, 'red': 49, 'green': 44, 'blue': 43}), Counter({'red': 41, 'green': 35, 'blue': 30, 'yellow': 28}))\n"
     ]
    },
    {
     "data": {
      "image/png": "[encoded data removed]",
      "text/plain": [
       "<Figure size 432x288 with 1 Axes>"
      ]
     },
     "metadata": {
      "needs_background": "light"
     },
     "output_type": "display_data"
    },
    {
     "name": "stdout",
     "output_type": "stream",
     "text": [
      "(Counter({'yellow': 185, 'blue': 15}), Counter({'yellow': 66, 'blue': 5})) (Counter({'red': 70, 'green': 57, 'blue': 42, 'yellow': 31}), Counter({'red': 25, 'green': 17, 'blue': 13, 'yellow': 12})) (Counter({'red': 81, 'yellow': 49, 'green': 39, 'blue': 31}), Counter({'red': 60, 'green': 23, 'blue': 19, 'yellow': 15}))\n"
     ]
    },
    {
     "data": {
      "image/png": "[encoded data removed]",
      "text/plain": [
       "<Figure size 432x288 with 1 Axes>"
      ]
     },
     "metadata": {
      "needs_background": "light"
     },
     "output_type": "display_data"
    }
   ],
   "source": [
    "unfold_experiment(results, experiment = \"Synthetic Data\")\n",
    "unfold_experiment(results2, experiment = \"Synthetic Data2\")"
   ]
  },
  {
   "cell_type": "code",
   "execution_count": null,
   "id": "14b683bb",
   "metadata": {
    "scrolled": true
   },
   "outputs": [],
   "source": [
    "# unfold_experiment(results3, experiment = \"Bank Data\")\n",
    "\n",
    "results_SA, results_SCSA, results_MCSA = results3\n",
    "        \n",
    "SA = count_results(results_SA)\n",
    "SCSA = count_results(results_SCSA)\n",
    "MCSA = count_results(results_MCSA)\n",
    "    \n",
    "print(SA, SCSA, MCSA)"
   ]
  },
  {
   "cell_type": "code",
   "execution_count": null,
   "id": "dab17f46",
   "metadata": {},
   "outputs": [],
   "source": [
    "def unfold_experiment(results, experiment):\n",
    "    \n",
    "    results_SA, results_SCSA, results_MCSA = results\n",
    "        \n",
    "    SA = count_results(results_SA)\n",
    "    SCSA = count_results(results_SCSA)\n",
    "    MCSA = count_results(results_MCSA)\n",
    "    \n",
    "    print(SA, SCSA, MCSA)\n",
    "  \n",
    "    X = ['F-Pick', 'F-Max', 'U-Pick','U-Max', 'S-Pick', 'S-Max']\n",
    "\n",
    "    color1 = [MCSA[0]['under 30'], MCSA[1]['under 30'], SA[0]['under 30'], SA[1]['under 30'], SCSA[0]['under 30'], SCSA[1]['under 30']]\n",
    "    color2 = [MCSA[0]['31-40'], MCSA[1]['31-40'], SA[0]['31-40'], SA[1]['31-40'], SCSA[0]['31-40'], SCSA[1]['31-40']]\n",
    "    color3 = [MCSA[0]['41-50'], MCSA[1]['41-50'], SA[0]['41-50'], SA[1]['41-50'], SCSA[0]['41-50'], SCSA[1]['41-50']]\n",
    "    color4 = [MCSA[0]['51-60'], MCSA[1]['51-60'], SA[0]['51-60'], SA[1]['51-60'], SCSA[0]['51-60'], SCSA[1]['51-60']]\n",
    "    color5 = [MCSA[0]['over 60'], MCSA[1]['over 60'], SA[0]['over 60'], SA[1]['over 60'], SCSA[0]['over 60'], SCSA[1]['over 60']]\n",
    "\n",
    "    X_axis = np.arange(len(X))\n",
    "\n",
    "    plt.bar(X_axis - 0.4, color1, 0.2, label = 'Under 30', color='#b2b2ff', edgecolor = '#b2b2ff')\n",
    "    plt.bar(X_axis - 0.2, color2, 0.2, label = '30-40', color='#ffb2b2', edgecolor = '#ffb2b2')\n",
    "    plt.bar(X_axis + 0, color3, 0.2, label = '40-50', color='#ecd9c6', edgecolor = '#ecd9c6')\n",
    "    plt.bar(X_axis + 0.2, color4, 0.2, label = '50-60', color='#808080', edgecolor = '#808080')\n",
    "    plt.bar(X_axis + 0.4, color5, 0.2, label = 'over 60', color='purple', edgecolor = 'purple')\n",
    "\n",
    "    plt.xticks(X_axis, X)\n",
    "    # plt.xlabel(\"Groups\")\n",
    "    plt.ylabel(\"Number of Occurances\")\n",
    "    plt.title(experiment)\n",
    "    plt.legend()\n",
    "    plt.show()"
   ]
  },
  {
   "cell_type": "code",
   "execution_count": null,
   "id": "cc3cd9e5",
   "metadata": {},
   "outputs": [],
   "source": [
    "unfold_experiment(results3, experiment = \"Bank Data\")"
   ]
  },
  {
   "cell_type": "markdown",
   "id": "6d1e239f",
   "metadata": {},
   "source": [
    "### Experiments"
   ]
  },
  {
   "cell_type": "code",
   "execution_count": null,
   "id": "1b2321be",
   "metadata": {},
   "outputs": [],
   "source": [
    "colors = []\n",
    "# prob = np.array([0.3,0.25,0.25,0.2])\n",
    "prob = np.array([0.25,0.25,0.25,0.25])\n",
    "\n",
    "\n",
    "for n in range(2000):\n",
    "    rand_balanced = np.random.rand()\n",
    "#     print(rand_balanced)\n",
    "    for i in np.arange(len(prob)):\n",
    "        if (rand_balanced <= prob[i]):\n",
    "#             print(i)\n",
    "            colors.append(i)\n",
    "            break\n",
    "        rand_balanced -= prob[i]\n",
    "#     print('\\n')\n",
    "    \n",
    "plt.hist(colors)"
   ]
  },
  {
   "cell_type": "code",
   "execution_count": null,
   "id": "47e00f94",
   "metadata": {},
   "outputs": [],
   "source": [
    "colors = []\n",
    "prob = np.array([0.3,0.25,0.25,0.2])\n",
    "# prob = np.array([0.25,0.25,0.25,0.25])\n",
    "\n",
    "\n",
    "for n in range(2000):\n",
    "    rand_balanced = np.random.rand()\n",
    "#     print(rand_balanced)\n",
    "    for i in np.arange(len(prob)):\n",
    "        if (rand_balanced <= prob[i]):\n",
    "#             print(i)\n",
    "            colors.append(i)\n",
    "            break\n",
    "        rand_balanced -= prob[i]\n",
    "#     print('\\n')\n",
    "    \n",
    "plt.hist(colors)"
   ]
  },
  {
   "cell_type": "code",
   "execution_count": null,
   "id": "7fbd7510",
   "metadata": {},
   "outputs": [],
   "source": []
  }
 ],
 "metadata": {
  "kernelspec": {
   "display_name": "Python [conda env:dl2020]",
   "language": "python",
   "name": "conda-env-dl2020-py"
  },
  "language_info": {
   "codemirror_mode": {
    "name": "ipython",
    "version": 3
   },
   "file_extension": ".py",
   "mimetype": "text/x-python",
   "name": "python",
   "nbconvert_exporter": "python",
   "pygments_lexer": "ipython3",
   "version": "3.8.6"
  }
 },
 "nbformat": 4,
 "nbformat_minor": 5
}
