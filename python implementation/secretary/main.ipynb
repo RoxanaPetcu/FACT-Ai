{
 "cells": [
  {
   "cell_type": "code",
   "execution_count": null,
   "id": "158ea3b9",
   "metadata": {
    "lines_to_next_cell": 1
   },
   "outputs": [],
   "source": [
    "import random\n",
    "import numpy as np\n",
    "from itertools import repeat\n",
    "from data import get_synthetic_data, get_bank_data, get_pokec_data\n",
    "from secretary import secretary_algorithm, one_color_secretary_algorithm, multiple_color_secretary_algorithm, multiple_color_thresholds, shuffle_input\n",
    "from secretary_evaluation import evaluation"
   ]
  },
  {
   "cell_type": "code",
   "execution_count": null,
   "id": "a1299173",
   "metadata": {
    "lines_to_next_cell": 1
   },
   "outputs": [],
   "source": [
    "def shuffle_within_group(candidates_dict):\n",
    "\n",
    "    for v in candidates_dict.values():\n",
    "        random.shuffle(v[0])\n",
    "        \n",
    "    return candidates_dict"
   ]
  },
  {
   "cell_type": "markdown",
   "id": "6391115e",
   "metadata": {},
   "source": [
    "def prepare_multicolor_input(candidates_scores, candidates_dict):"
   ]
  },
  {
   "cell_type": "markdown",
   "id": "42f302f2",
   "metadata": {},
   "source": [
    "    color_per_candidate = []"
   ]
  },
  {
   "cell_type": "markdown",
   "id": "97f2c5c2",
   "metadata": {},
   "source": [
    "    for color in list(candidates_dict.keys()):\n",
    "        color_per_candidate.extend(repeat(color, len(candidates_dict[color][0])))"
   ]
  },
  {
   "cell_type": "markdown",
   "id": "06bcec62",
   "metadata": {},
   "source": [
    "    color_matching = list(zip(candidates_scores, color_per_candidate))\n",
    "    random.shuffle(color_matching)"
   ]
  },
  {
   "cell_type": "markdown",
   "id": "a91eb249",
   "metadata": {},
   "source": [
    "    candidates, color_per_candidate = zip(*color_matching)"
   ]
  },
  {
   "cell_type": "markdown",
   "id": "c8f1ffc2",
   "metadata": {},
   "source": [
    "    return candidates, color_per_candidate"
   ]
  },
  {
   "cell_type": "code",
   "execution_count": null,
   "id": "0d17da7c",
   "metadata": {
    "lines_to_next_cell": 1
   },
   "outputs": [],
   "source": [
    "def SecretaryExperiment(candidates_dict, n):\n",
    "    \n",
    "    colors = list(candidates_dict.keys())\n",
    "    max_colors = {color: None for color in colors}\n",
    "    candidates_scores = np.concatenate([v[0] for v in candidates_dict.values()])\n",
    "    candidates_probabilities = [v[1] for v in candidates_dict.values()]\n",
    "    \n",
    "    results_SA, results_SCSA, results_MCSA = [], [], []\n",
    "    \n",
    "    thresholds = multiple_color_thresholds(colors, candidates_probabilities)\n",
    "    \n",
    "    color_per_candidate = []\n",
    "    \n",
    "    for color in list(candidates_dict.keys()):\n",
    "        color_per_candidate.extend(repeat(color, len(candidates_dict[color][0])))\n",
    "        max_colors[color] = max(candidates_dict[color][0])\n",
    "        \n",
    "    print(\"HERE: \", candidates_scores)\n",
    "    print(color_per_candidate)\n",
    "    print(max_colors)\n",
    "\n",
    "    for i in range(200):\n",
    "        candidates_scores, color_per_candidate = shuffle_input(candidates_scores, color_per_candidate)\n",
    "        result_SA = secretary_algorithm(candidates_scores, color_per_candidate, max_colors)\n",
    "        # print(\"Best candidate in SA: \", result_SA)\n",
    "        results_SA.append(result_SA)\n",
    "        \n",
    "        shuffle_within_group(candidates_dict)\n",
    "        result_SCSA = one_color_secretary_algorithm(candidates_dict, color_per_candidate, max_colors)\n",
    "        # print(\"Best candidate in SCSA: \", result_SCSA)\n",
    "        results_SCSA.append(result_SCSA)\n",
    "    \n",
    "        result_MCSA = multiple_color_secretary_algorithm(colors, candidates_scores, color_per_candidate, thresholds, n, max_colors)\n",
    "        # print(\"Best candidate in MCSA: \", result_MCSA, '\\n')\n",
    "        results_MCSA.append(result_MCSA)\n",
    "\n",
    "    print(\"HERE: \", candidates_scores)\n",
    "    print(color_per_candidate)\n",
    "    \n",
    "    evaluation(\"SA\", results_SA, colors, n)\n",
    "    evaluation(\"SCSA\", results_SCSA, colors, n)\n",
    "    evaluation(\"MCSA\", results_MCSA, colors, n)"
   ]
  },
  {
   "cell_type": "code",
   "execution_count": null,
   "id": "4356feab",
   "metadata": {
    "lines_to_next_cell": 1
   },
   "outputs": [],
   "source": [
    "def SyntheticExperiment():\n",
    "    \n",
    "    colors = ['red', 'green', 'blue', 'yellow']\n",
    "    n = [10, 100, 1000, 10000]\n",
    "    probabilities = [0.27, 0.26, 0.25, 0.24]\n",
    "    \n",
    "    synthetic_data = get_synthetic_data(colors, n, probabilities)\n",
    "\n",
    "    SecretaryExperiment(synthetic_data, n)"
   ]
  },
  {
   "cell_type": "code",
   "execution_count": null,
   "id": "34df4e53",
   "metadata": {
    "lines_to_next_cell": 1
   },
   "outputs": [],
   "source": [
    "def UnbalancedSyntheticExperiment():\n",
    "\n",
    "    colors = ['red', 'green', 'blue', 'yellow']\n",
    "    n = [10, 100, 1000, 10000]\n",
    "    probabilities = [0.3, 0.25, 0.25, 0.2]\n",
    "    \n",
    "    synthetic_data = get_synthetic_data(colors, n, probabilities)\n",
    "\n",
    "    SecretaryExperiment(synthetic_data, n)"
   ]
  },
  {
   "cell_type": "code",
   "execution_count": null,
   "id": "39d284a8",
   "metadata": {},
   "outputs": [],
   "source": [
    "def BankExperiment():\n",
    "    \n",
    "    n = []\n",
    "    probabilities = [0.2, 0.21, 0.22, 0.23, 0.24]\n",
    "    path = 'data/bank_raw.csv'\n",
    "    bank_data = get_bank_data(path, probabilities)\n",
    "    \n",
    "    for values in bank_data.values():\n",
    "        n.append(len(values[0]))\n",
    "        \n",
    "    SecretaryExperiment(bank_data, n)"
   ]
  },
  {
   "cell_type": "markdown",
   "id": "1c925c35",
   "metadata": {
    "lines_to_next_cell": 2
   },
   "source": [
    "def InfMaxExperiment():\n",
    "    return 0"
   ]
  },
  {
   "cell_type": "code",
   "execution_count": null,
   "id": "a7be86ba",
   "metadata": {},
   "outputs": [],
   "source": [
    "if __name__ == \"__main__\":\n",
    "    \n",
    "    SyntheticExperiment()\n",
    "    # UnbalancedSyntheticExperiment()\n",
    "    # BankExperiment()\n",
    "    # InfMaxExperiment()"
   ]
  }
 ],
 "metadata": {
  "jupytext": {
   "cell_metadata_filter": "-all",
   "notebook_metadata_filter": "-all",
   "text_representation": {
    "extension": ".py",
    "format_name": "light"
   }
  },
  "kernelspec": {
   "display_name": "Python 3",
   "language": "python",
   "name": "python3"
  },
  "language_info": {
   "codemirror_mode": {
    "name": "ipython",
    "version": 3
   },
   "file_extension": ".py",
   "mimetype": "text/x-python",
   "name": "python",
   "nbconvert_exporter": "python",
   "pygments_lexer": "ipython3",
   "version": "3.8.8"
  }
 },
 "nbformat": 4,
 "nbformat_minor": 5
}
