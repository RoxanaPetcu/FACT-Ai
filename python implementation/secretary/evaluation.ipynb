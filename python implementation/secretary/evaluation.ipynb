{
 "cells": [
  {
   "cell_type": "code",
   "execution_count": 1,
   "id": "899f8c37",
   "metadata": {
    "scrolled": true
   },
   "outputs": [],
   "source": [
    "from secretary_experiments import run_experiments\n",
    "from collections import Counter\n",
    "import numpy as np \n",
    "import matplotlib.pyplot as plt"
   ]
  },
  {
   "cell_type": "code",
   "execution_count": 2,
   "id": "031d76e8",
   "metadata": {
    "scrolled": true
   },
   "outputs": [
    {
     "name": "stdout",
     "output_type": "stream",
     "text": [
      "[6.0, 63.0, 630.0, 6300.0]\n",
      "0 K\n",
      "1000 K\n",
      "2000 K\n",
      "3000 K\n",
      "4000 K\n",
      "5000 K\n",
      "6000 K\n",
      "7000 K\n",
      "8000 K\n",
      "9000 K\n",
      "10000 K\n",
      "11000 K\n",
      "12000 K\n",
      "13000 K\n",
      "14000 K\n",
      "15000 K\n",
      "16000 K\n",
      "17000 K\n",
      "18000 K\n",
      "19000 K\n",
      "[5.0, 64.0, 638.0, 7368.0]\n",
      "0 K\n",
      "1000 K\n",
      "2000 K\n",
      "3000 K\n",
      "4000 K\n",
      "5000 K\n",
      "6000 K\n",
      "7000 K\n",
      "8000 K\n",
      "9000 K\n",
      "10000 K\n",
      "11000 K\n",
      "12000 K\n",
      "13000 K\n",
      "14000 K\n",
      "15000 K\n",
      "16000 K\n",
      "17000 K\n",
      "18000 K\n",
      "19000 K\n"
     ]
    }
   ],
   "source": [
    "run_experiments()"
   ]
  },
  {
   "cell_type": "code",
   "execution_count": 3,
   "id": "807eae6b",
   "metadata": {},
   "outputs": [],
   "source": [
    "def count_results(results):\n",
    "\n",
    "    chosen_colors = [item[1] for item in results]\n",
    "    max_colors = []\n",
    "    \n",
    "    for item in results:\n",
    "        if item[2]:\n",
    "            max_colors.append(item[1])\n",
    "\n",
    "    return Counter(chosen_colors), Counter(max_colors)\n",
    "    \n",
    "    # UnbalancedSyntheticExperiment()\n",
    "    # BankExperiment()\n",
    "    # InfMaxExperiment()"
   ]
  },
  {
   "cell_type": "code",
   "execution_count": 4,
   "id": "b27427b0",
   "metadata": {},
   "outputs": [],
   "source": [
    "def unfold_experiment(results, experiment):\n",
    "    \n",
    "    results_SA, results_SCSA, results_MCSA = results\n",
    "        \n",
    "    SA = count_results(results_SA)\n",
    "    SCSA = count_results(results_SCSA)\n",
    "    MCSA = count_results(results_MCSA)\n",
    "    \n",
    "    print(SA, SCSA, MCSA)\n",
    "  \n",
    "    X = ['Input', 'F-Pick', 'F-Max', 'U-Pick','U-Max', 'S-Pick', 'S-Max']\n",
    "\n",
    "    reds = [10, MCSA[0]['red'], MCSA[1]['red'], SA[0]['red'], SA[1]['red'], SCSA[0]['red'], SCSA[1]['red']]\n",
    "    greens = [100, MCSA[0]['green'], MCSA[1]['green'], SA[0]['green'], SA[1]['green'], SCSA[0]['green'], SCSA[1]['green']]\n",
    "    blues = [1000, MCSA[0]['blue'], MCSA[1]['blue'], SA[0]['blue'], SA[1]['blue'], SCSA[0]['blue'], SCSA[1]['blue']]\n",
    "    yellows = [10000, MCSA[0]['yellow'], MCSA[1]['yellow'], SA[0]['yellow'], SA[1]['yellow'], SCSA[0]['yellow'], SCSA[1]['yellow']]\n",
    "\n",
    "    X_axis = np.arange(len(X))\n",
    "\n",
    "    plt.bar(X_axis - 0.4, reds, 0.2, label = 'Color1', color='#b2b2ff', edgecolor = '#b2b2ff')\n",
    "    plt.bar(X_axis - 0.2, greens, 0.2, label = 'Color2', color='#ffb2b2', edgecolor = '#ffb2b2')\n",
    "    plt.bar(X_axis + 0, blues, 0.2, label = 'Color3', color='#ecd9c6', edgecolor = '#ecd9c6')\n",
    "    plt.bar(X_axis + 0.2, yellows, 0.2, label = 'Color4', color='#808080', edgecolor = '#808080')\n",
    "\n",
    "    plt.xticks(X_axis, X)\n",
    "    # plt.xlabel(\"Groups\")\n",
    "    plt.ylabel(\"Number of Occurances\")\n",
    "    plt.title(experiment)\n",
    "    plt.legend()\n",
    "    plt.ylim(top = 12000)\n",
    "    plt.show()"
   ]
  },
  {
   "cell_type": "code",
   "execution_count": 5,
   "id": "246891c6",
   "metadata": {},
   "outputs": [],
   "source": [
    "import pickle\n",
    "\n",
    "with open('results_synthetic1.pickle', 'rb') as f:\n",
    "     results = pickle.load(f)\n",
    "        \n",
    "with open('results_synthetic2.pickle', 'rb') as f:\n",
    "     results2 = pickle.load(f)"
   ]
  },
  {
   "cell_type": "code",
   "execution_count": 6,
   "id": "579b86a6",
   "metadata": {},
   "outputs": [
    {
     "name": "stdout",
     "output_type": "stream",
     "text": [
      "(Counter({'yellow': 18442, 'blue': 1480, 'green': 72, 'red': 6}), Counter({'yellow': 7365, 'blue': 619})) (Counter({'green': 5066, 'red': 5066, 'blue': 4946, 'yellow': 4922}), Counter({'red': 1988, 'green': 1882, 'blue': 1843, 'yellow': 1794})) (Counter({'red': 5269, 'green': 4933, 'blue': 4921, 'yellow': 4877}), Counter({'green': 3177, 'blue': 3121, 'red': 3119, 'yellow': 3032}))\n"
     ]
    },
    {
     "data": {
      "image/png": "[encoded data removed]",
      "text/plain": [
       "<Figure size 432x288 with 1 Axes>"
      ]
     },
     "metadata": {
      "needs_background": "light"
     },
     "output_type": "display_data"
    },
    {
     "name": "stdout",
     "output_type": "stream",
     "text": [
      "(Counter({'yellow': 19251, 'blue': 675, 'green': 69, 'red': 5}), Counter({'yellow': 7463, 'blue': 3, 'red': 1})) (Counter({'red': 5988, 'blue': 5047, 'green': 4983, 'yellow': 3982}), Counter({'red': 2353, 'blue': 1820, 'green': 1812, 'yellow': 1498})) (Counter({'red': 6507, 'blue': 4795, 'green': 4727, 'yellow': 3971}), Counter({'red': 3205, 'green': 3037, 'blue': 3021, 'yellow': 2900}))\n"
     ]
    },
    {
     "data": {
      "image/png": "[encoded data removed]",
      "text/plain": [
       "<Figure size 432x288 with 1 Axes>"
      ]
     },
     "metadata": {
      "needs_background": "light"
     },
     "output_type": "display_data"
    }
   ],
   "source": [
    "unfold_experiment(results, experiment = \"Synthetic Dataset Equal p\")\n",
    "unfold_experiment(results2, experiment = \"Synthetic Dataset General p\")"
   ]
  },
  {
   "cell_type": "markdown",
   "id": "7ebb8ea1",
   "metadata": {},
   "source": [
    "## Bank Data"
   ]
  },
  {
   "cell_type": "code",
   "execution_count": null,
   "id": "14b683bb",
   "metadata": {
    "scrolled": true
   },
   "outputs": [],
   "source": [
    "# unfold_experiment(results3, experiment = \"Bank Data\")\n",
    "\n",
    "results_SA, results_SCSA, results_MCSA = results3\n",
    "        \n",
    "SA = count_results(results_SA)\n",
    "SCSA = count_results(results_SCSA)\n",
    "MCSA = count_results(results_MCSA)\n",
    "    \n",
    "print(SA, SCSA, MCSA)"
   ]
  },
  {
   "cell_type": "code",
   "execution_count": null,
   "id": "dab17f46",
   "metadata": {},
   "outputs": [],
   "source": [
    "def unfold_experiment(results, experiment):\n",
    "    \n",
    "    results_SA, results_SCSA, results_MCSA = results\n",
    "        \n",
    "    SA = count_results(results_SA)\n",
    "    SCSA = count_results(results_SCSA)\n",
    "    MCSA = count_results(results_MCSA)\n",
    "    \n",
    "    print(SA, SCSA, MCSA)\n",
    "  \n",
    "    X = ['F-Pick', 'F-Max', 'U-Pick','U-Max', 'S-Pick', 'S-Max']\n",
    "\n",
    "    color1 = [MCSA[0]['under 30'], MCSA[1]['under 30'], SA[0]['under 30'], SA[1]['under 30'], SCSA[0]['under 30'], SCSA[1]['under 30']]\n",
    "    color2 = [MCSA[0]['31-40'], MCSA[1]['31-40'], SA[0]['31-40'], SA[1]['31-40'], SCSA[0]['31-40'], SCSA[1]['31-40']]\n",
    "    color3 = [MCSA[0]['41-50'], MCSA[1]['41-50'], SA[0]['41-50'], SA[1]['41-50'], SCSA[0]['41-50'], SCSA[1]['41-50']]\n",
    "    color4 = [MCSA[0]['51-60'], MCSA[1]['51-60'], SA[0]['51-60'], SA[1]['51-60'], SCSA[0]['51-60'], SCSA[1]['51-60']]\n",
    "    color5 = [MCSA[0]['over 60'], MCSA[1]['over 60'], SA[0]['over 60'], SA[1]['over 60'], SCSA[0]['over 60'], SCSA[1]['over 60']]\n",
    "\n",
    "    X_axis = np.arange(len(X))\n",
    "\n",
    "    plt.bar(X_axis - 0.4, color1, 0.2, label = 'Under 30', color='#b2b2ff', edgecolor = '#b2b2ff')\n",
    "    plt.bar(X_axis - 0.2, color2, 0.2, label = '30-40', color='#ffb2b2', edgecolor = '#ffb2b2')\n",
    "    plt.bar(X_axis + 0, color3, 0.2, label = '40-50', color='#ecd9c6', edgecolor = '#ecd9c6')\n",
    "    plt.bar(X_axis + 0.2, color4, 0.2, label = '50-60', color='#808080', edgecolor = '#808080')\n",
    "    plt.bar(X_axis + 0.4, color5, 0.2, label = 'over 60', color='purple', edgecolor = 'purple')\n",
    "\n",
    "    plt.xticks(X_axis, X)\n",
    "    # plt.xlabel(\"Groups\")\n",
    "    plt.ylabel(\"Number of Occurances\")\n",
    "    plt.title(experiment)\n",
    "    plt.legend()\n",
    "    plt.show()"
   ]
  },
  {
   "cell_type": "code",
   "execution_count": null,
   "id": "cc3cd9e5",
   "metadata": {},
   "outputs": [],
   "source": [
    "unfold_experiment(results3, experiment = \"Bank Data\")"
   ]
  },
  {
   "cell_type": "markdown",
   "id": "6d1e239f",
   "metadata": {},
   "source": [
    "## Experiments"
   ]
  },
  {
   "cell_type": "code",
   "execution_count": 18,
   "id": "7df1d2f0",
   "metadata": {},
   "outputs": [
    {
     "data": {
      "text/plain": [
       "(array([4835.,    0.,    0., 4016.,    0.,    0., 6435.,    0.,    0.,\n",
       "        4714.]),\n",
       " array([0. , 0.3, 0.6, 0.9, 1.2, 1.5, 1.8, 2.1, 2.4, 2.7, 3. ]),\n",
       " <BarContainer object of 10 artists>)"
      ]
     },
     "execution_count": 18,
     "metadata": {},
     "output_type": "execute_result"
    },
    {
     "data": {
      "image/png": "[encoded data removed]",
      "text/plain": [
       "<Figure size 432x288 with 1 Axes>"
      ]
     },
     "metadata": {
      "needs_background": "light"
     },
     "output_type": "display_data"
    }
   ],
   "source": [
    "import random\n",
    "\n",
    "def multiple_color_secretary_algorithm(all_candidates, candidates_color, *args):\n",
    "    \n",
    "    colors, thresholds, n = args[0], args[1], args[2]\n",
    "    \n",
    "#     for i in range(len(thresholds)):\n",
    "#         thresholds[i] = thresholds[i] * n[i]\n",
    "        \n",
    "    so_far_max_colors = [0] * len(colors)\n",
    "    current_color_index = [0] * len(colors)\n",
    "    \n",
    "    for i in range(0, len(all_candidates)):\n",
    "\n",
    "        current_color = candidates_color[i]\n",
    "        if current_color_index[colors.index(current_color)] < thresholds[colors.index(current_color)]:\n",
    "            so_far_max_colors[colors.index(current_color)] = max(so_far_max_colors[colors.index(current_color)], all_candidates[i])\n",
    "            current_color_index[colors.index(current_color)] += 1\n",
    "\n",
    "    for i in range(0, len(all_candidates)):\n",
    "\n",
    "        current_color = candidates_color[i]\n",
    "        if current_color_index[colors.index(current_color)] >= thresholds[colors.index(current_color)]:\n",
    "\n",
    "            if all_candidates[i] >= so_far_max_colors[colors.index(current_color)]:\n",
    "                return all_candidates[i], current_color\n",
    "\n",
    "    return all_candidates[-1], current_color\n",
    "\n",
    "colors = ['red', 'green', 'blue', 'yellow']\n",
    "candidates = np.random.uniform(0, 1, 11110)\n",
    "colors_per_candidate = ['red'] * 10 + ['green'] * 100 + ['blue'] * 1000 + ['yellow'] * 10000\n",
    "\n",
    "# p = [0.25, 0.25, 0.25, 0.25]\n",
    "# t = [0.62996, 0.62996, 0.62996, 0.62996] * 11110\n",
    "# t = [6, 62, 629, 6299]\n",
    "\n",
    "# p = [0.3, 0.25, 0.25, 0.2]\n",
    "# t = [0.540134, 0.638092, 0.638092, 0.736806] * 11110\n",
    "\n",
    "n = [10, 100, 1000, 10000]\n",
    "t = [5, 63, 638, 7368]\n",
    "num_colors = 4  \n",
    "\n",
    "\n",
    "chosen = []\n",
    "\n",
    "for i in range(20000):\n",
    "    color_matching = list(zip(candidates, colors_per_candidate))\n",
    "    random.shuffle(color_matching)\n",
    "\n",
    "    candidates, colors_per_candidate = zip(*color_matching)\n",
    "\n",
    "    score, cll = multiple_color_secretary_algorithm(candidates, colors_per_candidate, colors, t, n)\n",
    "    \n",
    "    chosen.append(cll)\n",
    "\n",
    "plt.hist(chosen)"
   ]
  }
 ],
 "metadata": {
  "kernelspec": {
   "display_name": "Python [conda env:dl2020]",
   "language": "python",
   "name": "conda-env-dl2020-py"
  },
  "language_info": {
   "codemirror_mode": {
    "name": "ipython",
    "version": 3
   },
   "file_extension": ".py",
   "mimetype": "text/x-python",
   "name": "python",
   "nbconvert_exporter": "python",
   "pygments_lexer": "ipython3",
   "version": "3.8.6"
  }
 },
 "nbformat": 4,
 "nbformat_minor": 5
}
