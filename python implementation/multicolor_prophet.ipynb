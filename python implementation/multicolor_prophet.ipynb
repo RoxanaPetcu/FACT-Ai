{
 "cells": [
  {
   "cell_type": "markdown",
   "id": "2cc6aa5d",
   "metadata": {},
   "source": [
    "# The Multi-Color Prophet Problem notebook"
   ]
  },
  {
   "cell_type": "code",
   "execution_count": 10,
   "id": "973cb68b",
   "metadata": {},
   "outputs": [],
   "source": [
    "import numpy as np\n",
    "import matplotlib as plt\n",
    "from numpy.random import default_rng"
   ]
  },
  {
   "cell_type": "markdown",
   "id": "99b1310f",
   "metadata": {},
   "source": [
    "We next consider the following multi-color prophet prob- lem. In this model n candidates arrive in uniform random order. Candidates are partitioned into k groups $C = {C1,···,Ck}$. We write $n=(n1,...,nk)$ for the vector of groupsizes, i.e., |Cj| = nj,forall1 ≤ j ≤ k. We identify each of the groups with a distinct color and let c(i), vi denote the color and value of candidate i, respec- tively. The value vi that is revealed upon arrival of i, and is drawn independently from a given distribution Fi. We use F = (F1, . . . , Fn) to refer to the vector of distributions. We are also given a probability vector p = (p1, . . . , pk). The goal is to select a candidate in an online manner in order to maximize the expectation of the value of the selected candidate, while selecting from each color with probability proportional to p. We distinguish between the basic setting in which pj is the proportion of candidates that belong to group j, i.e., pj = nj/n, and the general setting in which p is arbitrary. We compare ourselves with the fair optimum, the optimal offline algorithm that respects the p_j ’s."
   ]
  },
  {
   "cell_type": "markdown",
   "id": "3985e883",
   "metadata": {},
   "source": [
    "## The two algorithms presented in the paper"
   ]
  },
  {
   "cell_type": "code",
   "execution_count": null,
   "id": "dc5d578f",
   "metadata": {},
   "outputs": [],
   "source": [
    "def FairGeneralProphet (F, q, V):\n",
    "    \"\"\"\n",
    "    :param F: \n",
    "    :param q: \n",
    "    :param V: \n",
    "    :returns: \n",
    "    \"\"\"\n",
    "    s = 0\n",
    "    for i in range(0,len(V)):\n",
    "        ## Is this the correct implementation of F^-1\n",
    "        if V[i] >= np.power(F[i], -1)*(1- (q[i]/2)/(1-(s/2))):\n",
    "            return i\n",
    "        s += q[i]\n"
   ]
  },
  {
   "cell_type": "code",
   "execution_count": null,
   "id": "d474be02",
   "metadata": {},
   "outputs": [],
   "source": [
    "def FairIIDProphet(F, V):\n",
    "    \"\"\"\n",
    "    :param F:\n",
    "    :returns: \n",
    "    \"\"\"\n",
    "    for i in range(0, len(V)):\n",
    "        if V[i] >= 1 - ((2/3*len(V))/(1-2*(i-1)/3*len(V))):\n",
    "            return i"
   ]
  },
  {
   "cell_type": "markdown",
   "id": "ba325807",
   "metadata": {},
   "source": [
    "## The mentioned baseline algorithms"
   ]
  },
  {
   "cell_type": "markdown",
   "id": "c79d2502",
   "metadata": {},
   "source": [
    "* SC algorithm (Samuel-Cahn, 1984)\n",
    "* EHKS algorithm (Ehsani et al., 2018)\n",
    "* CFHOV algorithm (Correa et al., 2021)\n",
    "* DP algorithm (e.g. Chow et al., 1971)"
   ]
  },
  {
   "cell_type": "code",
   "execution_count": null,
   "id": "88edc3c7",
   "metadata": {},
   "outputs": [],
   "source": [
    "#TODO: Implement based on prepared pseudocode\n",
    "def SamualCahn():\n",
    "    \"\"\"\n",
    "    :param F:\n",
    "    :returns: \n",
    "    \"\"\"\n",
    "    pass"
   ]
  },
  {
   "cell_type": "code",
   "execution_count": null,
   "id": "c2decbd0",
   "metadata": {},
   "outputs": [],
   "source": [
    "#TODO: Implement based on prepared pseudocode\n",
    "def EHKS():\n",
    "    \"\"\"\n",
    "    :param F:\n",
    "    :returns: \n",
    "    \"\"\"\n",
    "    pass"
   ]
  },
  {
   "cell_type": "code",
   "execution_count": null,
   "id": "8d1501ae",
   "metadata": {},
   "outputs": [],
   "source": [
    "#TODO: Implement based on prepared pseudocode\n",
    "def CFHOV():\n",
    "    \"\"\"\n",
    "    :param F:\n",
    "    :returns: \n",
    "    \"\"\"\n",
    "    pass"
   ]
  },
  {
   "cell_type": "code",
   "execution_count": null,
   "id": "49018c7f",
   "metadata": {},
   "outputs": [],
   "source": [
    "#TODO: Implement based on prepared pseudocode\n",
    "def DP_algorithm():\n",
    "    \"\"\"\n",
    "    :param F:\n",
    "    :returns: \n",
    "    \"\"\"\n",
    "    pass"
   ]
  },
  {
   "cell_type": "markdown",
   "id": "869af8f2",
   "metadata": {},
   "source": [
    "## Some additional needed functions"
   ]
  },
  {
   "cell_type": "code",
   "execution_count": 6,
   "id": "5f7a7a0e",
   "metadata": {},
   "outputs": [],
   "source": [
    "\n",
    "returns expected value it achieves\n",
    "\n",
    "def FairOpt(n, C, F, p):\n",
    "    \"\"\"\n",
    "    :param F:\n",
    "    :returns: \n",
    "    \"\"\"\n",
    "    pass"
   ]
  },
  {
   "cell_type": "markdown",
   "id": "8bbee65d",
   "metadata": {},
   "source": [
    "## The experiments"
   ]
  },
  {
   "cell_type": "markdown",
   "id": "a5912dbe",
   "metadata": {},
   "source": [
    "*\"We focus on the case, where values are distributed i.i.d. and each candidate is a group on its own. We consider two settings. In the first one the input stream consists of 50 samples from the uniform distribution in range [0, 1], and in the second one the input consists of 1000 samples from the binomial distribution with 1000 trials and 1/2 probability of success of a single trial. For better comparability with existing algorithms, in both cases we assume each candidate is a group on its own. We run each algorithm 50, 000 times.\"*"
   ]
  },
  {
   "cell_type": "markdown",
   "id": "ca87e6d2",
   "metadata": {},
   "source": [
    "### Uniform Distribution"
   ]
  },
  {
   "cell_type": "code",
   "execution_count": 11,
   "id": "4371476e",
   "metadata": {},
   "outputs": [],
   "source": [
    "rng = default_rng()"
   ]
  },
  {
   "cell_type": "code",
   "execution_count": 12,
   "id": "57db65a2",
   "metadata": {},
   "outputs": [],
   "source": [
    "# input stream consists of 50 samples from the uniform distribution in range [0, 1]\n",
    "n = 50\n",
    "k = n # since each candidate is a group on its own\n",
    "C = range(0, n)\n",
    "n_vector = [1] * n\n",
    "gen_input = rng.uniform(low=0.0, high=1.0, size=n)"
   ]
  },
  {
   "cell_type": "markdown",
   "id": "4ac4e8d5",
   "metadata": {},
   "source": [
    "### Biniomial Distribution"
   ]
  },
  {
   "cell_type": "code",
   "execution_count": 15,
   "id": "cb000a68",
   "metadata": {},
   "outputs": [],
   "source": [
    "# input consists of 1000 samples from the binomial distribution with 1000 trials and 1/2 probability of success of a single trial\n",
    "n = 1000\n",
    "k = n # since each candidate is a group on its own\n",
    "\n",
    "# 1000 samples from the binomial distribution with 1000 trials \n",
    "# and 1/2 probability of success of a single trial.\n",
    "\n",
    "gen_input = rng.binomial(n=1000, p=.5, size=1000)"
   ]
  },
  {
   "cell_type": "code",
   "execution_count": null,
   "id": "7fa3a408",
   "metadata": {},
   "outputs": [],
   "source": []
  }
 ],
 "metadata": {
  "kernelspec": {
   "display_name": "Python 3",
   "language": "python",
   "name": "python3"
  },
  "language_info": {
   "codemirror_mode": {
    "name": "ipython",
    "version": 3
   },
   "file_extension": ".py",
   "mimetype": "text/x-python",
   "name": "python",
   "nbconvert_exporter": "python",
   "pygments_lexer": "ipython3",
   "version": "3.8.8"
  }
 },
 "nbformat": 4,
 "nbformat_minor": 5
}
