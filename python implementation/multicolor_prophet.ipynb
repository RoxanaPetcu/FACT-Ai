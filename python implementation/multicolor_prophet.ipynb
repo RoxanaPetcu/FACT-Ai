{
 "cells": [
  {
   "cell_type": "markdown",
   "id": "2cc6aa5d",
   "metadata": {},
   "source": [
    "# The Multi-Color Prophet Problem notebook"
   ]
  },
  {
   "cell_type": "code",
   "execution_count": 4,
   "id": "973cb68b",
   "metadata": {},
   "outputs": [],
   "source": [
    "import numpy as np\n",
    "import matplotlib as plt\n",
    "from numpy.random import default_rng"
   ]
  },
  {
   "cell_type": "markdown",
   "id": "28f73c01",
   "metadata": {},
   "source": [
    "We next consider the following multi-color prophet prob- lem. In this model n candidates arrive in uniform random order. Candidates are partitioned into k groups $C = {C_1,···,C_k}$. We write $n=(n1,...,nk)$ for the vector of groupsizes, i.e., $|C_j| = n_j$ ,for all 1 ≤ j ≤ k. We identify each of the groups with a distinct color and let c(i), vi denote the color and value of candidate i, respectively. The value vi that is revealed upon arrival of i, and is drawn independently from a given distribution Fi. We use $F = (F_1, . . . , Fn)$ to refer to the vector of distributions. We are also given a probability vector $p = (p_1, . . . , p_k)$. The goal is to select a candidate in an online manner in order to maximize the expectation of the value of the selected candidate, while selecting from each color with probability proportional to p. We distinguish between the basic setting in which $p_j$ is the proportion of candidates that belong to group j, i.e., $p_j = n_j/n$, and the general setting in which $p$ is arbitrary. We compare ourselves with the fair optimum, the optimal offline algorithm that respects the $p_j$ ’s."
   ]
  },
  {
   "cell_type": "markdown",
   "id": "3985e883",
   "metadata": {},
   "source": [
    "## The two algorithms presented in the paper"
   ]
  },
  {
   "cell_type": "code",
   "execution_count": null,
   "id": "dc5d578f",
   "metadata": {},
   "outputs": [],
   "source": [
    "def Finv(prob):\n",
    "    lower, upper = 0,1\n",
    "    if distribution == \"uniform\":\n",
    "        return lower + (upper - lower) * prob\n",
    "    else:\n",
    "        return scipy.stats.binom.ppf(prob, n=1000, p=0.5)\n",
    "        \n",
    "\n",
    "def FairGeneralProphet (F, q, V, distribution_type):\n",
    "    \"\"\"\n",
    "    :param F: vector consisting of n distributions\n",
    "    :param q: vector containing probabilities q1, . . . , qn with which FAIROPT accepts candidate 1, ... , n\n",
    "    :param V: vector containing values for all candidates i, called from their F[i] distribution\n",
    "    :returns: \n",
    "    \"\"\"\n",
    "    s = 0\n",
    "    for i in range(0,len(V)):\n",
    "        if V[i] > Finv(Vlower, Vupper, (1- (q[i]/2)/(1-(s/2)))\n",
    "            return i\n",
    "        s += q[i]\n"
   ]
  },
  {
   "cell_type": "code",
   "execution_count": null,
   "id": "d474be02",
   "metadata": {},
   "outputs": [],
   "source": [
    "def FairIIDProphet(F, Values):\n",
    "    \"\"\"\n",
    "    :param F:\n",
    "    :returns: \n",
    "    \"\"\"\n",
    "    for i in range(0, len(Values)):\n",
    "        if Values[i] >= 1 - ((2/3*len(Values))/(1-2*(i-1)/3*len(Values))):\n",
    "            return i"
   ]
  },
  {
   "cell_type": "markdown",
   "id": "ba325807",
   "metadata": {},
   "source": [
    "## The mentioned baseline algorithms"
   ]
  },
  {
   "cell_type": "markdown",
   "id": "bcbdf843",
   "metadata": {},
   "source": [
    "* SC algorithm (Samuel-Cahn, 1984)\n",
    "    * This algorithm sets a single threshold so that the maximum is above this threshold with probability exactly 1/2. \n",
    "* EHKS algorithm (Ehsani et al., 2018)\n",
    "    * This algorithm sets a single threshold so that an individual candidate is accepted with probability 1/n\n",
    "* CFHOV algorithm (Correa et al., 2021)\n",
    "    * This algorithm sets a sequence of thresholds based on acceptance probabilities that result from solving a differential equation.\n",
    "* DP algorithm (e.g. Chow et al., 1971)\n",
    "    * This algorithm is the optimal threshold algorithm for the prophet problem, where thresholds are obtained by backward induction."
   ]
  },
  {
   "cell_type": "code",
   "execution_count": 2,
   "id": "6819b86a",
   "metadata": {},
   "outputs": [],
   "source": [
    "## TODO: Implement based on prepared pseudocode => ComputeSolutionOneHalf\n",
    "def SamualCahn(n_candidates):\n",
    "    \"\"\"\n",
    "    :param F:\n",
    "    :returns: \n",
    "    \"\"\"\n",
    "    \n",
    "    for i in range (0,n):\n",
    "        \n",
    "        \n",
    "    \n",
    "    pass"
   ]
  },
  {
   "cell_type": "code",
   "execution_count": null,
   "id": "c2decbd0",
   "metadata": {},
   "outputs": [],
   "source": [
    "#TODO: Implement based on prepared pseudocode => ComputeSolutionOneMinusOneE\n",
    "def EHKS():\n",
    "    \"\"\"\n",
    "    :param F:\n",
    "    :returns: \n",
    "    \"\"\"\n",
    "    pass"
   ]
  },
  {
   "cell_type": "code",
   "execution_count": null,
   "id": "8d1501ae",
   "metadata": {},
   "outputs": [],
   "source": [
    "#TODO: Implement based on prepared pseudocode => ComputeSolutionThreeForth\n",
    "def CFHOV():\n",
    "    \"\"\"\n",
    "    :param F:\n",
    "    :returns: \n",
    "    \"\"\"\n",
    "    pass"
   ]
  },
  {
   "cell_type": "code",
   "execution_count": null,
   "id": "49018c7f",
   "metadata": {},
   "outputs": [],
   "source": [
    "#TODO: Implement based on prepared pseudocode => ComputeSolutionDiffEq\n",
    "def DP_algorithm():\n",
    "    \"\"\"\n",
    "    :param F:\n",
    "    :returns: \n",
    "    \"\"\"\n",
    "    pass"
   ]
  },
  {
   "cell_type": "markdown",
   "id": "869af8f2",
   "metadata": {},
   "source": [
    "## Some additional needed functions"
   ]
  },
  {
   "cell_type": "markdown",
   "id": "d9cdd12d",
   "metadata": {},
   "source": [
    "We distinguish between the basic setting in which $p_j$ is the proportion of candidates that belong to group j, i.e., $p_j = n_j/n$, and the general setting in which p is arbitrary."
   ]
  },
  {
   "cell_type": "code",
   "execution_count": 6,
   "id": "5f7a7a0e",
   "metadata": {},
   "outputs": [],
   "source": [
    "def generateProbabilityVector():\n",
    "    \"\"\"\n",
    "    :returns p: probability vector with length j\n",
    "    \"\"\"\n",
    "    return p\n",
    "\n",
    "\n",
    "# Don't to use this?? Ask TA\n",
    "def EFairOpt(n, C, F, p):\n",
    "    \"\"\"\n",
    "    :param n: integer for the number of candidates\n",
    "    :param C: list of groups\n",
    "    :param F: vector of distribution (objects)\n",
    "    :param p: probability vector\n",
    "    :returns: \n",
    "    \"\"\"\n",
    "    pass"
   ]
  },
  {
   "cell_type": "markdown",
   "id": "8bbee65d",
   "metadata": {},
   "source": [
    "## The experiments"
   ]
  },
  {
   "cell_type": "markdown",
   "id": "a5912dbe",
   "metadata": {},
   "source": [
    "*\"We focus on the case, where values are distributed i.i.d. and each candidate is a group on its own. We consider two settings. In the first one the input stream consists of 50 samples from the uniform distribution in range [0, 1], and in the second one the input consists of 1000 samples from the binomial distribution with 1000 trials and 1/2 probability of success of a single trial. For better comparability with existing algorithms, in both cases we assume each candidate is a group on its own. We run each algorithm 50, 000 times.\"*"
   ]
  },
  {
   "cell_type": "markdown",
   "id": "ca87e6d2",
   "metadata": {},
   "source": [
    "### Uniform Distribution"
   ]
  },
  {
   "cell_type": "code",
   "execution_count": 11,
   "id": "ca05b99a",
   "metadata": {},
   "outputs": [],
   "source": [
    "rng = default_rng()\n",
    "import matplotlib.pyplot as plt"
   ]
  },
  {
   "cell_type": "code",
   "execution_count": 12,
   "id": "57db65a2",
   "metadata": {},
   "outputs": [
    {
     "ename": "TypeError",
     "evalue": "scatter() missing 1 required positional argument: 'y'",
     "output_type": "error",
     "traceback": [
      "\u001b[0;31m---------------------------------------------------------------------------\u001b[0m",
      "\u001b[0;31mTypeError\u001b[0m                                 Traceback (most recent call last)",
      "\u001b[0;32m<ipython-input-12-1d1d9feaa5e0>\u001b[0m in \u001b[0;36m<module>\u001b[0;34m\u001b[0m\n\u001b[1;32m      5\u001b[0m \u001b[0mn_vector\u001b[0m \u001b[0;34m=\u001b[0m \u001b[0;34m[\u001b[0m\u001b[0;36m1\u001b[0m\u001b[0;34m]\u001b[0m \u001b[0;34m*\u001b[0m \u001b[0mn\u001b[0m\u001b[0;34m\u001b[0m\u001b[0;34m\u001b[0m\u001b[0m\n\u001b[1;32m      6\u001b[0m \u001b[0mgen_input\u001b[0m \u001b[0;34m=\u001b[0m \u001b[0mrng\u001b[0m\u001b[0;34m.\u001b[0m\u001b[0muniform\u001b[0m\u001b[0;34m(\u001b[0m\u001b[0mlow\u001b[0m\u001b[0;34m=\u001b[0m\u001b[0;36m0.0\u001b[0m\u001b[0;34m,\u001b[0m \u001b[0mhigh\u001b[0m\u001b[0;34m=\u001b[0m\u001b[0;36m1.0\u001b[0m\u001b[0;34m,\u001b[0m \u001b[0msize\u001b[0m\u001b[0;34m=\u001b[0m\u001b[0mn\u001b[0m\u001b[0;34m)\u001b[0m\u001b[0;34m\u001b[0m\u001b[0;34m\u001b[0m\u001b[0m\n\u001b[0;32m----> 7\u001b[0;31m \u001b[0mplt\u001b[0m\u001b[0;34m.\u001b[0m\u001b[0mscatter\u001b[0m\u001b[0;34m(\u001b[0m\u001b[0mgen_input\u001b[0m\u001b[0;34m)\u001b[0m\u001b[0;34m\u001b[0m\u001b[0;34m\u001b[0m\u001b[0m\n\u001b[0m",
      "\u001b[0;31mTypeError\u001b[0m: scatter() missing 1 required positional argument: 'y'"
     ]
    }
   ],
   "source": [
    "# input stream consists of 50 samples from the uniform distribution in range [0, 1]\n",
    "n = 50\n",
    "k = n # since each candidate is a group on its own\n",
    "C = range(0, n)\n",
    "n_vector = [1] * n\n",
    "q = [1/n] * n\n",
    "gen_input = rng.uniform(low=0.0, high=1.0, size=n)\n",
    "\n",
    "\n",
    "\n",
    "plt.scatter(gen_input)"
   ]
  },
  {
   "cell_type": "markdown",
   "id": "4ac4e8d5",
   "metadata": {},
   "source": [
    "### Biniomial Distribution"
   ]
  },
  {
   "cell_type": "code",
   "execution_count": 3,
   "id": "cb000a68",
   "metadata": {},
   "outputs": [
    {
     "ename": "NameError",
     "evalue": "name 'rng' is not defined",
     "output_type": "error",
     "traceback": [
      "\u001b[0;31m---------------------------------------------------------------------------\u001b[0m",
      "\u001b[0;31mNameError\u001b[0m                                 Traceback (most recent call last)",
      "\u001b[0;32m<ipython-input-3-9cd6bd259524>\u001b[0m in \u001b[0;36m<module>\u001b[0;34m\u001b[0m\n\u001b[1;32m      4\u001b[0m \u001b[0mk\u001b[0m \u001b[0;34m=\u001b[0m \u001b[0mn\u001b[0m \u001b[0;31m# since each candidate is a group on its own\u001b[0m\u001b[0;34m\u001b[0m\u001b[0;34m\u001b[0m\u001b[0m\n\u001b[1;32m      5\u001b[0m \u001b[0;34m\u001b[0m\u001b[0m\n\u001b[0;32m----> 6\u001b[0;31m \u001b[0mgen_input\u001b[0m \u001b[0;34m=\u001b[0m \u001b[0mrng\u001b[0m\u001b[0;34m.\u001b[0m\u001b[0mbinomial\u001b[0m\u001b[0;34m(\u001b[0m\u001b[0mn\u001b[0m\u001b[0;34m=\u001b[0m\u001b[0;36m1000\u001b[0m\u001b[0;34m,\u001b[0m \u001b[0mp\u001b[0m\u001b[0;34m=\u001b[0m\u001b[0;36m.5\u001b[0m\u001b[0;34m,\u001b[0m \u001b[0msize\u001b[0m\u001b[0;34m=\u001b[0m\u001b[0;36m1000\u001b[0m\u001b[0;34m)\u001b[0m\u001b[0;34m\u001b[0m\u001b[0;34m\u001b[0m\u001b[0m\n\u001b[0m\u001b[1;32m      7\u001b[0m \u001b[0mgen_input\u001b[0m\u001b[0;34m\u001b[0m\u001b[0;34m\u001b[0m\u001b[0m\n",
      "\u001b[0;31mNameError\u001b[0m: name 'rng' is not defined"
     ]
    }
   ],
   "source": [
    "# input consists of 1000 samples from the binomial distribution with 1000 trials \n",
    "# and 1/2 probability of success of a single trial\n",
    "n = 1000\n",
    "k = n # since each candidate is a group on its own\n",
    "\n",
    "gen_input = rng.binomial(n=1000, p=.5, size=1000)\n",
    "gen_input\n",
    "plt.plot("
   ]
  },
  {
   "cell_type": "code",
   "execution_count": null,
   "id": "292ac1a5",
   "metadata": {},
   "outputs": [],
   "source": []
  }
 ],
 "metadata": {
  "kernelspec": {
   "display_name": "Python 3",
   "language": "python",
   "name": "python3"
  },
  "language_info": {
   "codemirror_mode": {
    "name": "ipython",
    "version": 3
   },
   "file_extension": ".py",
   "mimetype": "text/x-python",
   "name": "python",
   "nbconvert_exporter": "python",
   "pygments_lexer": "ipython3",
   "version": "3.8.8"
  }
 },
 "nbformat": 4,
 "nbformat_minor": 5
}
