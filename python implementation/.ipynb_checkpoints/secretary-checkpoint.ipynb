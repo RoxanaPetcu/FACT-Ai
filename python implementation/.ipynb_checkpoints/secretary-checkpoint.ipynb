{
 "cells": [
  {
   "cell_type": "code",
   "execution_count": null,
   "id": "ff998e4c",
   "metadata": {
    "lines_to_next_cell": 1
   },
   "outputs": [],
   "source": [
    "import numpy as np\n",
    "from itertools import repeat\n",
    "import random\n",
    "from operator import itemgetter"
   ]
  },
  {
   "cell_type": "code",
   "execution_count": null,
   "id": "5da9e66e",
   "metadata": {
    "lines_to_next_cell": 1
   },
   "outputs": [],
   "source": [
    "def secretary_algorithm(candidates, color_per_candidate, max_colors):\n",
    "\n",
    "    stop_rule = round(len(candidates)/np.e)\n",
    "\n",
    "    # print(\"First fraction of candidates: \", candidates[:stop_rule])\n",
    "    # print(\"The remaining candidates: \", candidates[stop_rule:])\n",
    "\n",
    "    # Catch error if best candidate is already in [:1/e]. Return last\n",
    "    try:\n",
    "        best_candidate = next(x for x in candidates[stop_rule:] if x>max(candidates[:stop_rule]))\n",
    "    except StopIteration:\n",
    "        best_candidate = candidates[-1]\n",
    "\n",
    "    winning_color = color_per_candidate[list(candidates).index(best_candidate)]\n",
    "        \n",
    "    return best_candidate, winning_color, best_candidate == max_colors[winning_color]"
   ]
  },
  {
   "cell_type": "code",
   "execution_count": null,
   "id": "5f18aa9f",
   "metadata": {
    "lines_to_next_cell": 1
   },
   "outputs": [],
   "source": [
    "def one_color_secretary_algorithm(colored_candidates, color_per_candidate, max_colors):\n",
    "    max_probability = (max(np.array(list(colored_candidates.values()), dtype=object)[:,1]))\n",
    "\n",
    "    for key in colored_candidates.keys():\n",
    "        values = colored_candidates[key]\n",
    "        if values[1] == max_probability: # Overwrites for all p are equal, but that's the heuristic they set\n",
    "            single_color = values[0]\n",
    "            winning_color = key\n",
    "            \n",
    "    best_candidate, color, max_color = secretary_algorithm(single_color, color_per_candidate, max_colors)\n",
    "    \n",
    "    return best_candidate, winning_color, best_candidate == max_colors[winning_color]"
   ]
  },
  {
   "cell_type": "code",
   "execution_count": null,
   "id": "c019418c",
   "metadata": {},
   "outputs": [],
   "source": [
    "def multiple_color_secretary_algorithm(colors, candidates, color_per_candidate, thresholds, n, max_colors):\n",
    "\n",
    "    # print(n)\n",
    "\n",
    "    # print(candidates)\n",
    "    # print(color_per_candidate)\n",
    "    # print(thresholds, '\\n')\n",
    "    \n",
    "    max_C_j = [0]*len(colors)\n",
    "    \n",
    "    stop_rule = [round(n[i]*thresholds[i]) for i in range(len(thresholds))]\n",
    "    \n",
    "    for i in range(len(candidates)):\n",
    "        # print(candidates[i])\n",
    "        current_color = color_per_candidate[i]\n",
    "        # print(current_color)\n",
    "        \n",
    "        if stop_rule[colors.index(current_color)] == 0 and candidates[i] > max_C_j[colors.index(current_color)]:\n",
    "            print(\"FINAL CANDIDATE: \", candidates[i])\n",
    "            return candidates[i], current_color, candidates[i] == max_colors[current_color]\n",
    "        \n",
    "        elif candidates[i] > max_C_j[colors.index(current_color)]:\n",
    "            # print(\"new max: \", candidates[i])\n",
    "            max_C_j[colors.index(current_color)] = candidates[i]\n",
    "            stop_rule[colors.index(current_color)] -= 1\n",
    "            \n",
    "        elif stop_rule[colors.index(current_color)] != 0:\n",
    "            # print(\"minus 1: \")\n",
    "            stop_rule[colors.index(current_color)] -= 1\n",
    "           \n",
    "        # print(stop_rule) \n",
    "        # print(\"\\n\")"
   ]
  },
  {
   "cell_type": "code",
   "execution_count": null,
   "id": "c52f167a",
   "metadata": {
    "lines_to_next_cell": 1
   },
   "outputs": [],
   "source": [
    "def create_data(n, colors, probabilities):\n",
    "    \n",
    "    candidates = np.arange(0, n, 5)\n",
    "    np.random.shuffle(candidates)\n",
    "\n",
    "    colored_candidates = {'red': [], 'green': [], 'blue': []}\n",
    "\n",
    "    i=0\n",
    "    for j in range(len(colors)):\n",
    "        colored_candidates[colors[j]] = [candidates[i:i+7], probabilities[j]]\n",
    "        i = i+7\n",
    "        \n",
    "    return candidates, colored_candidates"
   ]
  },
  {
   "cell_type": "code",
   "execution_count": null,
   "id": "0b16cbf0",
   "metadata": {
    "lines_to_next_cell": 1
   },
   "outputs": [],
   "source": [
    "def multiple_color_thresholds(colors, probabilities):\n",
    "    \n",
    "    # print(colors)\n",
    "    # print(probabilities)\n",
    "    \n",
    "    k = len(colors)\n",
    "    thresholds = []\n",
    "    \n",
    "    sort_index = sorted(enumerate(probabilities), reverse=True, key = itemgetter(1))\n",
    "    probabilities.sort(reverse = True)\n",
    "    \n",
    "    thresholds.insert(0, np.power((1 - (k - 1) * probabilities[-1]), 1 / (k - 1)))\n",
    "    \n",
    "    for j in range(k-1, 1, -1):\n",
    "\n",
    "        dividend = [probabilities[r-1]/(j-1) - probabilities[j-1] for r in range(1, j+1)]\n",
    "        divisor = [probabilities[r-1]/(j-1) - probabilities[j] for r in range(1, j+1)]\n",
    "        thresholds.insert(0, thresholds[0] * np.power((sum(dividend) / sum(divisor)), 1 / (j - 1)))\n",
    "    \n",
    "    thresholds.insert(0, thresholds[0] * np.power(np.e, probabilities[1] / probabilities[0] - 1))\n",
    "\n",
    "    unsort_index = [tuple[0] for tuple in sort_index]\n",
    "    thresholds = [thresholds[i] for i in unsort_index]\n",
    "    \n",
    "    print(thresholds)\n",
    "    return thresholds"
   ]
  },
  {
   "cell_type": "code",
   "execution_count": null,
   "id": "6ddfa076",
   "metadata": {
    "lines_to_next_cell": 1
   },
   "outputs": [],
   "source": [
    "def shuffle_input(candidates, color_per_candidate):\n",
    "    \n",
    "    color_matching = list(zip(candidates, color_per_candidate))\n",
    "    random.shuffle(color_matching)\n",
    "    \n",
    "    candidates, color_per_candidate = zip(*color_matching)\n",
    "    \n",
    "    return candidates, color_per_candidate"
   ]
  },
  {
   "cell_type": "code",
   "execution_count": null,
   "id": "ba1faff5",
   "metadata": {},
   "outputs": [],
   "source": [
    "if __name__ == \"__main__\":\n",
    "\n",
    "    n = 105\n",
    "    colors = ['red', 'green', 'blue']\n",
    "    probabilities = [0.3, 0.5, 0.2]\n",
    "    candidates, colored_candidates = create_data(n, colors, probabilities)\n",
    "    print(colored_candidates)\n",
    "    \n",
    "    best_SA = secretary_algorithm(candidates)\n",
    "    best_SCSA = one_color_secretary_algorithm(colored_candidates)\n",
    "    \n",
    "    print(\"Best candidate in SA: \", best_SA)\n",
    "    print(\"Best candidate in SCSA: \", best_SCSA)\n",
    "    \n",
    "    candidates, color_per_candidate = prepare_multicolor_input(candidates, colored_candidates)\n",
    "    \n",
    "    \n",
    "    print(candidates)\n",
    "    print(color_per_candidate)\n",
    "    \n",
    "    thresholds = multiple_color_thresholds(colors, probabilities)\n",
    "    best_MCSA = multiple_color_secretary_algorithm(colors, candidates, color_per_candidate, thresholds, n = [7, 7, 7])\n",
    "    \n",
    "    print(\"Best candidate in MCSA: \", best_MCSA)"
   ]
  }
 ],
 "metadata": {
  "jupytext": {
   "cell_metadata_filter": "-all",
   "notebook_metadata_filter": "-all",
   "text_representation": {
    "extension": ".py",
    "format_name": "light"
   }
  },
  "kernelspec": {
   "display_name": "Python 3",
   "language": "python",
   "name": "python3"
  },
  "language_info": {
   "codemirror_mode": {
    "name": "ipython",
    "version": 3
   },
   "file_extension": ".py",
   "mimetype": "text/x-python",
   "name": "python",
   "nbconvert_exporter": "python",
   "pygments_lexer": "ipython3",
   "version": "3.8.8"
  }
 },
 "nbformat": 4,
 "nbformat_minor": 5
}
