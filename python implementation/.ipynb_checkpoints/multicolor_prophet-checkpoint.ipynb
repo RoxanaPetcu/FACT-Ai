{
 "cells": [
  {
   "cell_type": "markdown",
   "id": "2cc6aa5d",
   "metadata": {},
   "source": [
    "# The Multi-Color Prophet Problem notebook"
   ]
  },
  {
   "cell_type": "markdown",
   "id": "96a7a894",
   "metadata": {},
   "source": [
    " Contact: p.praat@student.uva.nl"
   ]
  },
  {
   "cell_type": "code",
   "execution_count": 34,
   "id": "973cb68b",
   "metadata": {},
   "outputs": [],
   "source": [
    "import numpy as np\n",
    "import scipy\n",
    "import matplotlib.pyplot as plt\n",
    "from scipy.stats import uniform\n",
    "from numpy.random import default_rng\n",
    "from collections import Counter\n",
    "import matplotlib.pyplot as plt\n",
    "from statistics import mean\n",
    "\n",
    "from numpy import save\n",
    "from numpy import load\n",
    "\n",
    "from tqdm import tqdm # for the progress bar\n",
    "\n",
    "rng = default_rng()"
   ]
  },
  {
   "cell_type": "code",
   "execution_count": 2,
   "id": "8fa5d346",
   "metadata": {},
   "outputs": [],
   "source": [
    "diff_solution_50 = [1.00E+00, 9.73E-01, 9.45E-01, 9.18E-01, 8.91E-01, 8.63E-01, 8.36E-01,\n",
    "      8.09E-01, 7.82E-01, 7.56E-01, 7.29E-01, 7.03E-01, 6.76E-01, 6.50E-01,\n",
    "      6.24E-01, 5.99E-01, 5.74E-01, 5.49E-01, 5.24E-01, 4.99E-01, 4.75E-01,\n",
    "      4.52E-01, 4.28E-01, 4.05E-01, 3.83E-01, 3.61E-01, 3.39E-01, 3.18E-01,\n",
    "      2.98E-01, 2.77E-01, 2.58E-01, 2.39E-01, 2.20E-01, 2.02E-01, 1.85E-01,\n",
    "      1.68E-01, 1.52E-01, 1.36E-01, 1.21E-01, 1.07E-01, 9.32E-02, 8.02E-02,\n",
    "      6.78E-02, 5.60E-02, 4.50E-02, 3.46E-02, 2.49E-02, 1.59E-02, 7.65E-03,\n",
    "      1.95E-04]\n",
    "\n",
    "diff_solution_1000 = [\n",
    "      1.00E+00, 9.99E-01, 9.97E-01, 9.96E-01, 9.95E-01, 9.93E-01, 9.92E-01,\n",
    "      9.91E-01, 9.89E-01, 9.88E-01, 9.87E-01, 9.85E-01, 9.84E-01, 9.83E-01,\n",
    "      9.81E-01, 9.80E-01, 9.79E-01, 9.77E-01, 9.76E-01, 9.74E-01, 9.73E-01,\n",
    "      9.72E-01, 9.70E-01, 9.69E-01, 9.68E-01, 9.66E-01, 9.65E-01, 9.64E-01,\n",
    "      9.62E-01, 9.61E-01, 9.60E-01, 9.58E-01, 9.57E-01, 9.56E-01, 9.54E-01,\n",
    "      9.53E-01, 9.52E-01, 9.50E-01, 9.49E-01, 9.48E-01, 9.46E-01, 9.45E-01,\n",
    "      9.44E-01, 9.42E-01, 9.41E-01, 9.40E-01, 9.38E-01, 9.37E-01, 9.36E-01,\n",
    "      9.34E-01, 9.33E-01, 9.32E-01, 9.30E-01, 9.29E-01, 9.28E-01, 9.26E-01,\n",
    "      9.25E-01, 9.24E-01, 9.22E-01, 9.21E-01, 9.20E-01, 9.18E-01, 9.17E-01,\n",
    "      9.16E-01, 9.14E-01, 9.13E-01, 9.11E-01, 9.10E-01, 9.09E-01, 9.07E-01,\n",
    "      9.06E-01, 9.05E-01, 9.03E-01, 9.02E-01, 9.01E-01, 8.99E-01, 8.98E-01,\n",
    "      8.97E-01, 8.95E-01, 8.94E-01, 8.93E-01, 8.91E-01, 8.90E-01, 8.89E-01,\n",
    "      8.87E-01, 8.86E-01, 8.85E-01, 8.83E-01, 8.82E-01, 8.81E-01, 8.79E-01,\n",
    "      8.78E-01, 8.77E-01, 8.75E-01, 8.74E-01, 8.73E-01, 8.71E-01, 8.70E-01,\n",
    "      8.69E-01, 8.67E-01, 8.66E-01, 8.65E-01, 8.63E-01, 8.62E-01, 8.61E-01,\n",
    "      8.59E-01, 8.58E-01, 8.57E-01, 8.55E-01, 8.54E-01, 8.53E-01, 8.51E-01,\n",
    "      8.50E-01, 8.49E-01, 8.47E-01, 8.46E-01, 8.45E-01, 8.43E-01, 8.42E-01,\n",
    "      8.41E-01, 8.39E-01, 8.38E-01, 8.37E-01, 8.35E-01, 8.34E-01, 8.33E-01,\n",
    "      8.31E-01, 8.30E-01, 8.29E-01, 8.28E-01, 8.26E-01, 8.25E-01, 8.24E-01,\n",
    "      8.22E-01, 8.21E-01, 8.20E-01, 8.18E-01, 8.17E-01, 8.16E-01, 8.14E-01,\n",
    "      8.13E-01, 8.12E-01, 8.10E-01, 8.09E-01, 8.08E-01, 8.06E-01, 8.05E-01,\n",
    "      8.04E-01, 8.02E-01, 8.01E-01, 8.00E-01, 7.98E-01, 7.97E-01, 7.96E-01,\n",
    "      7.94E-01, 7.93E-01, 7.92E-01, 7.90E-01, 7.89E-01, 7.88E-01, 7.87E-01,\n",
    "      7.85E-01, 7.84E-01, 7.83E-01, 7.81E-01, 7.80E-01, 7.79E-01, 7.77E-01,\n",
    "      7.76E-01, 7.75E-01, 7.73E-01, 7.72E-01, 7.71E-01, 7.69E-01, 7.68E-01,\n",
    "      7.67E-01, 7.65E-01, 7.64E-01, 7.63E-01, 7.62E-01, 7.60E-01, 7.59E-01,\n",
    "      7.58E-01, 7.56E-01, 7.55E-01, 7.54E-01, 7.52E-01, 7.51E-01, 7.50E-01,\n",
    "      7.48E-01, 7.47E-01, 7.46E-01, 7.45E-01, 7.43E-01, 7.42E-01, 7.41E-01,\n",
    "      7.39E-01, 7.38E-01, 7.37E-01, 7.35E-01, 7.34E-01, 7.33E-01, 7.31E-01,\n",
    "      7.30E-01, 7.29E-01, 7.28E-01, 7.26E-01, 7.25E-01, 7.24E-01, 7.22E-01,\n",
    "      7.21E-01, 7.20E-01, 7.18E-01, 7.17E-01, 7.16E-01, 7.15E-01, 7.13E-01,\n",
    "      7.12E-01, 7.11E-01, 7.09E-01, 7.08E-01, 7.07E-01, 7.06E-01, 7.04E-01,\n",
    "      7.03E-01, 7.02E-01, 7.00E-01, 6.99E-01, 6.98E-01, 6.96E-01, 6.95E-01,\n",
    "      6.94E-01, 6.93E-01, 6.91E-01, 6.90E-01, 6.89E-01, 6.87E-01, 6.86E-01,\n",
    "      6.85E-01, 6.84E-01, 6.82E-01, 6.81E-01, 6.80E-01, 6.78E-01, 6.77E-01,\n",
    "      6.76E-01, 6.75E-01, 6.73E-01, 6.72E-01, 6.71E-01, 6.69E-01, 6.68E-01,\n",
    "      6.67E-01, 6.66E-01, 6.64E-01, 6.63E-01, 6.62E-01, 6.61E-01, 6.59E-01,\n",
    "      6.58E-01, 6.57E-01, 6.55E-01, 6.54E-01, 6.53E-01, 6.52E-01, 6.50E-01,\n",
    "      6.49E-01, 6.48E-01, 6.47E-01, 6.45E-01, 6.44E-01, 6.43E-01, 6.41E-01,\n",
    "      6.40E-01, 6.39E-01, 6.38E-01, 6.36E-01, 6.35E-01, 6.34E-01, 6.33E-01,\n",
    "      6.31E-01, 6.30E-01, 6.29E-01, 6.28E-01, 6.26E-01, 6.25E-01, 6.24E-01,\n",
    "      6.22E-01, 6.21E-01, 6.20E-01, 6.19E-01, 6.17E-01, 6.16E-01, 6.15E-01,\n",
    "      6.14E-01, 6.12E-01, 6.11E-01, 6.10E-01, 6.09E-01, 6.07E-01, 6.06E-01,\n",
    "      6.05E-01, 6.04E-01, 6.02E-01, 6.01E-01, 6.00E-01, 5.99E-01, 5.97E-01,\n",
    "      5.96E-01, 5.95E-01, 5.94E-01, 5.92E-01, 5.91E-01, 5.90E-01, 5.89E-01,\n",
    "      5.87E-01, 5.86E-01, 5.85E-01, 5.84E-01, 5.82E-01, 5.81E-01, 5.80E-01,\n",
    "      5.79E-01, 5.78E-01, 5.76E-01, 5.75E-01, 5.74E-01, 5.73E-01, 5.71E-01,\n",
    "      5.70E-01, 5.69E-01, 5.68E-01, 5.66E-01, 5.65E-01, 5.64E-01, 5.63E-01,\n",
    "      5.61E-01, 5.60E-01, 5.59E-01, 5.58E-01, 5.57E-01, 5.55E-01, 5.54E-01,\n",
    "      5.53E-01, 5.52E-01, 5.50E-01, 5.49E-01, 5.48E-01, 5.47E-01, 5.46E-01,\n",
    "      5.44E-01, 5.43E-01, 5.42E-01, 5.41E-01, 5.40E-01, 5.38E-01, 5.37E-01,\n",
    "      5.36E-01, 5.35E-01, 5.33E-01, 5.32E-01, 5.31E-01, 5.30E-01, 5.29E-01,\n",
    "      5.27E-01, 5.26E-01, 5.25E-01, 5.24E-01, 5.23E-01, 5.21E-01, 5.20E-01,\n",
    "      5.19E-01, 5.18E-01, 5.17E-01, 5.15E-01, 5.14E-01, 5.13E-01, 5.12E-01,\n",
    "      5.11E-01, 5.09E-01, 5.08E-01, 5.07E-01, 5.06E-01, 5.05E-01, 5.03E-01,\n",
    "      5.02E-01, 5.01E-01, 5.00E-01, 4.99E-01, 4.97E-01, 4.96E-01, 4.95E-01,\n",
    "      4.94E-01, 4.93E-01, 4.92E-01, 4.90E-01, 4.89E-01, 4.88E-01, 4.87E-01,\n",
    "      4.86E-01, 4.84E-01, 4.83E-01, 4.82E-01, 4.81E-01, 4.80E-01, 4.79E-01,\n",
    "      4.77E-01, 4.76E-01, 4.75E-01, 4.74E-01, 4.73E-01, 4.72E-01, 4.70E-01,\n",
    "      4.69E-01, 4.68E-01, 4.67E-01, 4.66E-01, 4.65E-01, 4.63E-01, 4.62E-01,\n",
    "      4.61E-01, 4.60E-01, 4.59E-01, 4.58E-01, 4.56E-01, 4.55E-01, 4.54E-01,\n",
    "      4.53E-01, 4.52E-01, 4.51E-01, 4.50E-01, 4.48E-01, 4.47E-01, 4.46E-01,\n",
    "      4.45E-01, 4.44E-01, 4.43E-01, 4.41E-01, 4.40E-01, 4.39E-01, 4.38E-01,\n",
    "      4.37E-01, 4.36E-01, 4.35E-01, 4.34E-01, 4.32E-01, 4.31E-01, 4.30E-01,\n",
    "      4.29E-01, 4.28E-01, 4.27E-01, 4.26E-01, 4.24E-01, 4.23E-01, 4.22E-01,\n",
    "      4.21E-01, 4.20E-01, 4.19E-01, 4.18E-01, 4.17E-01, 4.15E-01, 4.14E-01,\n",
    "      4.13E-01, 4.12E-01, 4.11E-01, 4.10E-01, 4.09E-01, 4.08E-01, 4.06E-01,\n",
    "      4.05E-01, 4.04E-01, 4.03E-01, 4.02E-01, 4.01E-01, 4.00E-01, 3.99E-01,\n",
    "      3.98E-01, 3.96E-01, 3.95E-01, 3.94E-01, 3.93E-01, 3.92E-01, 3.91E-01,\n",
    "      3.90E-01, 3.89E-01, 3.88E-01, 3.87E-01, 3.85E-01, 3.84E-01, 3.83E-01,\n",
    "      3.82E-01, 3.81E-01, 3.80E-01, 3.79E-01, 3.78E-01, 3.77E-01, 3.76E-01,\n",
    "      3.75E-01, 3.74E-01, 3.72E-01, 3.71E-01, 3.70E-01, 3.69E-01, 3.68E-01,\n",
    "      3.67E-01, 3.66E-01, 3.65E-01, 3.64E-01, 3.63E-01, 3.62E-01, 3.61E-01,\n",
    "      3.60E-01, 3.58E-01, 3.57E-01, 3.56E-01, 3.55E-01, 3.54E-01, 3.53E-01,\n",
    "      3.52E-01, 3.51E-01, 3.50E-01, 3.49E-01, 3.48E-01, 3.47E-01, 3.46E-01,\n",
    "      3.45E-01, 3.44E-01, 3.43E-01, 3.41E-01, 3.40E-01, 3.39E-01, 3.38E-01,\n",
    "      3.37E-01, 3.36E-01, 3.35E-01, 3.34E-01, 3.33E-01, 3.32E-01, 3.31E-01,\n",
    "      3.30E-01, 3.29E-01, 3.28E-01, 3.27E-01, 3.26E-01, 3.25E-01, 3.24E-01,\n",
    "      3.23E-01, 3.22E-01, 3.21E-01, 3.20E-01, 3.19E-01, 3.18E-01, 3.17E-01,\n",
    "      3.16E-01, 3.15E-01, 3.14E-01, 3.13E-01, 3.12E-01, 3.10E-01, 3.09E-01,\n",
    "      3.08E-01, 3.07E-01, 3.06E-01, 3.05E-01, 3.04E-01, 3.03E-01, 3.02E-01,\n",
    "      3.01E-01, 3.00E-01, 2.99E-01, 2.98E-01, 2.97E-01, 2.96E-01, 2.95E-01,\n",
    "      2.94E-01, 2.93E-01, 2.92E-01, 2.91E-01, 2.90E-01, 2.89E-01, 2.88E-01,\n",
    "      2.87E-01, 2.86E-01, 2.85E-01, 2.84E-01, 2.84E-01, 2.83E-01, 2.82E-01,\n",
    "      2.81E-01, 2.80E-01, 2.79E-01, 2.78E-01, 2.77E-01, 2.76E-01, 2.75E-01,\n",
    "      2.74E-01, 2.73E-01, 2.72E-01, 2.71E-01, 2.70E-01, 2.69E-01, 2.68E-01,\n",
    "      2.67E-01, 2.66E-01, 2.65E-01, 2.64E-01, 2.63E-01, 2.62E-01, 2.61E-01,\n",
    "      2.60E-01, 2.59E-01, 2.58E-01, 2.57E-01, 2.56E-01, 2.56E-01, 2.55E-01,\n",
    "      2.54E-01, 2.53E-01, 2.52E-01, 2.51E-01, 2.50E-01, 2.49E-01, 2.48E-01,\n",
    "      2.47E-01, 2.46E-01, 2.45E-01, 2.44E-01, 2.43E-01, 2.42E-01, 2.41E-01,\n",
    "      2.41E-01, 2.40E-01, 2.39E-01, 2.38E-01, 2.37E-01, 2.36E-01, 2.35E-01,\n",
    "      2.34E-01, 2.33E-01, 2.32E-01, 2.31E-01, 2.30E-01, 2.30E-01, 2.29E-01,\n",
    "      2.28E-01, 2.27E-01, 2.26E-01, 2.25E-01, 2.24E-01, 2.23E-01, 2.22E-01,\n",
    "      2.21E-01, 2.21E-01, 2.20E-01, 2.19E-01, 2.18E-01, 2.17E-01, 2.16E-01,\n",
    "      2.15E-01, 2.14E-01, 2.13E-01, 2.13E-01, 2.12E-01, 2.11E-01, 2.10E-01,\n",
    "      2.09E-01, 2.08E-01, 2.07E-01, 2.06E-01, 2.06E-01, 2.05E-01, 2.04E-01,\n",
    "      2.03E-01, 2.02E-01, 2.01E-01, 2.00E-01, 1.99E-01, 1.99E-01, 1.98E-01,\n",
    "      1.97E-01, 1.96E-01, 1.95E-01, 1.94E-01, 1.93E-01, 1.93E-01, 1.92E-01,\n",
    "      1.91E-01, 1.90E-01, 1.89E-01, 1.88E-01, 1.87E-01, 1.87E-01, 1.86E-01,\n",
    "      1.85E-01, 1.84E-01, 1.83E-01, 1.82E-01, 1.82E-01, 1.81E-01, 1.80E-01,\n",
    "      1.79E-01, 1.78E-01, 1.77E-01, 1.77E-01, 1.76E-01, 1.75E-01, 1.74E-01,\n",
    "      1.73E-01, 1.73E-01, 1.72E-01, 1.71E-01, 1.70E-01, 1.69E-01, 1.68E-01,\n",
    "      1.68E-01, 1.67E-01, 1.66E-01, 1.65E-01, 1.64E-01, 1.64E-01, 1.63E-01,\n",
    "      1.62E-01, 1.61E-01, 1.60E-01, 1.60E-01, 1.59E-01, 1.58E-01, 1.57E-01,\n",
    "      1.56E-01, 1.56E-01, 1.55E-01, 1.54E-01, 1.53E-01, 1.53E-01, 1.52E-01,\n",
    "      1.51E-01, 1.50E-01, 1.49E-01, 1.49E-01, 1.48E-01, 1.47E-01, 1.46E-01,\n",
    "      1.46E-01, 1.45E-01, 1.44E-01, 1.43E-01, 1.43E-01, 1.42E-01, 1.41E-01,\n",
    "      1.40E-01, 1.39E-01, 1.39E-01, 1.38E-01, 1.37E-01, 1.36E-01, 1.36E-01,\n",
    "      1.35E-01, 1.34E-01, 1.33E-01, 1.33E-01, 1.32E-01, 1.31E-01, 1.31E-01,\n",
    "      1.30E-01, 1.29E-01, 1.28E-01, 1.28E-01, 1.27E-01, 1.26E-01, 1.25E-01,\n",
    "      1.25E-01, 1.24E-01, 1.23E-01, 1.22E-01, 1.22E-01, 1.21E-01, 1.20E-01,\n",
    "      1.20E-01, 1.19E-01, 1.18E-01, 1.17E-01, 1.17E-01, 1.16E-01, 1.15E-01,\n",
    "      1.15E-01, 1.14E-01, 1.13E-01, 1.13E-01, 1.12E-01, 1.11E-01, 1.10E-01,\n",
    "      1.10E-01, 1.09E-01, 1.08E-01, 1.08E-01, 1.07E-01, 1.06E-01, 1.06E-01,\n",
    "      1.05E-01, 1.04E-01, 1.04E-01, 1.03E-01, 1.02E-01, 1.02E-01, 1.01E-01,\n",
    "      1.00E-01, 9.95E-02, 9.88E-02, 9.82E-02, 9.75E-02, 9.68E-02, 9.62E-02,\n",
    "      9.55E-02, 9.49E-02, 9.42E-02, 9.35E-02, 9.29E-02, 9.22E-02, 9.16E-02,\n",
    "      9.09E-02, 9.03E-02, 8.96E-02, 8.90E-02, 8.83E-02, 8.77E-02, 8.71E-02,\n",
    "      8.64E-02, 8.58E-02, 8.51E-02, 8.45E-02, 8.39E-02, 8.32E-02, 8.26E-02,\n",
    "      8.20E-02, 8.13E-02, 8.07E-02, 8.01E-02, 7.95E-02, 7.89E-02, 7.82E-02,\n",
    "      7.76E-02, 7.70E-02, 7.64E-02, 7.58E-02, 7.52E-02, 7.45E-02, 7.39E-02,\n",
    "      7.33E-02, 7.27E-02, 7.21E-02, 7.15E-02, 7.09E-02, 7.03E-02, 6.97E-02,\n",
    "      6.91E-02, 6.85E-02, 6.79E-02, 6.73E-02, 6.68E-02, 6.62E-02, 6.56E-02,\n",
    "      6.50E-02, 6.44E-02, 6.38E-02, 6.32E-02, 6.27E-02, 6.21E-02, 6.15E-02,\n",
    "      6.09E-02, 6.04E-02, 5.98E-02, 5.92E-02, 5.87E-02, 5.81E-02, 5.75E-02,\n",
    "      5.70E-02, 5.64E-02, 5.59E-02, 5.53E-02, 5.47E-02, 5.42E-02, 5.36E-02,\n",
    "      5.31E-02, 5.25E-02, 5.20E-02, 5.14E-02, 5.09E-02, 5.03E-02, 4.98E-02,\n",
    "      4.93E-02, 4.87E-02, 4.82E-02, 4.77E-02, 4.71E-02, 4.66E-02, 4.61E-02,\n",
    "      4.55E-02, 4.50E-02, 4.45E-02, 4.40E-02, 4.34E-02, 4.29E-02, 4.24E-02,\n",
    "      4.19E-02, 4.14E-02, 4.08E-02, 4.03E-02, 3.98E-02, 3.93E-02, 3.88E-02,\n",
    "      3.83E-02, 3.78E-02, 3.73E-02, 3.68E-02, 3.63E-02, 3.58E-02, 3.53E-02,\n",
    "      3.48E-02, 3.43E-02, 3.38E-02, 3.33E-02, 3.29E-02, 3.24E-02, 3.19E-02,\n",
    "      3.14E-02, 3.09E-02, 3.04E-02, 3.00E-02, 2.95E-02, 2.90E-02, 2.85E-02,\n",
    "      2.81E-02, 2.76E-02, 2.71E-02, 2.67E-02, 2.62E-02, 2.57E-02, 2.53E-02,\n",
    "      2.48E-02, 2.44E-02, 2.39E-02, 2.35E-02, 2.30E-02, 2.26E-02, 2.21E-02,\n",
    "      2.17E-02, 2.12E-02, 2.08E-02, 2.03E-02, 1.99E-02, 1.94E-02, 1.90E-02,\n",
    "      1.86E-02, 1.81E-02, 1.77E-02, 1.73E-02, 1.69E-02, 1.64E-02, 1.60E-02,\n",
    "      1.56E-02, 1.52E-02, 1.47E-02, 1.43E-02, 1.39E-02, 1.35E-02, 1.31E-02,\n",
    "      1.27E-02, 1.23E-02, 1.19E-02, 1.15E-02, 1.10E-02, 1.06E-02, 1.02E-02,\n",
    "      9.85E-03, 9.45E-03, 9.06E-03, 8.67E-03, 8.28E-03, 7.89E-03, 7.50E-03,\n",
    "      7.12E-03, 6.73E-03, 6.35E-03, 5.97E-03, 5.60E-03, 5.22E-03, 4.85E-03,\n",
    "      4.48E-03, 4.11E-03, 3.74E-03, 3.38E-03, 3.01E-03, 2.65E-03, 2.30E-03,\n",
    "      1.94E-03, 1.59E-03, 1.24E-03, 8.87E-04, 5.40E-04, 1.95E-04]"
   ]
  },
  {
   "cell_type": "markdown",
   "id": "28f73c01",
   "metadata": {},
   "source": [
    "_We next consider the following multi-color prophet problem. In this model n candidates arrive in uniform random order. Candidates are partitioned into k groups $C = {C_1,···,C_k}$. We write $n=(n1,...,nk)$ for the vector of groupsizes, i.e., $|C_j| = n_j$ ,for all 1 ≤ j ≤ k. We identify each of the groups with a distinct color and let c(i), vi denote the color and value of candidate i, respectively. The value vi that is revealed upon arrival of i, and is drawn independently from a given distribution Fi. We use $F = (F_1, . . . , Fn)$ to refer to the vector of distributions. We are also given a probability vector $p = (p_1, . . . , p_k)$. The goal is to select a candidate in an online manner in order to maximize the expectation of the value of the selected candidate, while selecting from each color with probability proportional to p. We distinguish between the basic setting in which $p_j$ is the proportion of candidates that belong to group j, i.e., $p_j = n_j/n$, and the general setting in which $p$ is arbitrary. We compare ourselves with the fair optimum, the optimal offline algorithm that respects the $p_j$ ’s._"
   ]
  },
  {
   "cell_type": "markdown",
   "id": "3985e883",
   "metadata": {},
   "source": [
    "## The two algorithms presented in the paper"
   ]
  },
  {
   "cell_type": "code",
   "execution_count": 3,
   "id": "062d034f",
   "metadata": {},
   "outputs": [],
   "source": [
    "# factorial of a number n\n",
    "def factorial(n) :\n",
    "     \n",
    "    fact = 1\n",
    "    for i in range(1, n+1) :\n",
    "        fact = fact * i\n",
    " \n",
    "    return fact;\n",
    " \n",
    "# Function to find middle term in\n",
    "# binomial expansion series.\n",
    "def findMiddleTerm(A, X, n) :\n",
    " \n",
    "    if (n % 2 == 0) :\n",
    "         \n",
    "        # If n is even\n",
    "         \n",
    "        # calculating the middle term\n",
    "        i = int(n / 2)\n",
    " \n",
    "        # calculating the value of A to\n",
    "        # the power k and X to the power k\n",
    "        aPow = int(math.pow(A, n - i))\n",
    "        xPow = int(math.pow(X, i))\n",
    " \n",
    "        middleTerm1 = ((math.factorial(n) /\n",
    "                       (math.factorial(n - i)\n",
    "                       * math.factorial(i)))\n",
    "                       * aPow * xPow)\n",
    "                                 \n",
    "        print (\"MiddleTerm = {}\" .\n",
    "                     format(middleTerm1))\n",
    " \n",
    "    else :\n",
    " \n",
    "        # If n is odd\n",
    "         \n",
    "        # calculating the middle term\n",
    "        i = int((n - 1) / 2)\n",
    "        j = int((n + 1) / 2)\n",
    " \n",
    "        # calculating the value of A to the\n",
    "        # power k and X to the power k\n",
    "        aPow = int(math.pow(A, n - i))\n",
    "        xPow = int(math.pow(X, i))\n",
    " \n",
    "        middleTerm1 = ((math.factorial(n)\n",
    "                    / (math.factorial(n - i)\n",
    "                    * math.factorial(i)))\n",
    "                        * aPow * xPow)\n",
    " \n",
    "        # calculating the value of A to the\n",
    "        # power k and X to the power k\n",
    "        aPow = int(math.pow(A, n - j))\n",
    "        xPow = int(math.pow(X, j))\n",
    " \n",
    "        middleTerm2 = ((math.factorial(n)\n",
    "                   / (math.factorial(n - j)\n",
    "                   * math.factorial(j)))\n",
    "                      * aPow * xPow)\n",
    " \n",
    "        print (\"MiddleTerm1 = {}\" .\n",
    "               format(int(middleTerm1)))\n",
    "                         \n",
    "        print (\"MiddleTerm2 = {}\" .\n",
    "               format(int(middleTerm2)))"
   ]
  },
  {
   "cell_type": "code",
   "execution_count": 53,
   "id": "dc5d578f",
   "metadata": {},
   "outputs": [],
   "source": [
    "def Finv(distribution, prob):\n",
    "    lower, upper = 0.0,1.0\n",
    "    if distribution == \"uniform\":\n",
    "        return prob * (upper-lower)\n",
    "    if distribution == \"binomial\":\n",
    "        return scipy.stats.binom.ppf(prob, n=1000, p=0.5)\n",
    "        \n",
    "\n",
    "def Middle(distribution_type, n):\n",
    "    if distribution_type == \"uniform\":\n",
    "        rrange = 1.0\n",
    "        return rrange * np.power(1.0 / 2, 1.0 / n)\n",
    "    if distribution_type == \"binomial\":\n",
    "        raise NotImplementedError\n",
    "        \n",
    "def FairGeneralProphet (q, V, distribution_type):\n",
    "    summ = 0.0\n",
    "    for i in range(0,len(V)):\n",
    "        if V[i] >= Finv(distribution_type, (1.0 - (q[i] / (2 - summ)))):\n",
    "#         if V[i] >= Finv(distribution_type, (1- (q[i]/2)/(1-(summ/2)))):\n",
    "            return i\n",
    "        summ += q[i]\n",
    "\n",
    "def FairIIDProphet(Values, distribution_type):\n",
    "    for i in range(0, len(Values)):\n",
    "        p = (2.0 / 3.0) / len(Values)\n",
    "        if Values[i] >= Finv(distribution_type, (1.0 - p / (1.0 - p * i))):\n",
    "            return i\n",
    "\n"
   ]
  },
  {
   "cell_type": "code",
   "execution_count": 54,
   "id": "6d02a37a",
   "metadata": {},
   "outputs": [],
   "source": [
    "# Implemented according to the function “ComputeSolutionOneHalf” in unfair-prophet.cc\n",
    "#TODO: Right now only works for uniform distribution!\n",
    "def SC_algorithm(Values, distribution_type):\n",
    "    for i in range(0, len(Values)):\n",
    "        if Values[i] >= Middle(distribution_type, len(Values)):\n",
    "            return i\n",
    "\n",
    "\n",
    "# Implemented according to the function “ComputeSolutionOneMinusOneE” in unfair-prophet.cc\n",
    "def EHKS_algorithm(Values, distribution_type):\n",
    "    for i in range(0, len(Values)):\n",
    "        if Values[i] >= Finv(distribution_type, (1.0 - (1.0 / len(Values)))):\n",
    "            return i\n",
    "\n",
    "# Implemented according to the function “ComputeSolutionDiffEq” in unfair-prophet.cc\n",
    "def DP_algorithm(Values, distribution_type):\n",
    "#     TODO: still need to figure out if these precomputed thresholds hold!\n",
    "    if len(Values) == 50:\n",
    "        diff_solution = diff_solution_50\n",
    "    else:\n",
    "        diff_solution = diff_solution_1000\n",
    "        \n",
    "    for i in range(0, len(Values)):\n",
    "        if Values[i] >= Finv(distribution_type, np.power(diff_solution[i], (1.0 / (len(Values) - 1)))):\n",
    "            return i"
   ]
  },
  {
   "cell_type": "markdown",
   "id": "8bbee65d",
   "metadata": {},
   "source": [
    "## The experiments"
   ]
  },
  {
   "cell_type": "markdown",
   "id": "a5912dbe",
   "metadata": {},
   "source": [
    "_\"We focus on the case, where values are distributed i.i.d. and each candidate is a group on its own. We consider two settings. In the first one the input stream consists of 50 samples from the uniform distribution in range [0, 1], and in the second one the input consists of 1000 samples from the binomial distribution with 1000 trials and 1/2 probability of success of a single trial. For better comparability with existing algorithms, in both cases we assume each candidate is a group on its own. We run each algorithm 50, 000 times.\"_"
   ]
  },
  {
   "cell_type": "markdown",
   "id": "ca87e6d2",
   "metadata": {},
   "source": [
    "### Uniform Distribution"
   ]
  },
  {
   "cell_type": "markdown",
   "id": "2e0de161",
   "metadata": {},
   "source": [
    "_Here, as mentioned in the paper, the \"input stream consists of 50 samples from the uniform distribution in range [0, 1]\"_"
   ]
  },
  {
   "cell_type": "code",
   "execution_count": 55,
   "id": "a47f0865",
   "metadata": {},
   "outputs": [],
   "source": [
    "\"\"\"\n",
    ":param distribution_type: either \"uniform\" or \"binomial\"\n",
    ":param size: number of candidates\n",
    ":returns q: \n",
    ":returns V:\n",
    "\"\"\"\n",
    "def generateDistribution(distribution_type, size):\n",
    "    n = size\n",
    "    if distribution_type == \"uniform\":\n",
    "        q, V = [1/n] * n , rng.uniform(low=0.0, high=1.0, size=n)\n",
    "    elif distribution_type == \"binomial\":\n",
    "        q, V = [1/n] * n , rng.binomial(n=1000, p=.5, size=n)\n",
    "    return q,V\n",
    "\n",
    "\"\"\"\n",
    ":param algorithm: string either \"FairGeneralProphet\", \"FairIIDProphet\", \"SC\", \"EHKS\" or, \"DP\"\n",
    ":param N_experimentReps: the number of times the algorithm needs to run\n",
    ":param distribution_type: either \"uniform\" or \"binomial\"\n",
    ":param n_candidates: interger with the number of candidates in each experiment\n",
    ":returns arrivalPositionsChosen: array containing which candidate position was chosen\n",
    ":returns chosenValues: array contraining the values of each picked/selected candidate\n",
    "\"\"\"\n",
    "def runExperiment(algorithm, N_experimentReps, distribution_type, n_candidates):\n",
    "    arrivalPositionsChosen, chosenValues = [0]*n_candidates, []\n",
    "    for _ in tqdm(range(0, N_experimentReps)):\n",
    "        q, Values = generateDistribution(distribution_type, n_candidates)\n",
    "        \n",
    "        if algorithm == \"FairGeneralProphet\":\n",
    "                result = FairGeneralProphet(q, Values, distribution_type)\n",
    "        elif algorithm == \"FairIIDProphet\":\n",
    "                result = FairIIDProphet(Values, distribution_type)\n",
    "        elif algorithm == \"SC\":\n",
    "                result = SC_algorithm(Values, distribution_type)\n",
    "        elif algorithm ==\"EHKS\":\n",
    "                result = EHKS_algorithm(Values, distribution_type)\n",
    "        elif algorithm == \"DP\":\n",
    "                result = DP_algorithm(Values, distribution_type)\n",
    "                \n",
    "                \n",
    "        if result != None:\n",
    "            arrivalPositionsChosen[result] += 1\n",
    "            chosenValues.append(Values[result])\n",
    "            \n",
    "        if result == None: chosenValues.append(0)\n",
    "    return arrivalPositionsChosen, chosenValues"
   ]
  },
  {
   "cell_type": "code",
   "execution_count": 56,
   "id": "7d26c975",
   "metadata": {},
   "outputs": [
    {
     "name": "stderr",
     "output_type": "stream",
     "text": [
      "100%|██████████| 50000/50000 [00:01<00:00, 31967.18it/s]\n",
      "100%|██████████| 50000/50000 [00:01<00:00, 34160.84it/s]\n",
      "100%|██████████| 50000/50000 [00:05<00:00, 8603.74it/s] \n",
      "100%|██████████| 50000/50000 [00:01<00:00, 43138.63it/s]\n",
      "100%|██████████| 50000/50000 [00:04<00:00, 11702.39it/s]\n"
     ]
    },
    {
     "data": {
      "image/png": "[encoded data removed]",
      "text/plain": [
       "<Figure size 432x288 with 1 Axes>"
      ]
     },
     "metadata": {
      "needs_background": "light"
     },
     "output_type": "display_data"
    }
   ],
   "source": [
    "#Plotting the results for 50k experiments\n",
    "\n",
    "arrivalPositionsChosenFairPA, a = runExperiment(algorithm=\"FairGeneralProphet\", N_experimentReps=50000, \n",
    "                                                distribution_type=\"uniform\", n_candidates=50)\n",
    "    \n",
    "arrivalPositionsChosenFairIID, b = runExperiment(algorithm=\"FairIIDProphet\", N_experimentReps=50000, \n",
    "                                                distribution_type=\"uniform\", n_candidates=50)\n",
    "    \n",
    "arrivalPositionsChosenSC, c = runExperiment(algorithm=\"SC\", N_experimentReps=50000, \n",
    "                                                distribution_type=\"uniform\", n_candidates=50)\n",
    "    \n",
    "arrivalPositionsChosenEHKS, d = runExperiment(algorithm=\"EHKS\", N_experimentReps=50000, \n",
    "                                                distribution_type=\"uniform\", n_candidates=50)\n",
    "arrivalPositionsChosenDP, e = runExperiment(algorithm=\"DP\", N_experimentReps=50000, \n",
    "                                                distribution_type=\"uniform\", n_candidates=50)\n",
    "\n",
    "plt.plot(range(0,50), arrivalPositionsChosenFairPA, label=\"Fair PA\")\n",
    "plt.plot(range(0,50), arrivalPositionsChosenFairIID, label=\"Fair IID\")\n",
    "plt.plot(range(0,50), arrivalPositionsChosenEHKS, label=\"EHKS\")\n",
    "plt.plot(range(0,50), arrivalPositionsChosenSC, label=\"SC\")\n",
    "plt.plot(range(0,50), arrivalPositionsChosenDP, label=\"DP\")\n",
    "plt.plot(range(0,50), range(0,4000,80), label=\"replicate CFHOV for scale\")\n",
    "plt.title(\"50k experiments, discarding None results\")\n",
    "plt.xlabel(\"Arrival position\")\n",
    "plt.ylabel(\"Num Picked\")\n",
    "plt.legend(loc=\"upper right\")\n",
    "plt.savefig(\"50kExperiments.png\")"
   ]
  },
  {
   "cell_type": "markdown",
   "id": "f96a165a",
   "metadata": {},
   "source": [
    "This led us to examining two approaches. One in which we increase the number of experiments to 100k, and one where we run 50k experiments and keep repeating each experiment untill we don't get a None. The first one has been done above, and seems to confirm the found results.\n",
    "\n",
    "It is also worth noting that just skipping over None results does not lead to the same results, only increasing the number of experiments. As shown here"
   ]
  },
  {
   "cell_type": "code",
   "execution_count": 57,
   "id": "57db65a2",
   "metadata": {},
   "outputs": [
    {
     "name": "stderr",
     "output_type": "stream",
     "text": [
      "100%|██████████| 100000/100000 [00:03<00:00, 29526.25it/s]\n",
      "100%|██████████| 100000/100000 [00:02<00:00, 33442.17it/s]\n",
      "100%|██████████| 100000/100000 [00:08<00:00, 12248.00it/s]\n",
      "100%|██████████| 100000/100000 [00:02<00:00, 44874.50it/s]\n",
      "100%|██████████| 100000/100000 [00:08<00:00, 11765.73it/s]\n"
     ]
    },
    {
     "data": {
      "image/png": "[encoded data removed]",
      "text/plain": [
       "<Figure size 432x288 with 1 Axes>"
      ]
     },
     "metadata": {
      "needs_background": "light"
     },
     "output_type": "display_data"
    }
   ],
   "source": [
    "#Plotting the results for 100k experiments\n",
    "\n",
    "arrivalPositionsChosenFairPA, a = runExperiment(algorithm=\"FairGeneralProphet\", N_experimentReps=50000*2, \n",
    "                                                distribution_type=\"uniform\", n_candidates=50)\n",
    "    \n",
    "arrivalPositionsChosenFairIID, b = runExperiment(algorithm=\"FairIIDProphet\", N_experimentReps=50000*2, \n",
    "                                                distribution_type=\"uniform\", n_candidates=50)\n",
    "    \n",
    "arrivalPositionsChosenSC, c = runExperiment(algorithm=\"SC\", N_experimentReps=50000*2, \n",
    "                                                distribution_type=\"uniform\", n_candidates=50)\n",
    "    \n",
    "arrivalPositionsChosenEHKS, d = runExperiment(algorithm=\"EHKS\", N_experimentReps=50000*2, \n",
    "                                                distribution_type=\"uniform\", n_candidates=50)\n",
    "\n",
    "arrivalPositionsChosenDP, e = runExperiment(algorithm=\"DP\", N_experimentReps=50000*2, \n",
    "                                                distribution_type=\"uniform\", n_candidates=50)\n",
    "\n",
    "plt.plot(range(0,50), arrivalPositionsChosenFairPA, label=\"Fair PA\")\n",
    "plt.plot(range(0,50), arrivalPositionsChosenFairIID, label=\"Fair IID\")\n",
    "plt.plot(range(0,50), arrivalPositionsChosenEHKS, label=\"EHKS\")\n",
    "plt.plot(range(0,50), arrivalPositionsChosenSC, label=\"SC\")\n",
    "plt.plot(range(0,50), arrivalPositionsChosenDP, label=\"DP\")\n",
    "plt.plot(range(0,50), range(0,4000,80), label=\"replicate CFHOV for scale\")\n",
    "plt.title(\"100k experiments, discarding None results\")\n",
    "plt.xlabel(\"Arrival position\")\n",
    "plt.ylabel(\"Num Picked\")\n",
    "plt.legend(loc=\"upper right\")\n",
    "plt.savefig(\"100kExperiments.png\")"
   ]
  },
  {
   "cell_type": "markdown",
   "id": "480ee06b",
   "metadata": {},
   "source": [
    "### Average values of chosen candidates"
   ]
  },
  {
   "cell_type": "code",
   "execution_count": 58,
   "id": "a71d3fd4",
   "metadata": {},
   "outputs": [
    {
     "name": "stdout",
     "output_type": "stream",
     "text": [
      "The average value of the chosen candidate in the uniform distribution: \n",
      "\n",
      "FairPA:  0.4993993969416364 (should be 0.501)\n",
      "FairIID:  0.6623485243281313 (should be 0.661)\n",
      "SK:  0.4975242887430323 (should be 0.499)\n",
      "EHKS:  0.6269214151545657 (should be 0.631)\n",
      "SP:  0.7527575296845084 (should be 0.751)\n"
     ]
    }
   ],
   "source": [
    "print(\"The average value of the chosen candidate in the uniform distribution: \\n\")\n",
    "print(\"FairPA: \", mean(a), \"(should be 0.501)\")\n",
    "print(\"FairIID: \", mean(b), \"(should be 0.661)\")\n",
    "print(\"SK: \", mean(c), \"(should be 0.499)\")\n",
    "print(\"EHKS: \", mean(d), \"(should be 0.631)\")\n",
    "print(\"SP: \", mean(e), \"(should be 0.751)\")"
   ]
  },
  {
   "cell_type": "markdown",
   "id": "7313d151",
   "metadata": {},
   "source": [
    "\n",
    "**Statement 1:** _In conclusion, for both settings, both our algorithms Algorithm 2 and Algorithm 3 provide perfect fairness, while giving 66.71% and 88.01% (for the uniform case), and 58.12% and 75.82% (for the binomial case), of the value of the optimal, but unfair, online algorithm._\n",
    "\n",
    "Here the unfair online algorihtm must either SC or EHKS, something else is not mentioned about online algorithms. Also in the codebase, the unfair algorithms refer to these. Thus we will take a look at both, and see if these results are replicable.\n"
   ]
  },
  {
   "cell_type": "code",
   "execution_count": 59,
   "id": "8afe3d61",
   "metadata": {},
   "outputs": [
    {
     "name": "stdout",
     "output_type": "stream",
     "text": [
      "Uniform case, for FairPA\n",
      "Assuming DP as the 'optimal, but unfair, online algorithm' : 66.34266377261507 %\n",
      "\n",
      " Uniform case, for FairIID\n",
      "Assuming DP as the 'optimal, but unfair, online algorithm' : 87.98962457482573 %\n"
     ]
    }
   ],
   "source": [
    "print(\"Uniform case, for FairPA\")\n",
    "print(\"Assuming DP as the 'optimal, but unfair, online algorithm' :\", mean(a) / mean(e) *100, \"%\")\n",
    "\n",
    "print(\"\\n Uniform case, for FairIID\")\n",
    "print(\"Assuming DP as the 'optimal, but unfair, online algorithm' :\", mean(b) / mean(e) *100, \"%\")\n",
    "\n"
   ]
  },
  {
   "cell_type": "markdown",
   "id": "144feeb5",
   "metadata": {},
   "source": [
    "Both of these approaches thus do not (nearly) approach the results as presented in the paper, and seem to be verifiable in Figure 2 in the paper. Thus, the question is raised which algorithm is used to calculate the percentages mentioned in **Statement 1**."
   ]
  },
  {
   "cell_type": "markdown",
   "id": "0b598245",
   "metadata": {},
   "source": [
    "## Binomial distribution"
   ]
  },
  {
   "cell_type": "code",
   "execution_count": 61,
   "id": "22dbaeb0",
   "metadata": {},
   "outputs": [
    {
     "name": "stderr",
     "output_type": "stream",
     "text": [
      "100%|██████████| 50000/50000 [2:09:56<00:00,  6.41it/s]     \n"
     ]
    }
   ],
   "source": [
    "arrivalPositionsChosenFairPA, FairPA_values = runExperiment(algorithm=\"FairGeneralProphet\", N_experimentReps=50000, \n",
    "                                                distribution_type=\"binomial\", n_candidates=1000)\n",
    "save('data/FairPA_positions.npy', arrivalPositionsChosenFairPA)\n",
    "save('data/FairPA_values.npy', FairPA_values)"
   ]
  },
  {
   "cell_type": "code",
   "execution_count": 63,
   "id": "a539bf8c",
   "metadata": {},
   "outputs": [
    {
     "name": "stderr",
     "output_type": "stream",
     "text": [
      "100%|██████████| 50000/50000 [1:24:04<00:00,  9.91it/s]\n"
     ]
    }
   ],
   "source": [
    "arrivalPositionsChosenFairIID, FairIID_values = runExperiment(algorithm=\"FairIIDProphet\", N_experimentReps=50000, \n",
    "                                                distribution_type=\"binomial\", n_candidates=1000)\n",
    "save('data/FairIID_positions.npy', arrivalPositionsChosenFairIID)\n",
    "save('data/FairIID_values.npy', FairIID_values)"
   ]
  },
  {
   "cell_type": "code",
   "execution_count": null,
   "id": "d701ef82",
   "metadata": {},
   "outputs": [],
   "source": [
    "# arrivalPositionsChosenSC, c = runExperiment(algorithm=\"SC\", N_experimentReps=5000, \n",
    "#                                                distribution_type=\"binomial\", n_candidates=400)"
   ]
  },
  {
   "cell_type": "code",
   "execution_count": 64,
   "id": "a489ca76",
   "metadata": {},
   "outputs": [
    {
     "name": "stderr",
     "output_type": "stream",
     "text": [
      "100%|██████████| 50000/50000 [1:27:20<00:00,  9.54it/s]  \n"
     ]
    }
   ],
   "source": [
    "arrivalPositionsChosenEHKS, EHKS_values = runExperiment(algorithm=\"EHKS\", N_experimentReps=50000, \n",
    "                                                distribution_type=\"binomial\", n_candidates=1000)\n",
    "\n",
    "save('data/EHKS_positions.npy', arrivalPositionsChosenEHKS)\n",
    "save('data/EHKS_values.npy', EHKS_values)"
   ]
  },
  {
   "cell_type": "code",
   "execution_count": 62,
   "id": "9ceceef1",
   "metadata": {},
   "outputs": [
    {
     "name": "stderr",
     "output_type": "stream",
     "text": [
      "100%|██████████| 50000/50000 [2:55:37<00:00,  4.75it/s]      \n"
     ]
    }
   ],
   "source": [
    "arrivalPositionsChosenDP, DP_values = runExperiment(algorithm=\"DP\", N_experimentReps=50000, \n",
    "                                                distribution_type=\"binomial\", n_candidates=1000)\n",
    "\n",
    "save('data/DP_positions.npy', arrivalPositionsChosenDP)\n",
    "save('data/DP_values.npy', DP_values)"
   ]
  },
  {
   "cell_type": "code",
   "execution_count": 67,
   "id": "91ec54fe",
   "metadata": {},
   "outputs": [
    {
     "data": {
      "image/png": "[encoded data removed]",
      "text/plain": [
       "<Figure size 432x288 with 1 Axes>"
      ]
     },
     "metadata": {
      "needs_background": "light"
     },
     "output_type": "display_data"
    }
   ],
   "source": [
    "plt.plot(range(0,1000), load('data/FairPA_positions.npy'), label=\"FairPA\")\n",
    "plt.plot(range(0,1000), load('data/FairIID_positions.npy'), label=\"Fair IID\")\n",
    "plt.plot(range(0,1000), load('data/EHKS_positions.npy'), label=\"EHKS\")\n",
    "#plt.plot(range(0,400), arrivalPositionsChosenSC, label=\"SC\")\n",
    "plt.plot(range(0,1000), load('data/DP_positions.npy'), label=\"DP\")\n",
    "plt.xlabel(\"Arrival position\")\n",
    "plt.ylabel(\"Num Picked\")\n",
    "plt.title(\"Binomial distribution with 1k candidates, and 50k experiments\")\n",
    "plt.legend(loc=\"upper right\")\n",
    "plt.savefig(\"binomial.png\")"
   ]
  },
  {
   "cell_type": "code",
   "execution_count": null,
   "id": "292ac1a5",
   "metadata": {},
   "outputs": [],
   "source": []
  }
 ],
 "metadata": {
  "jupytext": {
   "encoding": "# -*- coding: utf-8 -*-",
   "text_representation": {
    "extension": ".py",
    "format_name": "percent",
    "format_version": "1.3",
    "jupytext_version": "1.12.0"
   }
  },
  "kernelspec": {
   "display_name": "Python 3",
   "language": "python",
   "name": "python3"
  },
  "language_info": {
   "codemirror_mode": {
    "name": "ipython",
    "version": 3
   },
   "file_extension": ".py",
   "mimetype": "text/x-python",
   "name": "python",
   "nbconvert_exporter": "python",
   "pygments_lexer": "ipython3",
   "version": "3.8.8"
  }
 },
 "nbformat": 4,
 "nbformat_minor": 5
}
