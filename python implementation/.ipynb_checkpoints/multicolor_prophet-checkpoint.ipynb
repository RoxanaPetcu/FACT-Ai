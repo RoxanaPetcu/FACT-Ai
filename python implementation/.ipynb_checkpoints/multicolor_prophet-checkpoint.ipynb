{
 "cells": [
  {
   "cell_type": "markdown",
   "id": "2cc6aa5d",
   "metadata": {},
   "source": [
    "# The Multi-Color Prophet Problem notebook"
   ]
  },
  {
   "cell_type": "code",
   "execution_count": 2,
   "id": "973cb68b",
   "metadata": {},
   "outputs": [],
   "source": [
    "import numpy as np\n",
    "import matplotlib as plt"
   ]
  },
  {
   "cell_type": "markdown",
   "id": "3985e883",
   "metadata": {},
   "source": [
    "## The two algorithms presented in the paper"
   ]
  },
  {
   "cell_type": "code",
   "execution_count": null,
   "id": "dc5d578f",
   "metadata": {},
   "outputs": [],
   "source": [
    "\"\"\"\n",
    "\n",
    "\"\"\"\n",
    "\n",
    "def FairGeneralProphet (F, q, V):\n",
    "    s = 0\n",
    "    for i in range(0,len(V)):\n",
    "        ## Is this the correct implementation of F^-1\n",
    "        if V[i] >= np.power(F[i], -1)*(1- (q[i]/2)/(1-(s/2))):\n",
    "            return i\n",
    "        s += q[i]\n"
   ]
  },
  {
   "cell_type": "code",
   "execution_count": null,
   "id": "d474be02",
   "metadata": {},
   "outputs": [],
   "source": [
    "def FairIIDProphet(F, V):\n",
    "    for i in range(0, len(V)):\n",
    "        if V[i] >= 1 - ((2/3*len(V))/(1-2*(i-1)/3*len(V))):\n",
    "            return i"
   ]
  },
  {
   "cell_type": "markdown",
   "id": "0cc731ac",
   "metadata": {},
   "source": [
    "## The mentioned baseline algorithms"
   ]
  },
  {
   "cell_type": "code",
   "execution_count": null,
   "id": "487e6d94",
   "metadata": {},
   "outputs": [],
   "source": []
  }
 ],
 "metadata": {
  "kernelspec": {
   "display_name": "Python 3",
   "language": "python",
   "name": "python3"
  },
  "language_info": {
   "codemirror_mode": {
    "name": "ipython",
    "version": 3
   },
   "file_extension": ".py",
   "mimetype": "text/x-python",
   "name": "python",
   "nbconvert_exporter": "python",
   "pygments_lexer": "ipython3",
   "version": "3.8.8"
  }
 },
 "nbformat": 4,
 "nbformat_minor": 5
}
