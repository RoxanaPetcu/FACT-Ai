{
 "cells": [
  {
   "cell_type": "code",
   "execution_count": 1,
   "id": "8c4bba56",
   "metadata": {},
   "outputs": [],
   "source": [
    "import numpy as np"
   ]
  },
  {
   "cell_type": "code",
   "execution_count": 2,
   "id": "689f888b",
   "metadata": {},
   "outputs": [],
   "source": [
    "# n = 7  #number of 'coin tosses' \n",
    "# p = 0.5 #probability of coin succeeding\n",
    "\n",
    "\n",
    "# # creating 'choose' variable -> number of combinations per number of successes\n",
    "# choose = np.zeros((n+1,n+1))\n",
    "# for i in range(n+1):\n",
    "#     choose[i,0] = 1\n",
    "\n",
    "# for i in range(1,n+1):\n",
    "#     for j in range(1,n+1):\n",
    "#         choose[i,j] = choose[i-1,j-1] + choose[i-1,j]\n",
    "        \n",
    "# n_combinations = choose[-1]\n",
    "\n",
    "# # print('total number of options:',np.sum(n_combinations))\n",
    "# # print('number of options choose per success score:',n_combinations)\n",
    "\n",
    "# probability = np.ones((n+1)) #probability of n successes\n",
    "# r_probability = np.ones((n+1)) #reverse probability of n failures\n",
    "\n",
    "# for i in range(1,n+1):\n",
    "#     probability[i] = probability[i - 1] * p\n",
    "#     r_probability[i] = r_probability[i - 1] * (1 - p);\n",
    "\n",
    "# print('probability of n successes:',probability)\n",
    "# print('probability of n failures:',r_probability)"
   ]
  },
  {
   "cell_type": "code",
   "execution_count": 8,
   "id": "b6862691",
   "metadata": {},
   "outputs": [
    {
     "data": {
      "text/plain": [
       "0.8"
      ]
     },
     "execution_count": 8,
     "metadata": {},
     "output_type": "execute_result"
    }
   ],
   "source": [
    "elements = [0.1,0.2,0.3,0.4,0.5,0.6,0.8] #candidates/elements/tries\n",
    "\n",
    "\n",
    "# print(middle)\n",
    "\n",
    "\n",
    "def middleBinomial(n):\n",
    "    # n = number of 'coin tosses' \n",
    "    p = 0.5 #probability of coin succeeding\n",
    "    choose = np.zeros((n+1,n+1)) # creating 'choose' variable -> number of combinations per number of successes\n",
    "    for i in range(n+1):\n",
    "        choose[i,0] = 1\n",
    "\n",
    "    for i in range(1,n+1):\n",
    "        for j in range(1,n+1):\n",
    "            choose[i,j] = choose[i-1,j-1] + choose[i-1,j]\n",
    "\n",
    "    n_combinations = choose[-1]\n",
    "    probability = np.ones((n+1)) #probability of n successes\n",
    "    r_probability = np.ones((n+1)) #reverse probability of n failures\n",
    "\n",
    "    for i in range(1,n+1):\n",
    "        probability[i] = probability[i - 1] * p\n",
    "        r_probability[i] = r_probability[i - 1] * (1 - p);\n",
    "        \n",
    "        \n",
    "    #max dist --> chance of getting at least certain amount of successes after all candidates\n",
    "    x = n_combinations * probability * np.flip(r_probability) #calculating p of i successes in one try, by multiplying the p of this many successes, this many failures and all combinations in which they could have occurred\n",
    "    x_cum = np.flip(np.cumsum(np.flip(x))) #calculating cumulative probability (p of getting at least i successes in one try)\n",
    "    max_dist = 1 - pow(1-x_cum, len(elements)) #p of getting i successes after certain amount of tries\n",
    "\n",
    "    #middle --> find highest number of successes where probability of reaching at least that is more than 0.5\n",
    "    for i in np.arange(len(max_dist)-1, -1,-1):\n",
    "        if max_dist[i] >= 0.5:\n",
    "            middle = i / n ### question: binomial data comes in absolute n successes or fraction of total tries ??? ###\n",
    "            break\n",
    "        if i == 0.0:\n",
    "            middle = 0\n",
    "    return middle\n",
    "\n",
    "    \n",
    "    \n",
    "\n",
    "def compute_solution_onehalf(elements):\n",
    "    for i,element in enumerate(elements):\n",
    "        if elements[i] >= middleBinomial(len(elements)):\n",
    "            return element\n",
    "    return None\n",
    "        \n",
    "\n",
    "compute_solution_onehalf(elements)"
   ]
  },
  {
   "cell_type": "code",
   "execution_count": null,
   "id": "db20d7f8",
   "metadata": {},
   "outputs": [],
   "source": []
  }
 ],
 "metadata": {
  "kernelspec": {
   "display_name": "Python 3",
   "language": "python",
   "name": "python3"
  },
  "language_info": {
   "codemirror_mode": {
    "name": "ipython",
    "version": 3
   },
   "file_extension": ".py",
   "mimetype": "text/x-python",
   "name": "python",
   "nbconvert_exporter": "python",
   "pygments_lexer": "ipython3",
   "version": "3.8.8"
  }
 },
 "nbformat": 4,
 "nbformat_minor": 5
}
