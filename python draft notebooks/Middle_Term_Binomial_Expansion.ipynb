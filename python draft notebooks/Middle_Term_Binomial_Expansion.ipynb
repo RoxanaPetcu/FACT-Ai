{
 "cells": [
  {
   "cell_type": "code",
   "execution_count": 1,
   "id": "17b18e4d",
   "metadata": {},
   "outputs": [
    {
     "name": "stdout",
     "output_type": "stream",
     "text": [
      "MiddleTerm = 8.154858485442629e+267\n"
     ]
    }
   ],
   "source": [
    "import math\n",
    " \n",
    "\n",
    "# factorial of a number\n",
    "def factorial(n) :\n",
    "     \n",
    "    fact = 1\n",
    "    for i in range(1, n+1) :\n",
    "        fact = fact * i\n",
    " \n",
    "    return fact;\n",
    " \n",
    "# Function to find middle term in\n",
    "# binomial expansion series.\n",
    "def findMiddleTerm(A, X, n) :\n",
    " \n",
    "    if (n % 2 == 0) :\n",
    "         \n",
    "        # If n is even\n",
    "         \n",
    "        # calculating the middle term\n",
    "        i = int(n / 2)\n",
    " \n",
    "        # calculating the value of A to\n",
    "        # the power k and X to the power k\n",
    "        aPow = int(math.pow(A, n - i))\n",
    "        xPow = int(math.pow(X, i))\n",
    " \n",
    "        middleTerm1 = ((math.factorial(n) /\n",
    "                       (math.factorial(n - i)\n",
    "                       * math.factorial(i)))\n",
    "                       * aPow * xPow)\n",
    "                                 \n",
    "        print (\"MiddleTerm = {}\" .\n",
    "                     format(middleTerm1))\n",
    " \n",
    "    else :\n",
    " \n",
    "        # If n is odd\n",
    "         \n",
    "        # calculating the middle term\n",
    "        i = int((n - 1) / 2)\n",
    "        j = int((n + 1) / 2)\n",
    " \n",
    "        # calculating the value of A to the\n",
    "        # power k and X to the power k\n",
    "        aPow = int(math.pow(A, n - i))\n",
    "        xPow = int(math.pow(X, i))\n",
    " \n",
    "        middleTerm1 = ((math.factorial(n)\n",
    "                    / (math.factorial(n - i)\n",
    "                    * math.factorial(i)))\n",
    "                        * aPow * xPow)\n",
    " \n",
    "        # calculating the value of A to the\n",
    "        # power k and X to the power k\n",
    "        aPow = int(math.pow(A, n - j))\n",
    "        xPow = int(math.pow(X, j))\n",
    " \n",
    "        middleTerm2 = ((math.factorial(n)\n",
    "                   / (math.factorial(n - j)\n",
    "                   * math.factorial(j)))\n",
    "                      * aPow * xPow)\n",
    " \n",
    "        print (\"MiddleTerm1 = {}\" .\n",
    "               format(int(middleTerm1)))\n",
    "                         \n",
    "        print (\"MiddleTerm2 = {}\" .\n",
    "               format(int(middleTerm2)))\n",
    "\n",
    "n = 100\n",
    "A = 200\n",
    "X = 300\n",
    " \n",
    "# function call\n",
    "findMiddleTerm(A, X, n)"
   ]
  },
  {
   "cell_type": "code",
   "execution_count": null,
   "id": "7d11984b",
   "metadata": {},
   "outputs": [],
   "source": []
  }
 ],
 "metadata": {
  "kernelspec": {
   "display_name": "Python 3",
   "language": "python",
   "name": "python3"
  },
  "language_info": {
   "codemirror_mode": {
    "name": "ipython",
    "version": 3
   },
   "file_extension": ".py",
   "mimetype": "text/x-python",
   "name": "python",
   "nbconvert_exporter": "python",
   "pygments_lexer": "ipython3",
   "version": "3.8.8"
  }
 },
 "nbformat": 4,
 "nbformat_minor": 5
}
